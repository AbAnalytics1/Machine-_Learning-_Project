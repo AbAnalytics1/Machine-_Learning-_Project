{
 "cells": [
  {
   "cell_type": "code",
   "execution_count": 144,
   "id": "a60c4da1",
   "metadata": {},
   "outputs": [],
   "source": [
    "import pandas as pd \n",
    "import seaborn as sns\n",
    "import matplotlib.pyplot as plt"
   ]
  },
  {
   "cell_type": "code",
   "execution_count": 145,
   "id": "bf65ca17",
   "metadata": {
    "scrolled": true
   },
   "outputs": [
    {
     "data": {
      "text/html": [
       "<div>\n",
       "<style scoped>\n",
       "    .dataframe tbody tr th:only-of-type {\n",
       "        vertical-align: middle;\n",
       "    }\n",
       "\n",
       "    .dataframe tbody tr th {\n",
       "        vertical-align: top;\n",
       "    }\n",
       "\n",
       "    .dataframe thead th {\n",
       "        text-align: right;\n",
       "    }\n",
       "</style>\n",
       "<table border=\"1\" class=\"dataframe\">\n",
       "  <thead>\n",
       "    <tr style=\"text-align: right;\">\n",
       "      <th></th>\n",
       "      <th>ReportAsOfEOD</th>\n",
       "      <th>LoanId</th>\n",
       "      <th>LoanNumber</th>\n",
       "      <th>ListedOnUTC</th>\n",
       "      <th>BiddingStartedOn</th>\n",
       "      <th>BidsPortfolioManager</th>\n",
       "      <th>BidsApi</th>\n",
       "      <th>BidsManual</th>\n",
       "      <th>PartyId</th>\n",
       "      <th>NewCreditCustomer</th>\n",
       "      <th>...</th>\n",
       "      <th>PreviousEarlyRepaymentsCountBeforeLoan</th>\n",
       "      <th>GracePeriodStart</th>\n",
       "      <th>GracePeriodEnd</th>\n",
       "      <th>NextPaymentDate</th>\n",
       "      <th>NextPaymentNr</th>\n",
       "      <th>NrOfScheduledPayments</th>\n",
       "      <th>ReScheduledOn</th>\n",
       "      <th>PrincipalDebtServicingCost</th>\n",
       "      <th>InterestAndPenaltyDebtServicingCost</th>\n",
       "      <th>ActiveLateLastPaymentCategory</th>\n",
       "    </tr>\n",
       "  </thead>\n",
       "  <tbody>\n",
       "    <tr>\n",
       "      <th>0</th>\n",
       "      <td>2022-06-11</td>\n",
       "      <td>66AE108B-532B-4BB3-BAB7-0019A46412C1</td>\n",
       "      <td>483449</td>\n",
       "      <td>2016-03-23 16:07:19</td>\n",
       "      <td>2016-03-23 16:07:19</td>\n",
       "      <td>970</td>\n",
       "      <td>1150.0</td>\n",
       "      <td>5.0</td>\n",
       "      <td>{EBF05573-554D-4A3B-BC77-A2CF00B7D110}</td>\n",
       "      <td>False</td>\n",
       "      <td>...</td>\n",
       "      <td>0.0</td>\n",
       "      <td>2019-10-28</td>\n",
       "      <td>2020-01-27</td>\n",
       "      <td>NaN</td>\n",
       "      <td>NaN</td>\n",
       "      <td>NaN</td>\n",
       "      <td>NaN</td>\n",
       "      <td>0.00</td>\n",
       "      <td>63.11</td>\n",
       "      <td>16-30</td>\n",
       "    </tr>\n",
       "    <tr>\n",
       "      <th>1</th>\n",
       "      <td>2022-06-11</td>\n",
       "      <td>A6635EA6-2F39-4DEA-AA3B-001C9521BE7C</td>\n",
       "      <td>2819530</td>\n",
       "      <td>2022-05-31 15:11:34</td>\n",
       "      <td>2022-05-31 18:11:34</td>\n",
       "      <td>16</td>\n",
       "      <td>0.0</td>\n",
       "      <td>0.0</td>\n",
       "      <td>{F6507F91-F992-41FA-BB4C-AC37009B3E58}</td>\n",
       "      <td>False</td>\n",
       "      <td>...</td>\n",
       "      <td>0.0</td>\n",
       "      <td>NaN</td>\n",
       "      <td>NaN</td>\n",
       "      <td>2022-07-11</td>\n",
       "      <td>2.0</td>\n",
       "      <td>60.0</td>\n",
       "      <td>NaN</td>\n",
       "      <td>NaN</td>\n",
       "      <td>NaN</td>\n",
       "      <td>NaN</td>\n",
       "    </tr>\n",
       "    <tr>\n",
       "      <th>2</th>\n",
       "      <td>2022-06-11</td>\n",
       "      <td>D152382E-A50D-46ED-8FF2-0053E0C86A70</td>\n",
       "      <td>378148</td>\n",
       "      <td>2015-06-25 11:02:28</td>\n",
       "      <td>2015-06-25 11:02:28</td>\n",
       "      <td>1295</td>\n",
       "      <td>0.0</td>\n",
       "      <td>1705.0</td>\n",
       "      <td>{46C6CBA4-0FBE-44AD-9304-A3EF0111A5FB}</td>\n",
       "      <td>False</td>\n",
       "      <td>...</td>\n",
       "      <td>1.0</td>\n",
       "      <td>NaN</td>\n",
       "      <td>NaN</td>\n",
       "      <td>NaN</td>\n",
       "      <td>NaN</td>\n",
       "      <td>NaN</td>\n",
       "      <td>NaN</td>\n",
       "      <td>0.00</td>\n",
       "      <td>136.62</td>\n",
       "      <td>16-30</td>\n",
       "    </tr>\n",
       "    <tr>\n",
       "      <th>3</th>\n",
       "      <td>2022-06-11</td>\n",
       "      <td>87342E13-66CB-483F-833A-007953E50C78</td>\n",
       "      <td>451831</td>\n",
       "      <td>2016-01-14 10:00:21</td>\n",
       "      <td>2016-01-14 10:00:21</td>\n",
       "      <td>2700</td>\n",
       "      <td>565.0</td>\n",
       "      <td>5835.0</td>\n",
       "      <td>{CA64DA9B-8E95-450E-9EFE-A58601016DB2}</td>\n",
       "      <td>True</td>\n",
       "      <td>...</td>\n",
       "      <td>0.0</td>\n",
       "      <td>NaN</td>\n",
       "      <td>NaN</td>\n",
       "      <td>NaN</td>\n",
       "      <td>NaN</td>\n",
       "      <td>NaN</td>\n",
       "      <td>NaN</td>\n",
       "      <td>259.67</td>\n",
       "      <td>1659.60</td>\n",
       "      <td>180+</td>\n",
       "    </tr>\n",
       "    <tr>\n",
       "      <th>4</th>\n",
       "      <td>2022-06-11</td>\n",
       "      <td>87227056-6BF9-410C-98D1-008F788E122A</td>\n",
       "      <td>349381</td>\n",
       "      <td>2015-03-24 15:55:44</td>\n",
       "      <td>2015-03-24 15:55:44</td>\n",
       "      <td>1115</td>\n",
       "      <td>0.0</td>\n",
       "      <td>385.0</td>\n",
       "      <td>{F08F654D-DB2E-4C4B-8C90-A46100FCE7B6}</td>\n",
       "      <td>True</td>\n",
       "      <td>...</td>\n",
       "      <td>1.0</td>\n",
       "      <td>NaN</td>\n",
       "      <td>NaN</td>\n",
       "      <td>NaN</td>\n",
       "      <td>NaN</td>\n",
       "      <td>NaN</td>\n",
       "      <td>NaN</td>\n",
       "      <td>0.00</td>\n",
       "      <td>215.05</td>\n",
       "      <td>180+</td>\n",
       "    </tr>\n",
       "  </tbody>\n",
       "</table>\n",
       "<p>5 rows × 112 columns</p>\n",
       "</div>"
      ],
      "text/plain": [
       "  ReportAsOfEOD                                LoanId  LoanNumber  \\\n",
       "0    2022-06-11  66AE108B-532B-4BB3-BAB7-0019A46412C1      483449   \n",
       "1    2022-06-11  A6635EA6-2F39-4DEA-AA3B-001C9521BE7C     2819530   \n",
       "2    2022-06-11  D152382E-A50D-46ED-8FF2-0053E0C86A70      378148   \n",
       "3    2022-06-11  87342E13-66CB-483F-833A-007953E50C78      451831   \n",
       "4    2022-06-11  87227056-6BF9-410C-98D1-008F788E122A      349381   \n",
       "\n",
       "           ListedOnUTC     BiddingStartedOn  BidsPortfolioManager  BidsApi  \\\n",
       "0  2016-03-23 16:07:19  2016-03-23 16:07:19                   970   1150.0   \n",
       "1  2022-05-31 15:11:34  2022-05-31 18:11:34                    16      0.0   \n",
       "2  2015-06-25 11:02:28  2015-06-25 11:02:28                  1295      0.0   \n",
       "3  2016-01-14 10:00:21  2016-01-14 10:00:21                  2700    565.0   \n",
       "4  2015-03-24 15:55:44  2015-03-24 15:55:44                  1115      0.0   \n",
       "\n",
       "   BidsManual                                 PartyId  NewCreditCustomer  ...  \\\n",
       "0         5.0  {EBF05573-554D-4A3B-BC77-A2CF00B7D110}              False  ...   \n",
       "1         0.0  {F6507F91-F992-41FA-BB4C-AC37009B3E58}              False  ...   \n",
       "2      1705.0  {46C6CBA4-0FBE-44AD-9304-A3EF0111A5FB}              False  ...   \n",
       "3      5835.0  {CA64DA9B-8E95-450E-9EFE-A58601016DB2}               True  ...   \n",
       "4       385.0  {F08F654D-DB2E-4C4B-8C90-A46100FCE7B6}               True  ...   \n",
       "\n",
       "  PreviousEarlyRepaymentsCountBeforeLoan GracePeriodStart GracePeriodEnd  \\\n",
       "0                                    0.0       2019-10-28     2020-01-27   \n",
       "1                                    0.0              NaN            NaN   \n",
       "2                                    1.0              NaN            NaN   \n",
       "3                                    0.0              NaN            NaN   \n",
       "4                                    1.0              NaN            NaN   \n",
       "\n",
       "  NextPaymentDate NextPaymentNr NrOfScheduledPayments  ReScheduledOn  \\\n",
       "0             NaN           NaN                   NaN            NaN   \n",
       "1      2022-07-11           2.0                  60.0            NaN   \n",
       "2             NaN           NaN                   NaN            NaN   \n",
       "3             NaN           NaN                   NaN            NaN   \n",
       "4             NaN           NaN                   NaN            NaN   \n",
       "\n",
       "   PrincipalDebtServicingCost  InterestAndPenaltyDebtServicingCost  \\\n",
       "0                        0.00                                63.11   \n",
       "1                         NaN                                  NaN   \n",
       "2                        0.00                               136.62   \n",
       "3                      259.67                              1659.60   \n",
       "4                        0.00                               215.05   \n",
       "\n",
       "   ActiveLateLastPaymentCategory  \n",
       "0                          16-30  \n",
       "1                            NaN  \n",
       "2                          16-30  \n",
       "3                           180+  \n",
       "4                           180+  \n",
       "\n",
       "[5 rows x 112 columns]"
      ]
     },
     "execution_count": 145,
     "metadata": {},
     "output_type": "execute_result"
    }
   ],
   "source": [
    "df = pd.read_csv('LoanData.csv', low_memory=False)\n",
    "df.head()"
   ]
  },
  {
   "cell_type": "code",
   "execution_count": 146,
   "id": "5b38f3dd",
   "metadata": {},
   "outputs": [
    {
     "data": {
      "text/plain": [
       "240440"
      ]
     },
     "execution_count": 146,
     "metadata": {},
     "output_type": "execute_result"
    }
   ],
   "source": [
    "len(df)"
   ]
  },
  {
   "cell_type": "code",
   "execution_count": 147,
   "id": "09d5ca30",
   "metadata": {},
   "outputs": [
    {
     "name": "stdout",
     "output_type": "stream",
     "text": [
      "<class 'pandas.core.frame.DataFrame'>\n",
      "RangeIndex: 240440 entries, 0 to 240439\n",
      "Data columns (total 112 columns):\n",
      " #    Column                                  Non-Null Count   Dtype  \n",
      "---   ------                                  --------------   -----  \n",
      " 0    ReportAsOfEOD                           240440 non-null  object \n",
      " 1    LoanId                                  240440 non-null  object \n",
      " 2    LoanNumber                              240440 non-null  int64  \n",
      " 3    ListedOnUTC                             240440 non-null  object \n",
      " 4    BiddingStartedOn                        240440 non-null  object \n",
      " 5    BidsPortfolioManager                    240440 non-null  int64  \n",
      " 6    BidsApi                                 240440 non-null  float64\n",
      " 7    BidsManual                              240440 non-null  float64\n",
      " 8    PartyId                                 240440 non-null  object \n",
      " 9    NewCreditCustomer                       240440 non-null  bool   \n",
      " 10   LoanApplicationStartedDate              240440 non-null  object \n",
      " 11   LoanDate                                240440 non-null  object \n",
      " 12   ContractEndDate                         102998 non-null  object \n",
      " 13   FirstPaymentDate                        240440 non-null  object \n",
      " 14   MaturityDate_Original                   240440 non-null  object \n",
      " 15   MaturityDate_Last                       240440 non-null  object \n",
      " 16   ApplicationSignedHour                   240440 non-null  int64  \n",
      " 17   ApplicationSignedWeekday                240440 non-null  int64  \n",
      " 18   VerificationType                        240390 non-null  float64\n",
      " 19   LanguageCode                            240440 non-null  int64  \n",
      " 20   Age                                     240440 non-null  int64  \n",
      " 21   DateOfBirth                             0 non-null       float64\n",
      " 22   Gender                                  240395 non-null  float64\n",
      " 23   Country                                 240440 non-null  object \n",
      " 24   AppliedAmount                           240440 non-null  float64\n",
      " 25   Amount                                  240440 non-null  float64\n",
      " 26   Interest                                240440 non-null  float64\n",
      " 27   LoanDuration                            240440 non-null  int64  \n",
      " 28   MonthlyPayment                          233750 non-null  float64\n",
      " 29   County                                  0 non-null       float64\n",
      " 30   City                                    0 non-null       float64\n",
      " 31   UseOfLoan                               240440 non-null  int64  \n",
      " 32   Education                               240390 non-null  float64\n",
      " 33   MaritalStatus                           240390 non-null  float64\n",
      " 34   NrOfDependants                          35600 non-null   object \n",
      " 35   EmploymentStatus                        240238 non-null  float64\n",
      " 36   EmploymentDurationCurrentEmployer       237082 non-null  object \n",
      " 37   EmploymentPosition                      0 non-null       float64\n",
      " 38   WorkExperience                          36522 non-null   object \n",
      " 39   OccupationArea                          240349 non-null  float64\n",
      " 40   HomeOwnershipType                       238783 non-null  float64\n",
      " 41   IncomeFromPrincipalEmployer             240440 non-null  float64\n",
      " 42   IncomeFromPension                       240440 non-null  float64\n",
      " 43   IncomeFromFamilyAllowance               240440 non-null  float64\n",
      " 44   IncomeFromSocialWelfare                 240440 non-null  float64\n",
      " 45   IncomeFromLeavePay                      240440 non-null  float64\n",
      " 46   IncomeFromChildSupport                  240440 non-null  float64\n",
      " 47   IncomeOther                             240440 non-null  float64\n",
      " 48   IncomeTotal                             240440 non-null  float64\n",
      " 49   ExistingLiabilities                     240440 non-null  int64  \n",
      " 50   LiabilitiesTotal                        240440 non-null  float64\n",
      " 51   RefinanceLiabilities                    240440 non-null  int64  \n",
      " 52   DebtToIncome                            240390 non-null  float64\n",
      " 53   FreeCash                                240390 non-null  float64\n",
      " 54   MonthlyPaymentDay                       240440 non-null  int64  \n",
      " 55   ActiveScheduleFirstPaymentReached       240440 non-null  bool   \n",
      " 56   PlannedPrincipalTillDate                54464 non-null   float64\n",
      " 57   PlannedInterestTillDate                 234967 non-null  float64\n",
      " 58   LastPaymentOn                           232582 non-null  object \n",
      " 59   CurrentDebtDaysPrimary                  87696 non-null   float64\n",
      " 60   DebtOccuredOn                           87696 non-null   object \n",
      " 61   CurrentDebtDaysSecondary                96449 non-null   float64\n",
      " 62   DebtOccuredOnForSecondary               96449 non-null   object \n",
      " 63   ExpectedLoss                            237801 non-null  float64\n",
      " 64   LossGivenDefault                        237801 non-null  float64\n",
      " 65   ExpectedReturn                          237801 non-null  float64\n",
      " 66   ProbabilityOfDefault                    237801 non-null  float64\n",
      " 67   DefaultDate                             81317 non-null   object \n",
      " 68   PrincipalOverdueBySchedule              225594 non-null  float64\n",
      " 69   PlannedPrincipalPostDefault             81316 non-null   float64\n",
      " 70   PlannedInterestPostDefault              81316 non-null   float64\n",
      " 71   EAD1                                    81315 non-null   float64\n",
      " 72   EAD2                                    81315 non-null   float64\n",
      " 73   PrincipalRecovery                       81316 non-null   float64\n",
      " 74   InterestRecovery                        81316 non-null   float64\n",
      " 75   RecoveryStage                           140663 non-null  float64\n",
      " 76   StageActiveSince                        149144 non-null  object \n",
      " 77   ModelVersion                            237801 non-null  float64\n",
      " 78   Rating                                  237707 non-null  object \n",
      " 79   EL_V0                                   4569 non-null    float64\n",
      " 80   Rating_V0                               4569 non-null    object \n",
      " 81   EL_V1                                   12924 non-null   float64\n",
      " 82   Rating_V1                               12924 non-null   object \n",
      " 83   Rating_V2                               25143 non-null   object \n",
      " 84   Status                                  240440 non-null  object \n",
      " 85   Restructured                            240440 non-null  bool   \n",
      " 86   ActiveLateCategory                      86551 non-null   object \n",
      " 87   WorseLateCategory                       157405 non-null  object \n",
      " 88   CreditScoreEsMicroL                     208384 non-null  object \n",
      " 89   CreditScoreEsEquifaxRisk                12219 non-null   object \n",
      " 90   CreditScoreFiAsiakasTietoRiskGrade      75229 non-null   object \n",
      " 91   CreditScoreEeMini                       131533 non-null  float64\n",
      " 92   PrincipalPaymentsMade                   240440 non-null  float64\n",
      " 93   InterestAndPenaltyPaymentsMade          240440 non-null  float64\n",
      " 94   PrincipalWriteOffs                      87115 non-null   float64\n",
      " 95   InterestAndPenaltyWriteOffs             87115 non-null   float64\n",
      " 96   PrincipalBalance                        240440 non-null  float64\n",
      " 97   InterestAndPenaltyBalance               174016 non-null  float64\n",
      " 98   NoOfPreviousLoansBeforeLoan             240432 non-null  float64\n",
      " 99   AmountOfPreviousLoansBeforeLoan         240432 non-null  float64\n",
      " 100  PreviousRepaymentsBeforeLoan            151222 non-null  float64\n",
      " 101  PreviousEarlyRepaymentsBefoleLoan       59711 non-null   float64\n",
      " 102  PreviousEarlyRepaymentsCountBeforeLoan  240432 non-null  float64\n",
      " 103  GracePeriodStart                        60599 non-null   object \n",
      " 104  GracePeriodEnd                          60599 non-null   object \n",
      " 105  NextPaymentDate                         96947 non-null   object \n",
      " 106  NextPaymentNr                           142680 non-null  float64\n",
      " 107  NrOfScheduledPayments                   142680 non-null  float64\n",
      " 108  ReScheduledOn                           89746 non-null   object \n",
      " 109  PrincipalDebtServicingCost              87115 non-null   float64\n",
      " 110  InterestAndPenaltyDebtServicingCost     87115 non-null   float64\n",
      " 111  ActiveLateLastPaymentCategory           96449 non-null   object \n",
      "dtypes: bool(3), float64(63), int64(11), object(35)\n",
      "memory usage: 200.6+ MB\n"
     ]
    }
   ],
   "source": [
    "df.info(verbose=True, show_counts=True)"
   ]
  },
  {
   "cell_type": "code",
   "execution_count": 148,
   "id": "2afd2f11",
   "metadata": {},
   "outputs": [
    {
     "data": {
      "text/plain": [
       "ReportAsOfEOD                                  1\n",
       "LoanId                                    240440\n",
       "LoanNumber                                240440\n",
       "ListedOnUTC                               239171\n",
       "BiddingStartedOn                          239172\n",
       "BidsPortfolioManager                        5814\n",
       "BidsApi                                     1287\n",
       "BidsManual                                  4461\n",
       "PartyId                                   111401\n",
       "NewCreditCustomer                              2\n",
       "LoanApplicationStartedDate                239304\n",
       "LoanDate                                    4367\n",
       "ContractEndDate                             4670\n",
       "FirstPaymentDate                            2691\n",
       "MaturityDate_Original                       3859\n",
       "MaturityDate_Last                           4630\n",
       "ApplicationSignedHour                         24\n",
       "ApplicationSignedWeekday                       7\n",
       "VerificationType                               5\n",
       "LanguageCode                                  13\n",
       "Age                                           62\n",
       "DateOfBirth                                    0\n",
       "Gender                                         3\n",
       "Country                                        4\n",
       "AppliedAmount                               2124\n",
       "Amount                                      7177\n",
       "Interest                                    7030\n",
       "LoanDuration                                  50\n",
       "MonthlyPayment                             29015\n",
       "County                                         0\n",
       "City                                           0\n",
       "UseOfLoan                                     17\n",
       "Education                                      7\n",
       "MaritalStatus                                  7\n",
       "NrOfDependants                                11\n",
       "EmploymentStatus                               7\n",
       "EmploymentDurationCurrentEmployer              9\n",
       "EmploymentPosition                             0\n",
       "WorkExperience                                 6\n",
       "OccupationArea                                21\n",
       "HomeOwnershipType                             12\n",
       "IncomeFromPrincipalEmployer                 2922\n",
       "IncomeFromPension                           1113\n",
       "IncomeFromFamilyAllowance                    339\n",
       "IncomeFromSocialWelfare                      401\n",
       "IncomeFromLeavePay                           367\n",
       "IncomeFromChildSupport                       193\n",
       "IncomeOther                                  583\n",
       "IncomeTotal                                 5023\n",
       "ExistingLiabilities                           39\n",
       "LiabilitiesTotal                           69684\n",
       "RefinanceLiabilities                          21\n",
       "DebtToIncome                                6789\n",
       "FreeCash                                   23658\n",
       "MonthlyPaymentDay                             32\n",
       "ActiveScheduleFirstPaymentReached              2\n",
       "PlannedPrincipalTillDate                   30407\n",
       "PlannedInterestTillDate                    80998\n",
       "LastPaymentOn                               3738\n",
       "CurrentDebtDaysPrimary                      2110\n",
       "DebtOccuredOn                               2110\n",
       "CurrentDebtDaysSecondary                    2130\n",
       "DebtOccuredOnForSecondary                   2130\n",
       "ExpectedLoss                               52446\n",
       "LossGivenDefault                            6241\n",
       "ExpectedReturn                             59737\n",
       "ProbabilityOfDefault                       28905\n",
       "DefaultDate                                 2144\n",
       "PrincipalOverdueBySchedule                 53973\n",
       "PlannedPrincipalPostDefault                58534\n",
       "PlannedInterestPostDefault                 59568\n",
       "EAD1                                       57942\n",
       "EAD2                                       65171\n",
       "PrincipalRecovery                          41871\n",
       "InterestRecovery                            1027\n",
       "RecoveryStage                                  3\n",
       "StageActiveSince                           87235\n",
       "ModelVersion                                   8\n",
       "Rating                                         8\n",
       "EL_V0                                       1203\n",
       "Rating_V0                                      8\n",
       "EL_V1                                       1915\n",
       "Rating_V1                                      8\n",
       "Rating_V2                                      8\n",
       "Status                                         3\n",
       "Restructured                                   2\n",
       "ActiveLateCategory                             9\n",
       "WorseLateCategory                              9\n",
       "CreditScoreEsMicroL                           11\n",
       "CreditScoreEsEquifaxRisk                       6\n",
       "CreditScoreFiAsiakasTietoRiskGrade            14\n",
       "CreditScoreEeMini                              7\n",
       "PrincipalPaymentsMade                      89165\n",
       "InterestAndPenaltyPaymentsMade            103490\n",
       "PrincipalWriteOffs                         16208\n",
       "InterestAndPenaltyWriteOffs                14840\n",
       "PrincipalBalance                          107358\n",
       "InterestAndPenaltyBalance                  60552\n",
       "NoOfPreviousLoansBeforeLoan                   75\n",
       "AmountOfPreviousLoansBeforeLoan            17645\n",
       "PreviousRepaymentsBeforeLoan               77273\n",
       "PreviousEarlyRepaymentsBefoleLoan            646\n",
       "PreviousEarlyRepaymentsCountBeforeLoan        13\n",
       "GracePeriodStart                            1544\n",
       "GracePeriodEnd                              2125\n",
       "NextPaymentDate                               33\n",
       "NextPaymentNr                                 61\n",
       "NrOfScheduledPayments                        106\n",
       "ReScheduledOn                               1720\n",
       "PrincipalDebtServicingCost                  4357\n",
       "InterestAndPenaltyDebtServicingCost        34767\n",
       "ActiveLateLastPaymentCategory                  9\n",
       "dtype: int64"
      ]
     },
     "execution_count": 148,
     "metadata": {},
     "output_type": "execute_result"
    }
   ],
   "source": [
    "pd.options.display.max_rows = 4000\n",
    "unique = df.nunique()\n",
    "unique"
   ]
  },
  {
   "cell_type": "code",
   "execution_count": null,
   "id": "4b0f29ee",
   "metadata": {},
   "outputs": [],
   "source": []
  },
  {
   "cell_type": "code",
   "execution_count": 149,
   "id": "444ffc40",
   "metadata": {},
   "outputs": [
    {
     "data": {
      "text/plain": [
       "0         4.0\n",
       "1         4.0\n",
       "2         1.0\n",
       "3         4.0\n",
       "4         3.0\n",
       "         ... \n",
       "240435    1.0\n",
       "240436    1.0\n",
       "240437    1.0\n",
       "240438    4.0\n",
       "240439    4.0\n",
       "Name: VerificationType, Length: 240440, dtype: float64"
      ]
     },
     "execution_count": 149,
     "metadata": {},
     "output_type": "execute_result"
    }
   ],
   "source": [
    "df['VerificationType']"
   ]
  },
  {
   "cell_type": "markdown",
   "id": "bab6c9a6",
   "metadata": {},
   "source": [
    "selecting the relevant columns after reading the dataset description"
   ]
  },
  {
   "cell_type": "code",
   "execution_count": 150,
   "id": "293a75b1",
   "metadata": {},
   "outputs": [],
   "source": [
    "df = df[['Age', 'Gender', 'VerificationType','NewCreditCustomer', 'AppliedAmount', \n",
    "'UseOfLoan','MonthlyPayment', 'Country', 'Interest','LoanDuration', 'Education', 'MaritalStatus', 'NrOfDependants', \n",
    "'EmploymentStatus', 'EmploymentDurationCurrentEmployer', 'WorkExperience', 'OccupationArea', \n",
    "'HomeOwnershipType', 'IncomeTotal', 'ExistingLiabilities', 'LiabilitiesTotal', 'RefinanceLiabilities', \n",
    "'DebtToIncome', 'FreeCash', 'CreditScoreEsMicroL', 'CreditScoreEsEquifaxRisk', \n",
    "'CreditScoreFiAsiakasTietoRiskGrade', 'CreditScoreEeMini', 'NoOfPreviousLoansBeforeLoan', \n",
    "'AmountOfPreviousLoansBeforeLoan', 'PreviousRepaymentsBeforeLoan', 'PreviousEarlyRepaymentsBefoleLoan',\n",
    "'PreviousEarlyRepaymentsCountBeforeLoan', 'DefaultDate', 'Status']]"
   ]
  },
  {
   "cell_type": "code",
   "execution_count": 151,
   "id": "7b5b92b6",
   "metadata": {},
   "outputs": [
    {
     "name": "stdout",
     "output_type": "stream",
     "text": [
      "<class 'pandas.core.frame.DataFrame'>\n",
      "RangeIndex: 240440 entries, 0 to 240439\n",
      "Data columns (total 35 columns):\n",
      " #   Column                                  Non-Null Count   Dtype  \n",
      "---  ------                                  --------------   -----  \n",
      " 0   Age                                     240440 non-null  int64  \n",
      " 1   Gender                                  240395 non-null  float64\n",
      " 2   VerificationType                        240390 non-null  float64\n",
      " 3   NewCreditCustomer                       240440 non-null  bool   \n",
      " 4   AppliedAmount                           240440 non-null  float64\n",
      " 5   UseOfLoan                               240440 non-null  int64  \n",
      " 6   MonthlyPayment                          233750 non-null  float64\n",
      " 7   Country                                 240440 non-null  object \n",
      " 8   Interest                                240440 non-null  float64\n",
      " 9   LoanDuration                            240440 non-null  int64  \n",
      " 10  Education                               240390 non-null  float64\n",
      " 11  MaritalStatus                           240390 non-null  float64\n",
      " 12  NrOfDependants                          35600 non-null   object \n",
      " 13  EmploymentStatus                        240238 non-null  float64\n",
      " 14  EmploymentDurationCurrentEmployer       237082 non-null  object \n",
      " 15  WorkExperience                          36522 non-null   object \n",
      " 16  OccupationArea                          240349 non-null  float64\n",
      " 17  HomeOwnershipType                       238783 non-null  float64\n",
      " 18  IncomeTotal                             240440 non-null  float64\n",
      " 19  ExistingLiabilities                     240440 non-null  int64  \n",
      " 20  LiabilitiesTotal                        240440 non-null  float64\n",
      " 21  RefinanceLiabilities                    240440 non-null  int64  \n",
      " 22  DebtToIncome                            240390 non-null  float64\n",
      " 23  FreeCash                                240390 non-null  float64\n",
      " 24  CreditScoreEsMicroL                     208384 non-null  object \n",
      " 25  CreditScoreEsEquifaxRisk                12219 non-null   object \n",
      " 26  CreditScoreFiAsiakasTietoRiskGrade      75229 non-null   object \n",
      " 27  CreditScoreEeMini                       131533 non-null  float64\n",
      " 28  NoOfPreviousLoansBeforeLoan             240432 non-null  float64\n",
      " 29  AmountOfPreviousLoansBeforeLoan         240432 non-null  float64\n",
      " 30  PreviousRepaymentsBeforeLoan            151222 non-null  float64\n",
      " 31  PreviousEarlyRepaymentsBefoleLoan       59711 non-null   float64\n",
      " 32  PreviousEarlyRepaymentsCountBeforeLoan  240432 non-null  float64\n",
      " 33  DefaultDate                             81317 non-null   object \n",
      " 34  Status                                  240440 non-null  object \n",
      "dtypes: bool(1), float64(20), int64(5), object(9)\n",
      "memory usage: 62.6+ MB\n"
     ]
    }
   ],
   "source": [
    "df.info() "
   ]
  },
  {
   "cell_type": "markdown",
   "id": "edfcca7c",
   "metadata": {},
   "source": [
    "checking the number of missing values"
   ]
  },
  {
   "cell_type": "code",
   "execution_count": 152,
   "id": "bfcbc48e",
   "metadata": {},
   "outputs": [
    {
     "data": {
      "text/plain": [
       "Age                                            0\n",
       "Gender                                        45\n",
       "VerificationType                              50\n",
       "NewCreditCustomer                              0\n",
       "AppliedAmount                                  0\n",
       "UseOfLoan                                      0\n",
       "MonthlyPayment                              6690\n",
       "Country                                        0\n",
       "Interest                                       0\n",
       "LoanDuration                                   0\n",
       "Education                                     50\n",
       "MaritalStatus                                 50\n",
       "NrOfDependants                            204840\n",
       "EmploymentStatus                             202\n",
       "EmploymentDurationCurrentEmployer           3358\n",
       "WorkExperience                            203918\n",
       "OccupationArea                                91\n",
       "HomeOwnershipType                           1657\n",
       "IncomeTotal                                    0\n",
       "ExistingLiabilities                            0\n",
       "LiabilitiesTotal                               0\n",
       "RefinanceLiabilities                           0\n",
       "DebtToIncome                                  50\n",
       "FreeCash                                      50\n",
       "CreditScoreEsMicroL                        32056\n",
       "CreditScoreEsEquifaxRisk                  228221\n",
       "CreditScoreFiAsiakasTietoRiskGrade        165211\n",
       "CreditScoreEeMini                         108907\n",
       "NoOfPreviousLoansBeforeLoan                    8\n",
       "AmountOfPreviousLoansBeforeLoan                8\n",
       "PreviousRepaymentsBeforeLoan               89218\n",
       "PreviousEarlyRepaymentsBefoleLoan         180729\n",
       "PreviousEarlyRepaymentsCountBeforeLoan         8\n",
       "DefaultDate                               159123\n",
       "Status                                         0\n",
       "dtype: int64"
      ]
     },
     "execution_count": 152,
     "metadata": {},
     "output_type": "execute_result"
    }
   ],
   "source": [
    "df.isnull().sum()"
   ]
  },
  {
   "cell_type": "markdown",
   "id": "9c5db51b",
   "metadata": {},
   "source": [
    "Exploring the status column"
   ]
  },
  {
   "cell_type": "code",
   "execution_count": 153,
   "id": "af8bcf93",
   "metadata": {},
   "outputs": [
    {
     "data": {
      "text/plain": [
       "array(['Late', 'Current', 'Repaid'], dtype=object)"
      ]
     },
     "execution_count": 153,
     "metadata": {},
     "output_type": "execute_result"
    }
   ],
   "source": [
    "df['Status'].unique()"
   ]
  },
  {
   "cell_type": "code",
   "execution_count": 154,
   "id": "c9ed221c",
   "metadata": {},
   "outputs": [
    {
     "data": {
      "text/plain": [
       "Age                                            0\n",
       "Gender                                        45\n",
       "VerificationType                              50\n",
       "NewCreditCustomer                              0\n",
       "AppliedAmount                                  0\n",
       "UseOfLoan                                      0\n",
       "MonthlyPayment                              6690\n",
       "Country                                        0\n",
       "Interest                                       0\n",
       "LoanDuration                                   0\n",
       "Education                                     50\n",
       "MaritalStatus                                 50\n",
       "NrOfDependants                            204840\n",
       "EmploymentStatus                             202\n",
       "EmploymentDurationCurrentEmployer           3358\n",
       "WorkExperience                            203918\n",
       "OccupationArea                                91\n",
       "HomeOwnershipType                           1657\n",
       "IncomeTotal                                    0\n",
       "ExistingLiabilities                            0\n",
       "LiabilitiesTotal                               0\n",
       "RefinanceLiabilities                           0\n",
       "DebtToIncome                                  50\n",
       "FreeCash                                      50\n",
       "CreditScoreEsMicroL                        32056\n",
       "CreditScoreEsEquifaxRisk                  228221\n",
       "CreditScoreFiAsiakasTietoRiskGrade        165211\n",
       "CreditScoreEeMini                         108907\n",
       "NoOfPreviousLoansBeforeLoan                    8\n",
       "AmountOfPreviousLoansBeforeLoan                8\n",
       "PreviousRepaymentsBeforeLoan               89218\n",
       "PreviousEarlyRepaymentsBefoleLoan         180729\n",
       "PreviousEarlyRepaymentsCountBeforeLoan         8\n",
       "DefaultDate                               159123\n",
       "Status                                         0\n",
       "dtype: int64"
      ]
     },
     "execution_count": 154,
     "metadata": {},
     "output_type": "execute_result"
    }
   ],
   "source": [
    "df.isnull().sum()"
   ]
  },
  {
   "cell_type": "markdown",
   "id": "1616162d",
   "metadata": {},
   "source": [
    "Get the percentage of missing values for each column "
   ]
  },
  {
   "cell_type": "code",
   "execution_count": 155,
   "id": "8a39daea",
   "metadata": {},
   "outputs": [
    {
     "data": {
      "text/plain": [
       "Age                                        0.000000\n",
       "Gender                                     0.018716\n",
       "VerificationType                           0.020795\n",
       "NewCreditCustomer                          0.000000\n",
       "AppliedAmount                              0.000000\n",
       "UseOfLoan                                  0.000000\n",
       "MonthlyPayment                             2.782399\n",
       "Country                                    0.000000\n",
       "Interest                                   0.000000\n",
       "LoanDuration                               0.000000\n",
       "Education                                  0.020795\n",
       "MaritalStatus                              0.020795\n",
       "NrOfDependants                            85.193811\n",
       "EmploymentStatus                           0.084013\n",
       "EmploymentDurationCurrentEmployer          1.396606\n",
       "WorkExperience                            84.810348\n",
       "OccupationArea                             0.037847\n",
       "HomeOwnershipType                          0.689153\n",
       "IncomeTotal                                0.000000\n",
       "ExistingLiabilities                        0.000000\n",
       "LiabilitiesTotal                           0.000000\n",
       "RefinanceLiabilities                       0.000000\n",
       "DebtToIncome                               0.020795\n",
       "FreeCash                                   0.020795\n",
       "CreditScoreEsMicroL                       13.332224\n",
       "CreditScoreEsEquifaxRisk                  94.918067\n",
       "CreditScoreFiAsiakasTietoRiskGrade        68.711945\n",
       "CreditScoreEeMini                         45.294876\n",
       "NoOfPreviousLoansBeforeLoan                0.003327\n",
       "AmountOfPreviousLoansBeforeLoan            0.003327\n",
       "PreviousRepaymentsBeforeLoan              37.106139\n",
       "PreviousEarlyRepaymentsBefoleLoan         75.165946\n",
       "PreviousEarlyRepaymentsCountBeforeLoan     0.003327\n",
       "DefaultDate                               66.179920\n",
       "Status                                     0.000000\n",
       "dtype: float64"
      ]
     },
     "execution_count": 155,
     "metadata": {},
     "output_type": "execute_result"
    }
   ],
   "source": [
    "pd.set_option('display.max_rows', None)\n",
    "df.isnull().sum()/len(df)* 100"
   ]
  },
  {
   "cell_type": "markdown",
   "id": "36518235",
   "metadata": {},
   "source": [
    "### Dropping columns with lots of missing values. \n",
    "\n",
    "For loans that are late, they cannot be classified as defaulted because although the repayment is just late and not defaulted. A loan becomes defaulted when the borrower fails to make payment 60 days after the grace period (according to https://ccr.equifax.com.au/resources/explaining-the-difference-between-a-late-payment-and-a-default-to-your-customers#:~:text=Repayment%20history%20information%20is%20recorded,was%20in%20a%20specific%20month.&text=A%20payment%20later%20than%2060%20days%20is%20a%20default.) Since this date can only be defined by the loan company, this might be difficult to achieve. However, the loan company has provided us with a Defaultdate column which is the date the loan went into defaulted state. \n",
    "\n",
    "This means for rows or borrowers that have a default date, the borrower is assumed to have defaulted the payment of the loan. This means that the default date is what will be used to determine whether a borrower has defaulted a loan or not. This also means that the defaultdate column cannot be dropped. "
   ]
  },
  {
   "cell_type": "code",
   "execution_count": 156,
   "id": "1038193e",
   "metadata": {},
   "outputs": [
    {
     "name": "stdout",
     "output_type": "stream",
     "text": [
      "<class 'pandas.core.frame.DataFrame'>\n",
      "RangeIndex: 240440 entries, 0 to 240439\n",
      "Data columns (total 27 columns):\n",
      " #   Column                                  Non-Null Count   Dtype  \n",
      "---  ------                                  --------------   -----  \n",
      " 0   Age                                     240440 non-null  int64  \n",
      " 1   Gender                                  240395 non-null  float64\n",
      " 2   VerificationType                        240390 non-null  float64\n",
      " 3   NewCreditCustomer                       240440 non-null  bool   \n",
      " 4   AppliedAmount                           240440 non-null  float64\n",
      " 5   UseOfLoan                               240440 non-null  int64  \n",
      " 6   MonthlyPayment                          233750 non-null  float64\n",
      " 7   Country                                 240440 non-null  object \n",
      " 8   Interest                                240440 non-null  float64\n",
      " 9   LoanDuration                            240440 non-null  int64  \n",
      " 10  Education                               240390 non-null  float64\n",
      " 11  MaritalStatus                           240390 non-null  float64\n",
      " 12  EmploymentStatus                        240238 non-null  float64\n",
      " 13  EmploymentDurationCurrentEmployer       237082 non-null  object \n",
      " 14  OccupationArea                          240349 non-null  float64\n",
      " 15  HomeOwnershipType                       238783 non-null  float64\n",
      " 16  IncomeTotal                             240440 non-null  float64\n",
      " 17  ExistingLiabilities                     240440 non-null  int64  \n",
      " 18  LiabilitiesTotal                        240440 non-null  float64\n",
      " 19  RefinanceLiabilities                    240440 non-null  int64  \n",
      " 20  DebtToIncome                            240390 non-null  float64\n",
      " 21  FreeCash                                240390 non-null  float64\n",
      " 22  NoOfPreviousLoansBeforeLoan             240432 non-null  float64\n",
      " 23  AmountOfPreviousLoansBeforeLoan         240432 non-null  float64\n",
      " 24  PreviousEarlyRepaymentsCountBeforeLoan  240432 non-null  float64\n",
      " 25  DefaultDate                             81317 non-null   object \n",
      " 26  Status                                  240440 non-null  object \n",
      "dtypes: bool(1), float64(17), int64(5), object(4)\n",
      "memory usage: 47.9+ MB\n"
     ]
    }
   ],
   "source": [
    "df = df.drop(columns=['NrOfDependants', 'WorkExperience', 'CreditScoreEsMicroL', \n",
    "'CreditScoreEsEquifaxRisk', 'CreditScoreFiAsiakasTietoRiskGrade', 'CreditScoreEeMini', \n",
    "'PreviousRepaymentsBeforeLoan', 'PreviousEarlyRepaymentsBefoleLoan'])\n",
    "df.info()\n"
   ]
  },
  {
   "cell_type": "markdown",
   "id": "8435bc87",
   "metadata": {},
   "source": [
    "Creating the default column using the rows that have a defaultdate value"
   ]
  },
  {
   "cell_type": "code",
   "execution_count": 157,
   "id": "fe7f971d",
   "metadata": {},
   "outputs": [
    {
     "data": {
      "text/plain": [
       "0    159123\n",
       "1     81317\n",
       "Name: DefaultStatus, dtype: int64"
      ]
     },
     "execution_count": 157,
     "metadata": {},
     "output_type": "execute_result"
    }
   ],
   "source": [
    "df['DefaultDate'].isnull()\n",
    "\n",
    "\n",
    "df['DefaultStatus'] = df['DefaultDate'].fillna('').apply(lambda x: 0 if x=='' else 1)\n",
    "df['DefaultStatus'].value_counts()"
   ]
  },
  {
   "cell_type": "markdown",
   "id": "631a74ae",
   "metadata": {},
   "source": [
    "This means 150123 borrowers did not default on their loan since their default date is null. This is also confirmed below.\n",
    "\n",
    "0 = Did not default\n",
    "1 = Defaulted"
   ]
  },
  {
   "cell_type": "code",
   "execution_count": 158,
   "id": "0e09dcda",
   "metadata": {},
   "outputs": [
    {
     "data": {
      "text/plain": [
       "159123"
      ]
     },
     "execution_count": 158,
     "metadata": {},
     "output_type": "execute_result"
    }
   ],
   "source": [
    "df['DefaultDate'].isnull().sum()"
   ]
  },
  {
   "cell_type": "code",
   "execution_count": 159,
   "id": "5651ad92",
   "metadata": {},
   "outputs": [
    {
     "data": {
      "text/html": [
       "<div>\n",
       "<style scoped>\n",
       "    .dataframe tbody tr th:only-of-type {\n",
       "        vertical-align: middle;\n",
       "    }\n",
       "\n",
       "    .dataframe tbody tr th {\n",
       "        vertical-align: top;\n",
       "    }\n",
       "\n",
       "    .dataframe thead th {\n",
       "        text-align: right;\n",
       "    }\n",
       "</style>\n",
       "<table border=\"1\" class=\"dataframe\">\n",
       "  <thead>\n",
       "    <tr style=\"text-align: right;\">\n",
       "      <th></th>\n",
       "      <th>Age</th>\n",
       "      <th>Gender</th>\n",
       "      <th>VerificationType</th>\n",
       "      <th>NewCreditCustomer</th>\n",
       "      <th>AppliedAmount</th>\n",
       "      <th>UseOfLoan</th>\n",
       "      <th>MonthlyPayment</th>\n",
       "      <th>Interest</th>\n",
       "      <th>LoanDuration</th>\n",
       "      <th>Education</th>\n",
       "      <th>...</th>\n",
       "      <th>IncomeTotal</th>\n",
       "      <th>ExistingLiabilities</th>\n",
       "      <th>LiabilitiesTotal</th>\n",
       "      <th>RefinanceLiabilities</th>\n",
       "      <th>DebtToIncome</th>\n",
       "      <th>FreeCash</th>\n",
       "      <th>NoOfPreviousLoansBeforeLoan</th>\n",
       "      <th>AmountOfPreviousLoansBeforeLoan</th>\n",
       "      <th>PreviousEarlyRepaymentsCountBeforeLoan</th>\n",
       "      <th>DefaultStatus</th>\n",
       "    </tr>\n",
       "  </thead>\n",
       "  <tbody>\n",
       "    <tr>\n",
       "      <th>Age</th>\n",
       "      <td>1.000000</td>\n",
       "      <td>0.033175</td>\n",
       "      <td>-0.030722</td>\n",
       "      <td>-0.049172</td>\n",
       "      <td>0.089733</td>\n",
       "      <td>-0.092404</td>\n",
       "      <td>0.048114</td>\n",
       "      <td>-0.046524</td>\n",
       "      <td>0.066457</td>\n",
       "      <td>0.083127</td>\n",
       "      <td>...</td>\n",
       "      <td>0.018240</td>\n",
       "      <td>0.069228</td>\n",
       "      <td>0.003467</td>\n",
       "      <td>-0.029197</td>\n",
       "      <td>-0.056444</td>\n",
       "      <td>-0.013912</td>\n",
       "      <td>0.045538</td>\n",
       "      <td>0.099155</td>\n",
       "      <td>-0.000702</td>\n",
       "      <td>0.007479</td>\n",
       "    </tr>\n",
       "    <tr>\n",
       "      <th>Gender</th>\n",
       "      <td>0.033175</td>\n",
       "      <td>1.000000</td>\n",
       "      <td>0.125324</td>\n",
       "      <td>0.111295</td>\n",
       "      <td>-0.027141</td>\n",
       "      <td>0.040499</td>\n",
       "      <td>0.008426</td>\n",
       "      <td>0.171666</td>\n",
       "      <td>0.065948</td>\n",
       "      <td>0.069278</td>\n",
       "      <td>...</td>\n",
       "      <td>-0.013153</td>\n",
       "      <td>-0.052656</td>\n",
       "      <td>0.004323</td>\n",
       "      <td>0.034473</td>\n",
       "      <td>0.066555</td>\n",
       "      <td>-0.005442</td>\n",
       "      <td>-0.080302</td>\n",
       "      <td>-0.097857</td>\n",
       "      <td>-0.030940</td>\n",
       "      <td>0.032530</td>\n",
       "    </tr>\n",
       "    <tr>\n",
       "      <th>VerificationType</th>\n",
       "      <td>-0.030722</td>\n",
       "      <td>0.125324</td>\n",
       "      <td>1.000000</td>\n",
       "      <td>0.096072</td>\n",
       "      <td>0.038192</td>\n",
       "      <td>-0.151672</td>\n",
       "      <td>-0.042793</td>\n",
       "      <td>0.005632</td>\n",
       "      <td>0.143126</td>\n",
       "      <td>-0.005068</td>\n",
       "      <td>...</td>\n",
       "      <td>0.010687</td>\n",
       "      <td>-0.081974</td>\n",
       "      <td>0.000613</td>\n",
       "      <td>0.039977</td>\n",
       "      <td>-0.080005</td>\n",
       "      <td>-0.068783</td>\n",
       "      <td>-0.120113</td>\n",
       "      <td>-0.082252</td>\n",
       "      <td>-0.053974</td>\n",
       "      <td>-0.138522</td>\n",
       "    </tr>\n",
       "    <tr>\n",
       "      <th>NewCreditCustomer</th>\n",
       "      <td>-0.049172</td>\n",
       "      <td>0.111295</td>\n",
       "      <td>0.096072</td>\n",
       "      <td>1.000000</td>\n",
       "      <td>0.088616</td>\n",
       "      <td>0.065061</td>\n",
       "      <td>0.142166</td>\n",
       "      <td>0.226654</td>\n",
       "      <td>-0.033420</td>\n",
       "      <td>-0.069158</td>\n",
       "      <td>...</td>\n",
       "      <td>0.011514</td>\n",
       "      <td>-0.386865</td>\n",
       "      <td>-0.000645</td>\n",
       "      <td>0.054519</td>\n",
       "      <td>0.049394</td>\n",
       "      <td>0.041497</td>\n",
       "      <td>-0.603651</td>\n",
       "      <td>-0.625608</td>\n",
       "      <td>-0.104904</td>\n",
       "      <td>0.112726</td>\n",
       "    </tr>\n",
       "    <tr>\n",
       "      <th>AppliedAmount</th>\n",
       "      <td>0.089733</td>\n",
       "      <td>-0.027141</td>\n",
       "      <td>0.038192</td>\n",
       "      <td>0.088616</td>\n",
       "      <td>1.000000</td>\n",
       "      <td>-0.006766</td>\n",
       "      <td>0.789767</td>\n",
       "      <td>-0.030791</td>\n",
       "      <td>0.255787</td>\n",
       "      <td>0.035395</td>\n",
       "      <td>...</td>\n",
       "      <td>0.016015</td>\n",
       "      <td>-0.084835</td>\n",
       "      <td>-0.000917</td>\n",
       "      <td>0.090548</td>\n",
       "      <td>0.114961</td>\n",
       "      <td>0.033975</td>\n",
       "      <td>-0.157201</td>\n",
       "      <td>-0.074147</td>\n",
       "      <td>-0.004650</td>\n",
       "      <td>0.071169</td>\n",
       "    </tr>\n",
       "    <tr>\n",
       "      <th>UseOfLoan</th>\n",
       "      <td>-0.092404</td>\n",
       "      <td>0.040499</td>\n",
       "      <td>-0.151672</td>\n",
       "      <td>0.065061</td>\n",
       "      <td>-0.006766</td>\n",
       "      <td>1.000000</td>\n",
       "      <td>0.085239</td>\n",
       "      <td>0.065077</td>\n",
       "      <td>-0.157060</td>\n",
       "      <td>0.059758</td>\n",
       "      <td>...</td>\n",
       "      <td>-0.000067</td>\n",
       "      <td>0.113360</td>\n",
       "      <td>0.003752</td>\n",
       "      <td>0.151395</td>\n",
       "      <td>0.633781</td>\n",
       "      <td>0.247391</td>\n",
       "      <td>-0.088936</td>\n",
       "      <td>-0.117628</td>\n",
       "      <td>0.058524</td>\n",
       "      <td>0.132972</td>\n",
       "    </tr>\n",
       "    <tr>\n",
       "      <th>MonthlyPayment</th>\n",
       "      <td>0.048114</td>\n",
       "      <td>0.008426</td>\n",
       "      <td>-0.042793</td>\n",
       "      <td>0.142166</td>\n",
       "      <td>0.789767</td>\n",
       "      <td>0.085239</td>\n",
       "      <td>1.000000</td>\n",
       "      <td>0.239114</td>\n",
       "      <td>-0.069177</td>\n",
       "      <td>0.045869</td>\n",
       "      <td>...</td>\n",
       "      <td>0.021337</td>\n",
       "      <td>-0.139420</td>\n",
       "      <td>-0.000503</td>\n",
       "      <td>0.007548</td>\n",
       "      <td>0.186567</td>\n",
       "      <td>0.032797</td>\n",
       "      <td>-0.182893</td>\n",
       "      <td>-0.130839</td>\n",
       "      <td>-0.005261</td>\n",
       "      <td>0.152767</td>\n",
       "    </tr>\n",
       "    <tr>\n",
       "      <th>Interest</th>\n",
       "      <td>-0.046524</td>\n",
       "      <td>0.171666</td>\n",
       "      <td>0.005632</td>\n",
       "      <td>0.226654</td>\n",
       "      <td>-0.030791</td>\n",
       "      <td>0.065077</td>\n",
       "      <td>0.239114</td>\n",
       "      <td>1.000000</td>\n",
       "      <td>-0.013508</td>\n",
       "      <td>0.026497</td>\n",
       "      <td>...</td>\n",
       "      <td>-0.000451</td>\n",
       "      <td>-0.153638</td>\n",
       "      <td>0.003507</td>\n",
       "      <td>0.004340</td>\n",
       "      <td>0.091508</td>\n",
       "      <td>0.017672</td>\n",
       "      <td>-0.193513</td>\n",
       "      <td>-0.205709</td>\n",
       "      <td>-0.029416</td>\n",
       "      <td>0.336683</td>\n",
       "    </tr>\n",
       "    <tr>\n",
       "      <th>LoanDuration</th>\n",
       "      <td>0.066457</td>\n",
       "      <td>0.065948</td>\n",
       "      <td>0.143126</td>\n",
       "      <td>-0.033420</td>\n",
       "      <td>0.255787</td>\n",
       "      <td>-0.157060</td>\n",
       "      <td>-0.069177</td>\n",
       "      <td>-0.013508</td>\n",
       "      <td>1.000000</td>\n",
       "      <td>-0.025342</td>\n",
       "      <td>...</td>\n",
       "      <td>-0.004837</td>\n",
       "      <td>-0.023231</td>\n",
       "      <td>-0.001079</td>\n",
       "      <td>-0.034103</td>\n",
       "      <td>-0.109213</td>\n",
       "      <td>-0.040354</td>\n",
       "      <td>0.018137</td>\n",
       "      <td>0.069808</td>\n",
       "      <td>-0.004275</td>\n",
       "      <td>0.000380</td>\n",
       "    </tr>\n",
       "    <tr>\n",
       "      <th>Education</th>\n",
       "      <td>0.083127</td>\n",
       "      <td>0.069278</td>\n",
       "      <td>-0.005068</td>\n",
       "      <td>-0.069158</td>\n",
       "      <td>0.035395</td>\n",
       "      <td>0.059758</td>\n",
       "      <td>0.045869</td>\n",
       "      <td>0.026497</td>\n",
       "      <td>-0.025342</td>\n",
       "      <td>1.000000</td>\n",
       "      <td>...</td>\n",
       "      <td>0.005673</td>\n",
       "      <td>0.120116</td>\n",
       "      <td>-0.000998</td>\n",
       "      <td>0.025078</td>\n",
       "      <td>0.064388</td>\n",
       "      <td>0.034846</td>\n",
       "      <td>0.071287</td>\n",
       "      <td>0.097566</td>\n",
       "      <td>0.022171</td>\n",
       "      <td>0.015560</td>\n",
       "    </tr>\n",
       "    <tr>\n",
       "      <th>MaritalStatus</th>\n",
       "      <td>-0.079040</td>\n",
       "      <td>0.042586</td>\n",
       "      <td>-0.145770</td>\n",
       "      <td>0.101175</td>\n",
       "      <td>0.029690</td>\n",
       "      <td>0.774078</td>\n",
       "      <td>0.104110</td>\n",
       "      <td>0.075647</td>\n",
       "      <td>-0.177986</td>\n",
       "      <td>0.081973</td>\n",
       "      <td>...</td>\n",
       "      <td>-0.003265</td>\n",
       "      <td>0.218442</td>\n",
       "      <td>0.005398</td>\n",
       "      <td>0.348241</td>\n",
       "      <td>0.767042</td>\n",
       "      <td>0.288020</td>\n",
       "      <td>-0.134774</td>\n",
       "      <td>-0.165043</td>\n",
       "      <td>0.073038</td>\n",
       "      <td>0.182996</td>\n",
       "    </tr>\n",
       "    <tr>\n",
       "      <th>EmploymentStatus</th>\n",
       "      <td>-0.055234</td>\n",
       "      <td>0.035438</td>\n",
       "      <td>-0.158114</td>\n",
       "      <td>0.099964</td>\n",
       "      <td>0.043466</td>\n",
       "      <td>0.791654</td>\n",
       "      <td>0.110340</td>\n",
       "      <td>0.064559</td>\n",
       "      <td>-0.177228</td>\n",
       "      <td>0.084759</td>\n",
       "      <td>...</td>\n",
       "      <td>-0.002576</td>\n",
       "      <td>0.226958</td>\n",
       "      <td>0.005976</td>\n",
       "      <td>0.352364</td>\n",
       "      <td>0.787519</td>\n",
       "      <td>0.307983</td>\n",
       "      <td>-0.138534</td>\n",
       "      <td>-0.167114</td>\n",
       "      <td>0.079132</td>\n",
       "      <td>0.185571</td>\n",
       "    </tr>\n",
       "    <tr>\n",
       "      <th>OccupationArea</th>\n",
       "      <td>-0.056653</td>\n",
       "      <td>0.050768</td>\n",
       "      <td>-0.127936</td>\n",
       "      <td>0.074373</td>\n",
       "      <td>0.034921</td>\n",
       "      <td>0.662987</td>\n",
       "      <td>0.093412</td>\n",
       "      <td>0.052498</td>\n",
       "      <td>-0.151479</td>\n",
       "      <td>0.105881</td>\n",
       "      <td>...</td>\n",
       "      <td>0.001151</td>\n",
       "      <td>0.200627</td>\n",
       "      <td>0.005409</td>\n",
       "      <td>0.296766</td>\n",
       "      <td>0.662838</td>\n",
       "      <td>0.263629</td>\n",
       "      <td>-0.109920</td>\n",
       "      <td>-0.136289</td>\n",
       "      <td>0.066166</td>\n",
       "      <td>0.148418</td>\n",
       "    </tr>\n",
       "    <tr>\n",
       "      <th>HomeOwnershipType</th>\n",
       "      <td>-0.029179</td>\n",
       "      <td>0.022409</td>\n",
       "      <td>0.022845</td>\n",
       "      <td>0.025874</td>\n",
       "      <td>0.015089</td>\n",
       "      <td>-0.003807</td>\n",
       "      <td>0.024017</td>\n",
       "      <td>0.041109</td>\n",
       "      <td>-0.004486</td>\n",
       "      <td>-0.003037</td>\n",
       "      <td>...</td>\n",
       "      <td>0.003157</td>\n",
       "      <td>0.012433</td>\n",
       "      <td>0.003970</td>\n",
       "      <td>0.008793</td>\n",
       "      <td>-0.001628</td>\n",
       "      <td>0.003487</td>\n",
       "      <td>-0.033911</td>\n",
       "      <td>-0.026949</td>\n",
       "      <td>-0.020323</td>\n",
       "      <td>0.028851</td>\n",
       "    </tr>\n",
       "    <tr>\n",
       "      <th>IncomeTotal</th>\n",
       "      <td>0.018240</td>\n",
       "      <td>-0.013153</td>\n",
       "      <td>0.010687</td>\n",
       "      <td>0.011514</td>\n",
       "      <td>0.016015</td>\n",
       "      <td>-0.000067</td>\n",
       "      <td>0.021337</td>\n",
       "      <td>-0.000451</td>\n",
       "      <td>-0.004837</td>\n",
       "      <td>0.005673</td>\n",
       "      <td>...</td>\n",
       "      <td>1.000000</td>\n",
       "      <td>-0.010339</td>\n",
       "      <td>0.001456</td>\n",
       "      <td>-0.004647</td>\n",
       "      <td>-0.021064</td>\n",
       "      <td>0.056260</td>\n",
       "      <td>-0.008690</td>\n",
       "      <td>-0.002504</td>\n",
       "      <td>-0.005190</td>\n",
       "      <td>-0.013555</td>\n",
       "    </tr>\n",
       "    <tr>\n",
       "      <th>ExistingLiabilities</th>\n",
       "      <td>0.069228</td>\n",
       "      <td>-0.052656</td>\n",
       "      <td>-0.081974</td>\n",
       "      <td>-0.386865</td>\n",
       "      <td>-0.084835</td>\n",
       "      <td>0.113360</td>\n",
       "      <td>-0.139420</td>\n",
       "      <td>-0.153638</td>\n",
       "      <td>-0.023231</td>\n",
       "      <td>0.120116</td>\n",
       "      <td>...</td>\n",
       "      <td>-0.010339</td>\n",
       "      <td>1.000000</td>\n",
       "      <td>0.010662</td>\n",
       "      <td>0.332262</td>\n",
       "      <td>0.334350</td>\n",
       "      <td>0.048286</td>\n",
       "      <td>0.520182</td>\n",
       "      <td>0.409435</td>\n",
       "      <td>0.082769</td>\n",
       "      <td>0.020107</td>\n",
       "    </tr>\n",
       "    <tr>\n",
       "      <th>LiabilitiesTotal</th>\n",
       "      <td>0.003467</td>\n",
       "      <td>0.004323</td>\n",
       "      <td>0.000613</td>\n",
       "      <td>-0.000645</td>\n",
       "      <td>-0.000917</td>\n",
       "      <td>0.003752</td>\n",
       "      <td>-0.000503</td>\n",
       "      <td>0.003507</td>\n",
       "      <td>-0.001079</td>\n",
       "      <td>-0.000998</td>\n",
       "      <td>...</td>\n",
       "      <td>0.001456</td>\n",
       "      <td>0.010662</td>\n",
       "      <td>1.000000</td>\n",
       "      <td>0.005103</td>\n",
       "      <td>0.006448</td>\n",
       "      <td>0.009314</td>\n",
       "      <td>0.000703</td>\n",
       "      <td>0.001777</td>\n",
       "      <td>0.000612</td>\n",
       "      <td>0.004166</td>\n",
       "    </tr>\n",
       "    <tr>\n",
       "      <th>RefinanceLiabilities</th>\n",
       "      <td>-0.029197</td>\n",
       "      <td>0.034473</td>\n",
       "      <td>0.039977</td>\n",
       "      <td>0.054519</td>\n",
       "      <td>0.090548</td>\n",
       "      <td>0.151395</td>\n",
       "      <td>0.007548</td>\n",
       "      <td>0.004340</td>\n",
       "      <td>-0.034103</td>\n",
       "      <td>0.025078</td>\n",
       "      <td>...</td>\n",
       "      <td>-0.004647</td>\n",
       "      <td>0.332262</td>\n",
       "      <td>0.005103</td>\n",
       "      <td>1.000000</td>\n",
       "      <td>0.398966</td>\n",
       "      <td>0.062368</td>\n",
       "      <td>-0.058086</td>\n",
       "      <td>-0.073814</td>\n",
       "      <td>0.016748</td>\n",
       "      <td>0.082015</td>\n",
       "    </tr>\n",
       "    <tr>\n",
       "      <th>DebtToIncome</th>\n",
       "      <td>-0.056444</td>\n",
       "      <td>0.066555</td>\n",
       "      <td>-0.080005</td>\n",
       "      <td>0.049394</td>\n",
       "      <td>0.114961</td>\n",
       "      <td>0.633781</td>\n",
       "      <td>0.186567</td>\n",
       "      <td>0.091508</td>\n",
       "      <td>-0.109213</td>\n",
       "      <td>0.064388</td>\n",
       "      <td>...</td>\n",
       "      <td>-0.021064</td>\n",
       "      <td>0.334350</td>\n",
       "      <td>0.006448</td>\n",
       "      <td>0.398966</td>\n",
       "      <td>1.000000</td>\n",
       "      <td>0.157129</td>\n",
       "      <td>-0.112413</td>\n",
       "      <td>-0.114569</td>\n",
       "      <td>0.080453</td>\n",
       "      <td>0.169973</td>\n",
       "    </tr>\n",
       "    <tr>\n",
       "      <th>FreeCash</th>\n",
       "      <td>-0.013912</td>\n",
       "      <td>-0.005442</td>\n",
       "      <td>-0.068783</td>\n",
       "      <td>0.041497</td>\n",
       "      <td>0.033975</td>\n",
       "      <td>0.247391</td>\n",
       "      <td>0.032797</td>\n",
       "      <td>0.017672</td>\n",
       "      <td>-0.040354</td>\n",
       "      <td>0.034846</td>\n",
       "      <td>...</td>\n",
       "      <td>0.056260</td>\n",
       "      <td>0.048286</td>\n",
       "      <td>0.009314</td>\n",
       "      <td>0.062368</td>\n",
       "      <td>0.157129</td>\n",
       "      <td>1.000000</td>\n",
       "      <td>-0.052519</td>\n",
       "      <td>-0.053616</td>\n",
       "      <td>0.027086</td>\n",
       "      <td>0.067974</td>\n",
       "    </tr>\n",
       "    <tr>\n",
       "      <th>NoOfPreviousLoansBeforeLoan</th>\n",
       "      <td>0.045538</td>\n",
       "      <td>-0.080302</td>\n",
       "      <td>-0.120113</td>\n",
       "      <td>-0.603651</td>\n",
       "      <td>-0.157201</td>\n",
       "      <td>-0.088936</td>\n",
       "      <td>-0.182893</td>\n",
       "      <td>-0.193513</td>\n",
       "      <td>0.018137</td>\n",
       "      <td>0.071287</td>\n",
       "      <td>...</td>\n",
       "      <td>-0.008690</td>\n",
       "      <td>0.520182</td>\n",
       "      <td>0.000703</td>\n",
       "      <td>-0.058086</td>\n",
       "      <td>-0.112413</td>\n",
       "      <td>-0.052519</td>\n",
       "      <td>1.000000</td>\n",
       "      <td>0.770243</td>\n",
       "      <td>0.120534</td>\n",
       "      <td>-0.115990</td>\n",
       "    </tr>\n",
       "    <tr>\n",
       "      <th>AmountOfPreviousLoansBeforeLoan</th>\n",
       "      <td>0.099155</td>\n",
       "      <td>-0.097857</td>\n",
       "      <td>-0.082252</td>\n",
       "      <td>-0.625608</td>\n",
       "      <td>-0.074147</td>\n",
       "      <td>-0.117628</td>\n",
       "      <td>-0.130839</td>\n",
       "      <td>-0.205709</td>\n",
       "      <td>0.069808</td>\n",
       "      <td>0.097566</td>\n",
       "      <td>...</td>\n",
       "      <td>-0.002504</td>\n",
       "      <td>0.409435</td>\n",
       "      <td>0.001777</td>\n",
       "      <td>-0.073814</td>\n",
       "      <td>-0.114569</td>\n",
       "      <td>-0.053616</td>\n",
       "      <td>0.770243</td>\n",
       "      <td>1.000000</td>\n",
       "      <td>0.121258</td>\n",
       "      <td>-0.120514</td>\n",
       "    </tr>\n",
       "    <tr>\n",
       "      <th>PreviousEarlyRepaymentsCountBeforeLoan</th>\n",
       "      <td>-0.000702</td>\n",
       "      <td>-0.030940</td>\n",
       "      <td>-0.053974</td>\n",
       "      <td>-0.104904</td>\n",
       "      <td>-0.004650</td>\n",
       "      <td>0.058524</td>\n",
       "      <td>-0.005261</td>\n",
       "      <td>-0.029416</td>\n",
       "      <td>-0.004275</td>\n",
       "      <td>0.022171</td>\n",
       "      <td>...</td>\n",
       "      <td>-0.005190</td>\n",
       "      <td>0.082769</td>\n",
       "      <td>0.000612</td>\n",
       "      <td>0.016748</td>\n",
       "      <td>0.080453</td>\n",
       "      <td>0.027086</td>\n",
       "      <td>0.120534</td>\n",
       "      <td>0.121258</td>\n",
       "      <td>1.000000</td>\n",
       "      <td>0.005561</td>\n",
       "    </tr>\n",
       "    <tr>\n",
       "      <th>DefaultStatus</th>\n",
       "      <td>0.007479</td>\n",
       "      <td>0.032530</td>\n",
       "      <td>-0.138522</td>\n",
       "      <td>0.112726</td>\n",
       "      <td>0.071169</td>\n",
       "      <td>0.132972</td>\n",
       "      <td>0.152767</td>\n",
       "      <td>0.336683</td>\n",
       "      <td>0.000380</td>\n",
       "      <td>0.015560</td>\n",
       "      <td>...</td>\n",
       "      <td>-0.013555</td>\n",
       "      <td>0.020107</td>\n",
       "      <td>0.004166</td>\n",
       "      <td>0.082015</td>\n",
       "      <td>0.169973</td>\n",
       "      <td>0.067974</td>\n",
       "      <td>-0.115990</td>\n",
       "      <td>-0.120514</td>\n",
       "      <td>0.005561</td>\n",
       "      <td>1.000000</td>\n",
       "    </tr>\n",
       "  </tbody>\n",
       "</table>\n",
       "<p>24 rows × 24 columns</p>\n",
       "</div>"
      ],
      "text/plain": [
       "                                             Age    Gender  VerificationType  \\\n",
       "Age                                     1.000000  0.033175         -0.030722   \n",
       "Gender                                  0.033175  1.000000          0.125324   \n",
       "VerificationType                       -0.030722  0.125324          1.000000   \n",
       "NewCreditCustomer                      -0.049172  0.111295          0.096072   \n",
       "AppliedAmount                           0.089733 -0.027141          0.038192   \n",
       "UseOfLoan                              -0.092404  0.040499         -0.151672   \n",
       "MonthlyPayment                          0.048114  0.008426         -0.042793   \n",
       "Interest                               -0.046524  0.171666          0.005632   \n",
       "LoanDuration                            0.066457  0.065948          0.143126   \n",
       "Education                               0.083127  0.069278         -0.005068   \n",
       "MaritalStatus                          -0.079040  0.042586         -0.145770   \n",
       "EmploymentStatus                       -0.055234  0.035438         -0.158114   \n",
       "OccupationArea                         -0.056653  0.050768         -0.127936   \n",
       "HomeOwnershipType                      -0.029179  0.022409          0.022845   \n",
       "IncomeTotal                             0.018240 -0.013153          0.010687   \n",
       "ExistingLiabilities                     0.069228 -0.052656         -0.081974   \n",
       "LiabilitiesTotal                        0.003467  0.004323          0.000613   \n",
       "RefinanceLiabilities                   -0.029197  0.034473          0.039977   \n",
       "DebtToIncome                           -0.056444  0.066555         -0.080005   \n",
       "FreeCash                               -0.013912 -0.005442         -0.068783   \n",
       "NoOfPreviousLoansBeforeLoan             0.045538 -0.080302         -0.120113   \n",
       "AmountOfPreviousLoansBeforeLoan         0.099155 -0.097857         -0.082252   \n",
       "PreviousEarlyRepaymentsCountBeforeLoan -0.000702 -0.030940         -0.053974   \n",
       "DefaultStatus                           0.007479  0.032530         -0.138522   \n",
       "\n",
       "                                        NewCreditCustomer  AppliedAmount  \\\n",
       "Age                                             -0.049172       0.089733   \n",
       "Gender                                           0.111295      -0.027141   \n",
       "VerificationType                                 0.096072       0.038192   \n",
       "NewCreditCustomer                                1.000000       0.088616   \n",
       "AppliedAmount                                    0.088616       1.000000   \n",
       "UseOfLoan                                        0.065061      -0.006766   \n",
       "MonthlyPayment                                   0.142166       0.789767   \n",
       "Interest                                         0.226654      -0.030791   \n",
       "LoanDuration                                    -0.033420       0.255787   \n",
       "Education                                       -0.069158       0.035395   \n",
       "MaritalStatus                                    0.101175       0.029690   \n",
       "EmploymentStatus                                 0.099964       0.043466   \n",
       "OccupationArea                                   0.074373       0.034921   \n",
       "HomeOwnershipType                                0.025874       0.015089   \n",
       "IncomeTotal                                      0.011514       0.016015   \n",
       "ExistingLiabilities                             -0.386865      -0.084835   \n",
       "LiabilitiesTotal                                -0.000645      -0.000917   \n",
       "RefinanceLiabilities                             0.054519       0.090548   \n",
       "DebtToIncome                                     0.049394       0.114961   \n",
       "FreeCash                                         0.041497       0.033975   \n",
       "NoOfPreviousLoansBeforeLoan                     -0.603651      -0.157201   \n",
       "AmountOfPreviousLoansBeforeLoan                 -0.625608      -0.074147   \n",
       "PreviousEarlyRepaymentsCountBeforeLoan          -0.104904      -0.004650   \n",
       "DefaultStatus                                    0.112726       0.071169   \n",
       "\n",
       "                                        UseOfLoan  MonthlyPayment  Interest  \\\n",
       "Age                                     -0.092404        0.048114 -0.046524   \n",
       "Gender                                   0.040499        0.008426  0.171666   \n",
       "VerificationType                        -0.151672       -0.042793  0.005632   \n",
       "NewCreditCustomer                        0.065061        0.142166  0.226654   \n",
       "AppliedAmount                           -0.006766        0.789767 -0.030791   \n",
       "UseOfLoan                                1.000000        0.085239  0.065077   \n",
       "MonthlyPayment                           0.085239        1.000000  0.239114   \n",
       "Interest                                 0.065077        0.239114  1.000000   \n",
       "LoanDuration                            -0.157060       -0.069177 -0.013508   \n",
       "Education                                0.059758        0.045869  0.026497   \n",
       "MaritalStatus                            0.774078        0.104110  0.075647   \n",
       "EmploymentStatus                         0.791654        0.110340  0.064559   \n",
       "OccupationArea                           0.662987        0.093412  0.052498   \n",
       "HomeOwnershipType                       -0.003807        0.024017  0.041109   \n",
       "IncomeTotal                             -0.000067        0.021337 -0.000451   \n",
       "ExistingLiabilities                      0.113360       -0.139420 -0.153638   \n",
       "LiabilitiesTotal                         0.003752       -0.000503  0.003507   \n",
       "RefinanceLiabilities                     0.151395        0.007548  0.004340   \n",
       "DebtToIncome                             0.633781        0.186567  0.091508   \n",
       "FreeCash                                 0.247391        0.032797  0.017672   \n",
       "NoOfPreviousLoansBeforeLoan             -0.088936       -0.182893 -0.193513   \n",
       "AmountOfPreviousLoansBeforeLoan         -0.117628       -0.130839 -0.205709   \n",
       "PreviousEarlyRepaymentsCountBeforeLoan   0.058524       -0.005261 -0.029416   \n",
       "DefaultStatus                            0.132972        0.152767  0.336683   \n",
       "\n",
       "                                        LoanDuration  Education  ...  \\\n",
       "Age                                         0.066457   0.083127  ...   \n",
       "Gender                                      0.065948   0.069278  ...   \n",
       "VerificationType                            0.143126  -0.005068  ...   \n",
       "NewCreditCustomer                          -0.033420  -0.069158  ...   \n",
       "AppliedAmount                               0.255787   0.035395  ...   \n",
       "UseOfLoan                                  -0.157060   0.059758  ...   \n",
       "MonthlyPayment                             -0.069177   0.045869  ...   \n",
       "Interest                                   -0.013508   0.026497  ...   \n",
       "LoanDuration                                1.000000  -0.025342  ...   \n",
       "Education                                  -0.025342   1.000000  ...   \n",
       "MaritalStatus                              -0.177986   0.081973  ...   \n",
       "EmploymentStatus                           -0.177228   0.084759  ...   \n",
       "OccupationArea                             -0.151479   0.105881  ...   \n",
       "HomeOwnershipType                          -0.004486  -0.003037  ...   \n",
       "IncomeTotal                                -0.004837   0.005673  ...   \n",
       "ExistingLiabilities                        -0.023231   0.120116  ...   \n",
       "LiabilitiesTotal                           -0.001079  -0.000998  ...   \n",
       "RefinanceLiabilities                       -0.034103   0.025078  ...   \n",
       "DebtToIncome                               -0.109213   0.064388  ...   \n",
       "FreeCash                                   -0.040354   0.034846  ...   \n",
       "NoOfPreviousLoansBeforeLoan                 0.018137   0.071287  ...   \n",
       "AmountOfPreviousLoansBeforeLoan             0.069808   0.097566  ...   \n",
       "PreviousEarlyRepaymentsCountBeforeLoan     -0.004275   0.022171  ...   \n",
       "DefaultStatus                               0.000380   0.015560  ...   \n",
       "\n",
       "                                        IncomeTotal  ExistingLiabilities  \\\n",
       "Age                                        0.018240             0.069228   \n",
       "Gender                                    -0.013153            -0.052656   \n",
       "VerificationType                           0.010687            -0.081974   \n",
       "NewCreditCustomer                          0.011514            -0.386865   \n",
       "AppliedAmount                              0.016015            -0.084835   \n",
       "UseOfLoan                                 -0.000067             0.113360   \n",
       "MonthlyPayment                             0.021337            -0.139420   \n",
       "Interest                                  -0.000451            -0.153638   \n",
       "LoanDuration                              -0.004837            -0.023231   \n",
       "Education                                  0.005673             0.120116   \n",
       "MaritalStatus                             -0.003265             0.218442   \n",
       "EmploymentStatus                          -0.002576             0.226958   \n",
       "OccupationArea                             0.001151             0.200627   \n",
       "HomeOwnershipType                          0.003157             0.012433   \n",
       "IncomeTotal                                1.000000            -0.010339   \n",
       "ExistingLiabilities                       -0.010339             1.000000   \n",
       "LiabilitiesTotal                           0.001456             0.010662   \n",
       "RefinanceLiabilities                      -0.004647             0.332262   \n",
       "DebtToIncome                              -0.021064             0.334350   \n",
       "FreeCash                                   0.056260             0.048286   \n",
       "NoOfPreviousLoansBeforeLoan               -0.008690             0.520182   \n",
       "AmountOfPreviousLoansBeforeLoan           -0.002504             0.409435   \n",
       "PreviousEarlyRepaymentsCountBeforeLoan    -0.005190             0.082769   \n",
       "DefaultStatus                             -0.013555             0.020107   \n",
       "\n",
       "                                        LiabilitiesTotal  \\\n",
       "Age                                             0.003467   \n",
       "Gender                                          0.004323   \n",
       "VerificationType                                0.000613   \n",
       "NewCreditCustomer                              -0.000645   \n",
       "AppliedAmount                                  -0.000917   \n",
       "UseOfLoan                                       0.003752   \n",
       "MonthlyPayment                                 -0.000503   \n",
       "Interest                                        0.003507   \n",
       "LoanDuration                                   -0.001079   \n",
       "Education                                      -0.000998   \n",
       "MaritalStatus                                   0.005398   \n",
       "EmploymentStatus                                0.005976   \n",
       "OccupationArea                                  0.005409   \n",
       "HomeOwnershipType                               0.003970   \n",
       "IncomeTotal                                     0.001456   \n",
       "ExistingLiabilities                             0.010662   \n",
       "LiabilitiesTotal                                1.000000   \n",
       "RefinanceLiabilities                            0.005103   \n",
       "DebtToIncome                                    0.006448   \n",
       "FreeCash                                        0.009314   \n",
       "NoOfPreviousLoansBeforeLoan                     0.000703   \n",
       "AmountOfPreviousLoansBeforeLoan                 0.001777   \n",
       "PreviousEarlyRepaymentsCountBeforeLoan          0.000612   \n",
       "DefaultStatus                                   0.004166   \n",
       "\n",
       "                                        RefinanceLiabilities  DebtToIncome  \\\n",
       "Age                                                -0.029197     -0.056444   \n",
       "Gender                                              0.034473      0.066555   \n",
       "VerificationType                                    0.039977     -0.080005   \n",
       "NewCreditCustomer                                   0.054519      0.049394   \n",
       "AppliedAmount                                       0.090548      0.114961   \n",
       "UseOfLoan                                           0.151395      0.633781   \n",
       "MonthlyPayment                                      0.007548      0.186567   \n",
       "Interest                                            0.004340      0.091508   \n",
       "LoanDuration                                       -0.034103     -0.109213   \n",
       "Education                                           0.025078      0.064388   \n",
       "MaritalStatus                                       0.348241      0.767042   \n",
       "EmploymentStatus                                    0.352364      0.787519   \n",
       "OccupationArea                                      0.296766      0.662838   \n",
       "HomeOwnershipType                                   0.008793     -0.001628   \n",
       "IncomeTotal                                        -0.004647     -0.021064   \n",
       "ExistingLiabilities                                 0.332262      0.334350   \n",
       "LiabilitiesTotal                                    0.005103      0.006448   \n",
       "RefinanceLiabilities                                1.000000      0.398966   \n",
       "DebtToIncome                                        0.398966      1.000000   \n",
       "FreeCash                                            0.062368      0.157129   \n",
       "NoOfPreviousLoansBeforeLoan                        -0.058086     -0.112413   \n",
       "AmountOfPreviousLoansBeforeLoan                    -0.073814     -0.114569   \n",
       "PreviousEarlyRepaymentsCountBeforeLoan              0.016748      0.080453   \n",
       "DefaultStatus                                       0.082015      0.169973   \n",
       "\n",
       "                                        FreeCash  NoOfPreviousLoansBeforeLoan  \\\n",
       "Age                                    -0.013912                     0.045538   \n",
       "Gender                                 -0.005442                    -0.080302   \n",
       "VerificationType                       -0.068783                    -0.120113   \n",
       "NewCreditCustomer                       0.041497                    -0.603651   \n",
       "AppliedAmount                           0.033975                    -0.157201   \n",
       "UseOfLoan                               0.247391                    -0.088936   \n",
       "MonthlyPayment                          0.032797                    -0.182893   \n",
       "Interest                                0.017672                    -0.193513   \n",
       "LoanDuration                           -0.040354                     0.018137   \n",
       "Education                               0.034846                     0.071287   \n",
       "MaritalStatus                           0.288020                    -0.134774   \n",
       "EmploymentStatus                        0.307983                    -0.138534   \n",
       "OccupationArea                          0.263629                    -0.109920   \n",
       "HomeOwnershipType                       0.003487                    -0.033911   \n",
       "IncomeTotal                             0.056260                    -0.008690   \n",
       "ExistingLiabilities                     0.048286                     0.520182   \n",
       "LiabilitiesTotal                        0.009314                     0.000703   \n",
       "RefinanceLiabilities                    0.062368                    -0.058086   \n",
       "DebtToIncome                            0.157129                    -0.112413   \n",
       "FreeCash                                1.000000                    -0.052519   \n",
       "NoOfPreviousLoansBeforeLoan            -0.052519                     1.000000   \n",
       "AmountOfPreviousLoansBeforeLoan        -0.053616                     0.770243   \n",
       "PreviousEarlyRepaymentsCountBeforeLoan  0.027086                     0.120534   \n",
       "DefaultStatus                           0.067974                    -0.115990   \n",
       "\n",
       "                                        AmountOfPreviousLoansBeforeLoan  \\\n",
       "Age                                                            0.099155   \n",
       "Gender                                                        -0.097857   \n",
       "VerificationType                                              -0.082252   \n",
       "NewCreditCustomer                                             -0.625608   \n",
       "AppliedAmount                                                 -0.074147   \n",
       "UseOfLoan                                                     -0.117628   \n",
       "MonthlyPayment                                                -0.130839   \n",
       "Interest                                                      -0.205709   \n",
       "LoanDuration                                                   0.069808   \n",
       "Education                                                      0.097566   \n",
       "MaritalStatus                                                 -0.165043   \n",
       "EmploymentStatus                                              -0.167114   \n",
       "OccupationArea                                                -0.136289   \n",
       "HomeOwnershipType                                             -0.026949   \n",
       "IncomeTotal                                                   -0.002504   \n",
       "ExistingLiabilities                                            0.409435   \n",
       "LiabilitiesTotal                                               0.001777   \n",
       "RefinanceLiabilities                                          -0.073814   \n",
       "DebtToIncome                                                  -0.114569   \n",
       "FreeCash                                                      -0.053616   \n",
       "NoOfPreviousLoansBeforeLoan                                    0.770243   \n",
       "AmountOfPreviousLoansBeforeLoan                                1.000000   \n",
       "PreviousEarlyRepaymentsCountBeforeLoan                         0.121258   \n",
       "DefaultStatus                                                 -0.120514   \n",
       "\n",
       "                                        PreviousEarlyRepaymentsCountBeforeLoan  \\\n",
       "Age                                                                  -0.000702   \n",
       "Gender                                                               -0.030940   \n",
       "VerificationType                                                     -0.053974   \n",
       "NewCreditCustomer                                                    -0.104904   \n",
       "AppliedAmount                                                        -0.004650   \n",
       "UseOfLoan                                                             0.058524   \n",
       "MonthlyPayment                                                       -0.005261   \n",
       "Interest                                                             -0.029416   \n",
       "LoanDuration                                                         -0.004275   \n",
       "Education                                                             0.022171   \n",
       "MaritalStatus                                                         0.073038   \n",
       "EmploymentStatus                                                      0.079132   \n",
       "OccupationArea                                                        0.066166   \n",
       "HomeOwnershipType                                                    -0.020323   \n",
       "IncomeTotal                                                          -0.005190   \n",
       "ExistingLiabilities                                                   0.082769   \n",
       "LiabilitiesTotal                                                      0.000612   \n",
       "RefinanceLiabilities                                                  0.016748   \n",
       "DebtToIncome                                                          0.080453   \n",
       "FreeCash                                                              0.027086   \n",
       "NoOfPreviousLoansBeforeLoan                                           0.120534   \n",
       "AmountOfPreviousLoansBeforeLoan                                       0.121258   \n",
       "PreviousEarlyRepaymentsCountBeforeLoan                                1.000000   \n",
       "DefaultStatus                                                         0.005561   \n",
       "\n",
       "                                        DefaultStatus  \n",
       "Age                                          0.007479  \n",
       "Gender                                       0.032530  \n",
       "VerificationType                            -0.138522  \n",
       "NewCreditCustomer                            0.112726  \n",
       "AppliedAmount                                0.071169  \n",
       "UseOfLoan                                    0.132972  \n",
       "MonthlyPayment                               0.152767  \n",
       "Interest                                     0.336683  \n",
       "LoanDuration                                 0.000380  \n",
       "Education                                    0.015560  \n",
       "MaritalStatus                                0.182996  \n",
       "EmploymentStatus                             0.185571  \n",
       "OccupationArea                               0.148418  \n",
       "HomeOwnershipType                            0.028851  \n",
       "IncomeTotal                                 -0.013555  \n",
       "ExistingLiabilities                          0.020107  \n",
       "LiabilitiesTotal                             0.004166  \n",
       "RefinanceLiabilities                         0.082015  \n",
       "DebtToIncome                                 0.169973  \n",
       "FreeCash                                     0.067974  \n",
       "NoOfPreviousLoansBeforeLoan                 -0.115990  \n",
       "AmountOfPreviousLoansBeforeLoan             -0.120514  \n",
       "PreviousEarlyRepaymentsCountBeforeLoan       0.005561  \n",
       "DefaultStatus                                1.000000  \n",
       "\n",
       "[24 rows x 24 columns]"
      ]
     },
     "execution_count": 159,
     "metadata": {},
     "output_type": "execute_result"
    }
   ],
   "source": [
    "df.corr()"
   ]
  },
  {
   "cell_type": "code",
   "execution_count": 160,
   "id": "9da74f2c",
   "metadata": {},
   "outputs": [
    {
     "data": {
      "text/plain": [
       "Index(['Age', 'Gender', 'VerificationType', 'NewCreditCustomer',\n",
       "       'AppliedAmount', 'UseOfLoan', 'MonthlyPayment', 'Country', 'Interest',\n",
       "       'LoanDuration', 'Education', 'MaritalStatus', 'EmploymentStatus',\n",
       "       'EmploymentDurationCurrentEmployer', 'OccupationArea',\n",
       "       'HomeOwnershipType', 'IncomeTotal', 'ExistingLiabilities',\n",
       "       'LiabilitiesTotal', 'RefinanceLiabilities', 'DebtToIncome', 'FreeCash',\n",
       "       'NoOfPreviousLoansBeforeLoan', 'AmountOfPreviousLoansBeforeLoan',\n",
       "       'PreviousEarlyRepaymentsCountBeforeLoan', 'DefaultDate', 'Status',\n",
       "       'DefaultStatus'],\n",
       "      dtype='object')"
      ]
     },
     "execution_count": 160,
     "metadata": {},
     "output_type": "execute_result"
    }
   ],
   "source": [
    "df.columns"
   ]
  },
  {
   "cell_type": "code",
   "execution_count": 161,
   "id": "8ef758a3",
   "metadata": {},
   "outputs": [
    {
     "data": {
      "text/html": [
       "<div>\n",
       "<style scoped>\n",
       "    .dataframe tbody tr th:only-of-type {\n",
       "        vertical-align: middle;\n",
       "    }\n",
       "\n",
       "    .dataframe tbody tr th {\n",
       "        vertical-align: top;\n",
       "    }\n",
       "\n",
       "    .dataframe thead th {\n",
       "        text-align: right;\n",
       "    }\n",
       "</style>\n",
       "<table border=\"1\" class=\"dataframe\">\n",
       "  <thead>\n",
       "    <tr style=\"text-align: right;\">\n",
       "      <th></th>\n",
       "      <th>Age</th>\n",
       "      <th>Gender</th>\n",
       "      <th>VerificationType</th>\n",
       "      <th>NewCreditCustomer</th>\n",
       "      <th>AppliedAmount</th>\n",
       "      <th>UseOfLoan</th>\n",
       "      <th>MonthlyPayment</th>\n",
       "      <th>Country</th>\n",
       "      <th>Interest</th>\n",
       "      <th>LoanDuration</th>\n",
       "      <th>...</th>\n",
       "      <th>LiabilitiesTotal</th>\n",
       "      <th>RefinanceLiabilities</th>\n",
       "      <th>DebtToIncome</th>\n",
       "      <th>FreeCash</th>\n",
       "      <th>NoOfPreviousLoansBeforeLoan</th>\n",
       "      <th>AmountOfPreviousLoansBeforeLoan</th>\n",
       "      <th>PreviousEarlyRepaymentsCountBeforeLoan</th>\n",
       "      <th>DefaultDate</th>\n",
       "      <th>Status</th>\n",
       "      <th>DefaultStatus</th>\n",
       "    </tr>\n",
       "  </thead>\n",
       "  <tbody>\n",
       "    <tr>\n",
       "      <th>0</th>\n",
       "      <td>53</td>\n",
       "      <td>1.0</td>\n",
       "      <td>4.0</td>\n",
       "      <td>False</td>\n",
       "      <td>2125.0</td>\n",
       "      <td>2</td>\n",
       "      <td>62.05</td>\n",
       "      <td>EE</td>\n",
       "      <td>20.97</td>\n",
       "      <td>60</td>\n",
       "      <td>...</td>\n",
       "      <td>485.09</td>\n",
       "      <td>6</td>\n",
       "      <td>26.29</td>\n",
       "      <td>10.92</td>\n",
       "      <td>1.0</td>\n",
       "      <td>500.0</td>\n",
       "      <td>0.0</td>\n",
       "      <td>2020-01-14</td>\n",
       "      <td>Late</td>\n",
       "      <td>1</td>\n",
       "    </tr>\n",
       "    <tr>\n",
       "      <th>1</th>\n",
       "      <td>25</td>\n",
       "      <td>0.0</td>\n",
       "      <td>4.0</td>\n",
       "      <td>False</td>\n",
       "      <td>531.0</td>\n",
       "      <td>-1</td>\n",
       "      <td>16.67</td>\n",
       "      <td>EE</td>\n",
       "      <td>25.27</td>\n",
       "      <td>60</td>\n",
       "      <td>...</td>\n",
       "      <td>0.00</td>\n",
       "      <td>0</td>\n",
       "      <td>0.00</td>\n",
       "      <td>0.00</td>\n",
       "      <td>8.0</td>\n",
       "      <td>8609.0</td>\n",
       "      <td>0.0</td>\n",
       "      <td>NaN</td>\n",
       "      <td>Current</td>\n",
       "      <td>0</td>\n",
       "    </tr>\n",
       "    <tr>\n",
       "      <th>2</th>\n",
       "      <td>50</td>\n",
       "      <td>1.0</td>\n",
       "      <td>1.0</td>\n",
       "      <td>False</td>\n",
       "      <td>3000.0</td>\n",
       "      <td>3</td>\n",
       "      <td>84.75</td>\n",
       "      <td>EE</td>\n",
       "      <td>17.12</td>\n",
       "      <td>60</td>\n",
       "      <td>...</td>\n",
       "      <td>736.45</td>\n",
       "      <td>0</td>\n",
       "      <td>30.58</td>\n",
       "      <td>78.80</td>\n",
       "      <td>1.0</td>\n",
       "      <td>1800.0</td>\n",
       "      <td>1.0</td>\n",
       "      <td>2016-06-02</td>\n",
       "      <td>Repaid</td>\n",
       "      <td>1</td>\n",
       "    </tr>\n",
       "    <tr>\n",
       "      <th>3</th>\n",
       "      <td>44</td>\n",
       "      <td>0.0</td>\n",
       "      <td>4.0</td>\n",
       "      <td>True</td>\n",
       "      <td>10630.0</td>\n",
       "      <td>3</td>\n",
       "      <td>268.57</td>\n",
       "      <td>EE</td>\n",
       "      <td>13.67</td>\n",
       "      <td>60</td>\n",
       "      <td>...</td>\n",
       "      <td>905.00</td>\n",
       "      <td>3</td>\n",
       "      <td>26.71</td>\n",
       "      <td>349.43</td>\n",
       "      <td>0.0</td>\n",
       "      <td>0.0</td>\n",
       "      <td>0.0</td>\n",
       "      <td>2017-12-06</td>\n",
       "      <td>Repaid</td>\n",
       "      <td>1</td>\n",
       "    </tr>\n",
       "    <tr>\n",
       "      <th>4</th>\n",
       "      <td>42</td>\n",
       "      <td>0.0</td>\n",
       "      <td>3.0</td>\n",
       "      <td>True</td>\n",
       "      <td>1500.0</td>\n",
       "      <td>2</td>\n",
       "      <td>63.53</td>\n",
       "      <td>ES</td>\n",
       "      <td>40.40</td>\n",
       "      <td>60</td>\n",
       "      <td>...</td>\n",
       "      <td>350.00</td>\n",
       "      <td>0</td>\n",
       "      <td>7.36</td>\n",
       "      <td>449.47</td>\n",
       "      <td>0.0</td>\n",
       "      <td>0.0</td>\n",
       "      <td>1.0</td>\n",
       "      <td>2016-02-19</td>\n",
       "      <td>Late</td>\n",
       "      <td>1</td>\n",
       "    </tr>\n",
       "  </tbody>\n",
       "</table>\n",
       "<p>5 rows × 28 columns</p>\n",
       "</div>"
      ],
      "text/plain": [
       "   Age  Gender  VerificationType  NewCreditCustomer  AppliedAmount  UseOfLoan  \\\n",
       "0   53     1.0               4.0              False         2125.0          2   \n",
       "1   25     0.0               4.0              False          531.0         -1   \n",
       "2   50     1.0               1.0              False         3000.0          3   \n",
       "3   44     0.0               4.0               True        10630.0          3   \n",
       "4   42     0.0               3.0               True         1500.0          2   \n",
       "\n",
       "   MonthlyPayment Country  Interest  LoanDuration  ...  LiabilitiesTotal  \\\n",
       "0           62.05      EE     20.97            60  ...            485.09   \n",
       "1           16.67      EE     25.27            60  ...              0.00   \n",
       "2           84.75      EE     17.12            60  ...            736.45   \n",
       "3          268.57      EE     13.67            60  ...            905.00   \n",
       "4           63.53      ES     40.40            60  ...            350.00   \n",
       "\n",
       "   RefinanceLiabilities  DebtToIncome FreeCash  NoOfPreviousLoansBeforeLoan  \\\n",
       "0                     6         26.29    10.92                          1.0   \n",
       "1                     0          0.00     0.00                          8.0   \n",
       "2                     0         30.58    78.80                          1.0   \n",
       "3                     3         26.71   349.43                          0.0   \n",
       "4                     0          7.36   449.47                          0.0   \n",
       "\n",
       "   AmountOfPreviousLoansBeforeLoan  PreviousEarlyRepaymentsCountBeforeLoan  \\\n",
       "0                            500.0                                     0.0   \n",
       "1                           8609.0                                     0.0   \n",
       "2                           1800.0                                     1.0   \n",
       "3                              0.0                                     0.0   \n",
       "4                              0.0                                     1.0   \n",
       "\n",
       "   DefaultDate   Status  DefaultStatus  \n",
       "0   2020-01-14     Late              1  \n",
       "1          NaN  Current              0  \n",
       "2   2016-06-02   Repaid              1  \n",
       "3   2017-12-06   Repaid              1  \n",
       "4   2016-02-19     Late              1  \n",
       "\n",
       "[5 rows x 28 columns]"
      ]
     },
     "execution_count": 161,
     "metadata": {},
     "output_type": "execute_result"
    }
   ],
   "source": [
    "df.head()"
   ]
  },
  {
   "cell_type": "code",
   "execution_count": 162,
   "id": "ce05570c",
   "metadata": {},
   "outputs": [
    {
     "data": {
      "text/html": [
       "<div>\n",
       "<style scoped>\n",
       "    .dataframe tbody tr th:only-of-type {\n",
       "        vertical-align: middle;\n",
       "    }\n",
       "\n",
       "    .dataframe tbody tr th {\n",
       "        vertical-align: top;\n",
       "    }\n",
       "\n",
       "    .dataframe thead th {\n",
       "        text-align: right;\n",
       "    }\n",
       "</style>\n",
       "<table border=\"1\" class=\"dataframe\">\n",
       "  <thead>\n",
       "    <tr style=\"text-align: right;\">\n",
       "      <th></th>\n",
       "      <th>Age</th>\n",
       "      <th>Gender</th>\n",
       "      <th>VerificationType</th>\n",
       "      <th>NewCreditCustomer</th>\n",
       "      <th>AppliedAmount</th>\n",
       "      <th>UseOfLoan</th>\n",
       "      <th>MonthlyPayment</th>\n",
       "      <th>Country</th>\n",
       "      <th>Interest</th>\n",
       "      <th>LoanDuration</th>\n",
       "      <th>...</th>\n",
       "      <th>LiabilitiesTotal</th>\n",
       "      <th>RefinanceLiabilities</th>\n",
       "      <th>DebtToIncome</th>\n",
       "      <th>FreeCash</th>\n",
       "      <th>NoOfPreviousLoansBeforeLoan</th>\n",
       "      <th>AmountOfPreviousLoansBeforeLoan</th>\n",
       "      <th>PreviousEarlyRepaymentsCountBeforeLoan</th>\n",
       "      <th>DefaultDate</th>\n",
       "      <th>Status</th>\n",
       "      <th>DefaultStatus</th>\n",
       "    </tr>\n",
       "  </thead>\n",
       "  <tbody>\n",
       "    <tr>\n",
       "      <th>0</th>\n",
       "      <td>53</td>\n",
       "      <td>Woman</td>\n",
       "      <td>Income and expenses verified</td>\n",
       "      <td>False</td>\n",
       "      <td>2125.0</td>\n",
       "      <td>Home improvement</td>\n",
       "      <td>62.05</td>\n",
       "      <td>EE</td>\n",
       "      <td>20.97</td>\n",
       "      <td>60</td>\n",
       "      <td>...</td>\n",
       "      <td>485.09</td>\n",
       "      <td>6</td>\n",
       "      <td>26.29</td>\n",
       "      <td>10.92</td>\n",
       "      <td>1.0</td>\n",
       "      <td>500.0</td>\n",
       "      <td>0.0</td>\n",
       "      <td>2020-01-14</td>\n",
       "      <td>Late</td>\n",
       "      <td>Defaulted</td>\n",
       "    </tr>\n",
       "    <tr>\n",
       "      <th>1</th>\n",
       "      <td>25</td>\n",
       "      <td>Male</td>\n",
       "      <td>Income and expenses verified</td>\n",
       "      <td>False</td>\n",
       "      <td>531.0</td>\n",
       "      <td>Business loans that are not supported since Oc...</td>\n",
       "      <td>16.67</td>\n",
       "      <td>EE</td>\n",
       "      <td>25.27</td>\n",
       "      <td>60</td>\n",
       "      <td>...</td>\n",
       "      <td>0.00</td>\n",
       "      <td>0</td>\n",
       "      <td>0.00</td>\n",
       "      <td>0.00</td>\n",
       "      <td>8.0</td>\n",
       "      <td>8609.0</td>\n",
       "      <td>0.0</td>\n",
       "      <td>NaN</td>\n",
       "      <td>Current</td>\n",
       "      <td>Did Not Default</td>\n",
       "    </tr>\n",
       "    <tr>\n",
       "      <th>2</th>\n",
       "      <td>50</td>\n",
       "      <td>Woman</td>\n",
       "      <td>Income unverified</td>\n",
       "      <td>False</td>\n",
       "      <td>3000.0</td>\n",
       "      <td>Business</td>\n",
       "      <td>84.75</td>\n",
       "      <td>EE</td>\n",
       "      <td>17.12</td>\n",
       "      <td>60</td>\n",
       "      <td>...</td>\n",
       "      <td>736.45</td>\n",
       "      <td>0</td>\n",
       "      <td>30.58</td>\n",
       "      <td>78.80</td>\n",
       "      <td>1.0</td>\n",
       "      <td>1800.0</td>\n",
       "      <td>1.0</td>\n",
       "      <td>2016-06-02</td>\n",
       "      <td>Repaid</td>\n",
       "      <td>Defaulted</td>\n",
       "    </tr>\n",
       "    <tr>\n",
       "      <th>3</th>\n",
       "      <td>44</td>\n",
       "      <td>Male</td>\n",
       "      <td>Income and expenses verified</td>\n",
       "      <td>True</td>\n",
       "      <td>10630.0</td>\n",
       "      <td>Business</td>\n",
       "      <td>268.57</td>\n",
       "      <td>EE</td>\n",
       "      <td>13.67</td>\n",
       "      <td>60</td>\n",
       "      <td>...</td>\n",
       "      <td>905.00</td>\n",
       "      <td>3</td>\n",
       "      <td>26.71</td>\n",
       "      <td>349.43</td>\n",
       "      <td>0.0</td>\n",
       "      <td>0.0</td>\n",
       "      <td>0.0</td>\n",
       "      <td>2017-12-06</td>\n",
       "      <td>Repaid</td>\n",
       "      <td>Defaulted</td>\n",
       "    </tr>\n",
       "    <tr>\n",
       "      <th>4</th>\n",
       "      <td>42</td>\n",
       "      <td>Male</td>\n",
       "      <td>Income verified</td>\n",
       "      <td>True</td>\n",
       "      <td>1500.0</td>\n",
       "      <td>Home improvement</td>\n",
       "      <td>63.53</td>\n",
       "      <td>ES</td>\n",
       "      <td>40.40</td>\n",
       "      <td>60</td>\n",
       "      <td>...</td>\n",
       "      <td>350.00</td>\n",
       "      <td>0</td>\n",
       "      <td>7.36</td>\n",
       "      <td>449.47</td>\n",
       "      <td>0.0</td>\n",
       "      <td>0.0</td>\n",
       "      <td>1.0</td>\n",
       "      <td>2016-02-19</td>\n",
       "      <td>Late</td>\n",
       "      <td>Defaulted</td>\n",
       "    </tr>\n",
       "  </tbody>\n",
       "</table>\n",
       "<p>5 rows × 28 columns</p>\n",
       "</div>"
      ],
      "text/plain": [
       "   Age Gender              VerificationType  NewCreditCustomer  AppliedAmount  \\\n",
       "0   53  Woman  Income and expenses verified              False         2125.0   \n",
       "1   25   Male  Income and expenses verified              False          531.0   \n",
       "2   50  Woman             Income unverified              False         3000.0   \n",
       "3   44   Male  Income and expenses verified               True        10630.0   \n",
       "4   42   Male               Income verified               True         1500.0   \n",
       "\n",
       "                                           UseOfLoan  MonthlyPayment Country  \\\n",
       "0                                   Home improvement           62.05      EE   \n",
       "1  Business loans that are not supported since Oc...           16.67      EE   \n",
       "2                                           Business           84.75      EE   \n",
       "3                                           Business          268.57      EE   \n",
       "4                                   Home improvement           63.53      ES   \n",
       "\n",
       "   Interest  LoanDuration  ... LiabilitiesTotal RefinanceLiabilities  \\\n",
       "0     20.97            60  ...           485.09                    6   \n",
       "1     25.27            60  ...             0.00                    0   \n",
       "2     17.12            60  ...           736.45                    0   \n",
       "3     13.67            60  ...           905.00                    3   \n",
       "4     40.40            60  ...           350.00                    0   \n",
       "\n",
       "  DebtToIncome FreeCash NoOfPreviousLoansBeforeLoan  \\\n",
       "0        26.29    10.92                         1.0   \n",
       "1         0.00     0.00                         8.0   \n",
       "2        30.58    78.80                         1.0   \n",
       "3        26.71   349.43                         0.0   \n",
       "4         7.36   449.47                         0.0   \n",
       "\n",
       "  AmountOfPreviousLoansBeforeLoan  PreviousEarlyRepaymentsCountBeforeLoan  \\\n",
       "0                           500.0                                     0.0   \n",
       "1                          8609.0                                     0.0   \n",
       "2                          1800.0                                     1.0   \n",
       "3                             0.0                                     0.0   \n",
       "4                             0.0                                     1.0   \n",
       "\n",
       "   DefaultDate   Status    DefaultStatus  \n",
       "0   2020-01-14     Late        Defaulted  \n",
       "1          NaN  Current  Did Not Default  \n",
       "2   2016-06-02   Repaid        Defaulted  \n",
       "3   2017-12-06   Repaid        Defaulted  \n",
       "4   2016-02-19     Late        Defaulted  \n",
       "\n",
       "[5 rows x 28 columns]"
      ]
     },
     "execution_count": 162,
     "metadata": {},
     "output_type": "execute_result"
    }
   ],
   "source": [
    "df2 = df.copy()\n",
    "\n",
    "for i, row in df2.iterrows(): \n",
    "    if row['Gender'] == 0: \n",
    "        df2.loc[i, 'Gender'] = 'Male'\n",
    "    elif row['Gender'] == 1: \n",
    "        df2.loc[i, 'Gender'] = 'Woman'\n",
    "    else: \n",
    "        df2.loc[i, 'Gender'] = 'Undefined'\n",
    "    if row['VerificationType'] == 4: \n",
    "        df2.loc[i, 'VerificationType'] = 'Income and expenses verified'\n",
    "    elif row['VerificationType'] == 3: \n",
    "        df2.loc[i, 'VerificationType'] = 'Income verified'\n",
    "    elif row['VerificationType'] == 2: \n",
    "        df2.loc[i, 'VerificationType'] = 'Income unverified, cross-referenced by phone'\n",
    "    elif row['VerificationType'] == 1: \n",
    "        df2.loc[i, 'VerificationType'] = 'Income unverified'\n",
    "    else: \n",
    "        df2.loc[i, 'VerificationType'] = 'Not set'\n",
    "    if row['UseOfLoan'] == 0: \n",
    "        df2.loc[i, 'UseOfLoan'] = 'Loan consolidation'\n",
    "    elif row['UseOfLoan'] == 1: \n",
    "        df2.loc[i, 'UseOfLoan'] = 'Real estate'\n",
    "    elif row['UseOfLoan'] == 2: \n",
    "        df2.loc[i, 'UseOfLoan'] = 'Home improvement'\n",
    "    elif row['UseOfLoan'] == 3: \n",
    "        df2.loc[i, 'UseOfLoan'] = 'Business'\n",
    "    elif row['UseOfLoan'] == 4: \n",
    "        df2.loc[i, 'UseOfLoan'] = 'Education'\n",
    "    elif row['UseOfLoan'] == 5: \n",
    "        df2.loc[i, 'UseOfLoan'] = 'Travel'\n",
    "    elif row['UseOfLoan'] == 6: \n",
    "        df2.loc[i, 'UseOfLoan'] = 'Vehicle'\n",
    "    elif row['UseOfLoan'] == 7: \n",
    "        df2.loc[i, 'UseOfLoan'] = 'Other'\n",
    "    elif row['UseOfLoan'] == 8: \n",
    "        df2.loc[i, 'UseOfLoan'] = 'Health'\n",
    "    elif row['UseOfLoan'] == 101: \n",
    "        df2.loc[i, 'UseOfLoan'] = 'Working capital financing'\n",
    "    elif row['UseOfLoan'] == 102: \n",
    "        df2.loc[i, 'UseOfLoan'] = 'Purchase of machinery equipment'\n",
    "    elif row['UseOfLoan'] == 103: \n",
    "        df2.loc[i, 'UseOfLoan'] = 'Renovation of real estate'\n",
    "    elif row['UseOfLoan'] == 104: \n",
    "        df2.loc[i, 'UseOfLoan'] = 'Accounts receivable financing'\n",
    "    elif row['UseOfLoan'] == 105: \n",
    "        df2.loc[i, 'UseOfLoan'] = 'Acquisition of means of transport'\n",
    "    elif row['UseOfLoan'] == 106: \n",
    "        df2.loc[i, 'UseOfLoan'] = 'Construction finance'\n",
    "    elif row['UseOfLoan'] == 107: \n",
    "        df2.loc[i, 'UseOfLoan'] = 'Acquisition of stocks'\n",
    "    elif row['UseOfLoan'] == 108: \n",
    "        df2.loc[i, 'UseOfLoan'] = 'Acquisition of real estate'\n",
    "    elif row['UseOfLoan'] == 109: \n",
    "        df2.loc[i, 'UseOfLoan'] = 'Guaranteeing obligation'\n",
    "    elif row['UseOfLoan'] == 110: \n",
    "        df2.loc[i, 'UseOfLoan'] = 'Other business All codes in format'\n",
    "    else:\n",
    "        df2.loc[i, 'UseOfLoan'] = 'Business loans that are not supported since October 2012'\n",
    "    if row['Education'] == 1: \n",
    "        df2.loc[i, 'Education'] = 'Primary education'\n",
    "    elif row['Education'] == 2: \n",
    "        df2.loc[i, 'Education'] = 'Basic education'\n",
    "    elif row['Education'] == 3: \n",
    "        df2.loc[i, 'Education'] = 'Vocational education'\n",
    "    elif row['Education'] == 4: \n",
    "        df2.loc[i, 'Education'] = 'Secondary education'\n",
    "    else: \n",
    "        df2.loc[i, 'Education'] = 'Higher education'\n",
    "    if row['MaritalStatus'] == 1: \n",
    "        df2.loc[i, 'MaritalStatus'] = 'Married'\n",
    "    elif row['MaritalStatus'] == 2: \n",
    "        df2.loc[i, 'MaritalStatus'] = 'Cohabitant'  \n",
    "    elif row['MaritalStatus'] == 3: \n",
    "        df2.loc[i, 'MaritalStatus'] = 'Single'  \n",
    "    elif row['MaritalStatus'] == 4: \n",
    "        df2.loc[i, 'MaritalStatus'] = 'Divorced' \n",
    "    else: \n",
    "        df2.loc[i, 'MaritalStatus'] = 'Widow' \n",
    "    if row['EmploymentStatus'] == 1: \n",
    "        df2.loc[i, 'EmploymentStatus'] = 'Unemployed'\n",
    "    elif row['EmploymentStatus'] == 2: \n",
    "        df2.loc[i, 'EmploymentStatus'] = 'Partially employed'\n",
    "    elif row['EmploymentStatus'] == 3: \n",
    "        df2.loc[i, 'EmploymentStatus'] = 'Fully employed'\n",
    "    elif row['EmploymentStatus'] == 4: \n",
    "        df2.loc[i, 'EmploymentStatus'] = 'Self-employed'\n",
    "    elif row['EmploymentStatus'] == 5: \n",
    "        df2.loc[i, 'EmploymentStatus'] = 'Entrepreneur'\n",
    "    else:\n",
    "        df2.loc[i, 'EmploymentStatus'] = 'Retiree'\n",
    "    if row['OccupationArea'] == 2: \n",
    "        df2.loc[i, 'OccupationArea'] = 'Mining'\n",
    "    elif row['OccupationArea'] == 3: \n",
    "        df2.loc[i, 'OccupationArea'] = 'Processing'\n",
    "    elif row['OccupationArea'] == 4: \n",
    "        df2.loc[i, 'OccupationArea'] = 'Energy'\n",
    "    elif row['OccupationArea'] == 5: \n",
    "        df2.loc[i, 'OccupationArea'] = 'Utilities'\n",
    "    elif row['OccupationArea'] == 6: \n",
    "        df2.loc[i, 'OccupationArea'] = 'Construction'\n",
    "    elif row['OccupationArea'] == 7: \n",
    "        df2.loc[i, 'OccupationArea'] = 'Retail and wholesale'\n",
    "    elif row['OccupationArea'] == 8: \n",
    "        df2.loc[i, 'OccupationArea'] = 'Transport and warehousing'\n",
    "    elif row['OccupationArea'] == 9: \n",
    "        df2.loc[i, 'OccupationArea'] = 'Hospitality and catering'\n",
    "    elif row['OccupationArea'] == 10: \n",
    "        df2.loc[i, 'OccupationArea'] = 'Info and telecom'\n",
    "    elif row['OccupationArea'] == 11: \n",
    "        df2.loc[i, 'OccupationArea'] = 'Finance and insurance'\n",
    "    elif row['OccupationArea'] == 12: \n",
    "        df2.loc[i, 'OccupationArea'] = 'Real-estate'\n",
    "    elif row['OccupationArea'] == 13: \n",
    "        df2.loc[i, 'OccupationArea'] = 'Research'\n",
    "    elif row['OccupationArea'] == 14: \n",
    "        df2.loc[i, 'OccupationArea'] = 'Administrative'\n",
    "    elif row['OccupationArea'] == 15: \n",
    "        df2.loc[i, 'OccupationArea'] = 'Civil service & military'\n",
    "    elif row['OccupationArea'] == 16: \n",
    "        df2.loc[i, 'OccupationArea'] = 'Education'\n",
    "    elif row['OccupationArea'] == 17: \n",
    "        df2.loc[i, 'OccupationArea'] = 'Healthcare and social help'\n",
    "    elif row['OccupationArea'] == 18: \n",
    "        df2.loc[i, 'OccupationArea'] = 'Art and entertainment'\n",
    "    elif row['OccupationArea'] == 19: \n",
    "        df2.loc[i, 'OccupationArea'] = 'Agriculture, forestry and fishing'\n",
    "    else: \n",
    "        df2.loc[i, 'OccupationArea'] = 'Other'\n",
    "    if row['HomeOwnershipType'] == 0: \n",
    "        df2.loc[i, 'HomeOwnershipType'] = 'Homeless'\n",
    "    elif row['HomeOwnershipType'] == 1: \n",
    "        df2.loc[i, 'HomeOwnershipType'] = 'Owner'\n",
    "    elif row['HomeOwnershipType'] == 2: \n",
    "        df2.loc[i, 'HomeOwnershipType'] = 'Living with parents'\n",
    "    elif row['HomeOwnershipType'] == 3: \n",
    "        df2.loc[i, 'HomeOwnershipType'] = 'Tenant, pre-furnished property'\n",
    "    elif row['HomeOwnershipType'] == 4: \n",
    "        df2.loc[i, 'HomeOwnershipType'] = 'Tenant, unfurnished property'\n",
    "    elif row['HomeOwnershipType'] == 5: \n",
    "        df2.loc[i, 'HomeOwnershipType'] = 'Council house'\n",
    "    elif row['HomeOwnershipType'] == 6: \n",
    "        df2.loc[i, 'HomeOwnershipType'] = 'Joint tenant'\n",
    "    elif row['HomeOwnershipType'] == 7: \n",
    "        df2.loc[i, 'HomeOwnershipType'] = 'Joint ownership'\n",
    "    elif row['HomeOwnershipType'] == 8: \n",
    "        df2.loc[i, 'HomeOwnershipType'] = 'Mortgage'\n",
    "    elif row['HomeOwnershipType'] == 9: \n",
    "        df2.loc[i, 'HomeOwnershipType'] = 'Owner with encumbrance'\n",
    "    else: \n",
    "        df2.loc[i, 'HomeOwnershipType'] = 'Other'\n",
    "    if row['DefaultStatus'] == 0: \n",
    "        df2.loc[i, 'DefaultStatus'] = 'Did Not Default'\n",
    "    else:\n",
    "        df2.loc[i, 'DefaultStatus'] = 'Defaulted'\n",
    "    \n",
    "    \n",
    "    \n",
    "df2.head()"
   ]
  },
  {
   "cell_type": "code",
   "execution_count": 163,
   "id": "9d54306a",
   "metadata": {},
   "outputs": [
    {
     "data": {
      "image/png": "[encoded data removed]",
      "text/plain": [
       "<Figure size 936x720 with 1 Axes>"
      ]
     },
     "metadata": {},
     "output_type": "display_data"
    }
   ],
   "source": [
    "sns.set_theme(style=\"whitegrid\")\n",
    "sns.set(rc = {'figure.figsize':(13,10)})\n",
    "ax = sns.countplot(x='DefaultStatus', data=df2)"
   ]
  },
  {
   "cell_type": "code",
   "execution_count": 164,
   "id": "8ec76e0c",
   "metadata": {},
   "outputs": [],
   "source": [
    "df2.to_csv('FullyProcessedData.csv', index=False)"
   ]
  },
  {
   "cell_type": "markdown",
   "id": "563c7520",
   "metadata": {},
   "source": [
    "Since the status column for a new applicant cannot be known, it will be dropped. \n",
    "\n",
    "Also, since the default date cannot be known and it has been used to determine if the applicant defaulted or not, it will also be dropped. \n",
    "\n",
    "We can also drop the country column as it doesn't really bears no relevance to determining if an individual will default on his/her loan repayment. "
   ]
  },
  {
   "cell_type": "code",
   "execution_count": 165,
   "id": "ecd03577",
   "metadata": {},
   "outputs": [
    {
     "data": {
      "text/plain": [
       "26"
      ]
     },
     "execution_count": 165,
     "metadata": {},
     "output_type": "execute_result"
    }
   ],
   "source": [
    "df.drop(columns=['Status', 'DefaultDate'], inplace=True)\n",
    "len(df.columns)"
   ]
  },
  {
   "cell_type": "markdown",
   "id": "b17d6098",
   "metadata": {},
   "source": [
    "### Data Exploration"
   ]
  },
  {
   "cell_type": "code",
   "execution_count": 167,
   "id": "9c6ea345",
   "metadata": {},
   "outputs": [
    {
     "data": {
      "image/png": "[encoded data removed]",
      "text/plain": [
       "<Figure size 936x720 with 1 Axes>"
      ]
     },
     "metadata": {},
     "output_type": "display_data"
    }
   ],
   "source": [
    "sns.set_theme(style=\"whitegrid\")\n",
    "sns.set(rc = {'figure.figsize':(13,10)})\n",
    "ax = sns.countplot(x='OccupationArea', data=df)"
   ]
  },
  {
   "cell_type": "code",
   "execution_count": 168,
   "id": "97518044",
   "metadata": {},
   "outputs": [
    {
     "data": {
      "text/plain": [
       "Index(['Age', 'Gender', 'VerificationType', 'NewCreditCustomer',\n",
       "       'AppliedAmount', 'UseOfLoan', 'MonthlyPayment', 'Country', 'Interest',\n",
       "       'LoanDuration', 'Education', 'MaritalStatus', 'EmploymentStatus',\n",
       "       'EmploymentDurationCurrentEmployer', 'OccupationArea',\n",
       "       'HomeOwnershipType', 'IncomeTotal', 'ExistingLiabilities',\n",
       "       'LiabilitiesTotal', 'RefinanceLiabilities', 'DebtToIncome', 'FreeCash',\n",
       "       'NoOfPreviousLoansBeforeLoan', 'AmountOfPreviousLoansBeforeLoan',\n",
       "       'PreviousEarlyRepaymentsCountBeforeLoan', 'DefaultStatus'],\n",
       "      dtype='object')"
      ]
     },
     "execution_count": 168,
     "metadata": {},
     "output_type": "execute_result"
    }
   ],
   "source": [
    "df.columns"
   ]
  },
  {
   "cell_type": "code",
   "execution_count": 169,
   "id": "bc8c8bb3",
   "metadata": {},
   "outputs": [
    {
     "data": {
      "image/png": "[encoded data removed]",
      "text/plain": [
       "<Figure size 936x720 with 1 Axes>"
      ]
     },
     "metadata": {},
     "output_type": "display_data"
    }
   ],
   "source": [
    "sns.set_theme(style=\"whitegrid\")\n",
    "sns.set(rc = {'figure.figsize':(13,10)})\n",
    "ax = sns.countplot(x='Gender', data=df)"
   ]
  },
  {
   "cell_type": "code",
   "execution_count": 170,
   "id": "1f376dca",
   "metadata": {},
   "outputs": [
    {
     "data": {
      "text/plain": [
       "0.0    58.131758\n",
       "1.0    36.318832\n",
       "2.0     5.530694\n",
       "Name: Gender, dtype: float64"
      ]
     },
     "execution_count": 170,
     "metadata": {},
     "output_type": "execute_result"
    }
   ],
   "source": [
    "df['Gender'].value_counts()/len(df)* 100"
   ]
  },
  {
   "cell_type": "code",
   "execution_count": 171,
   "id": "941e956c",
   "metadata": {},
   "outputs": [
    {
     "data": {
      "text/plain": [
       "0.0    139772\n",
       "1.0     87325\n",
       "2.0     13298\n",
       "Name: Gender, dtype: int64"
      ]
     },
     "execution_count": 171,
     "metadata": {},
     "output_type": "execute_result"
    }
   ],
   "source": [
    "df['Gender'].value_counts()"
   ]
  },
  {
   "cell_type": "code",
   "execution_count": 172,
   "id": "ab9f8cb2",
   "metadata": {},
   "outputs": [
    {
     "data": {
      "text/plain": [
       "<AxesSubplot:xlabel='Gender', ylabel='Count'>"
      ]
     },
     "execution_count": 172,
     "metadata": {},
     "output_type": "execute_result"
    },
    {
     "data": {
      "image/png": "[encoded data removed]",
      "text/plain": [
       "<Figure size 842.4x595.44 with 1 Axes>"
      ]
     },
     "metadata": {},
     "output_type": "display_data"
    }
   ],
   "source": [
    "sns.set(rc={'figure.figsize':(11.7,8.27)})\n",
    "sns.set_style('whitegrid')\n",
    "\n",
    "plot = df.groupby(['Gender'])['DefaultStatus'].value_counts().reset_index(name='count')\n",
    "sns.histplot(x = 'Gender' , hue = 'DefaultStatus',weights= 'count', bins=8,\n",
    "             multiple = 'stack', data=plot)"
   ]
  },
  {
   "cell_type": "code",
   "execution_count": 173,
   "id": "ae6a8387",
   "metadata": {},
   "outputs": [
    {
     "data": {
      "text/html": [
       "<div>\n",
       "<style scoped>\n",
       "    .dataframe tbody tr th:only-of-type {\n",
       "        vertical-align: middle;\n",
       "    }\n",
       "\n",
       "    .dataframe tbody tr th {\n",
       "        vertical-align: top;\n",
       "    }\n",
       "\n",
       "    .dataframe thead th {\n",
       "        text-align: right;\n",
       "    }\n",
       "</style>\n",
       "<table border=\"1\" class=\"dataframe\">\n",
       "  <thead>\n",
       "    <tr style=\"text-align: right;\">\n",
       "      <th></th>\n",
       "      <th>Gender</th>\n",
       "      <th>DefaultStatus</th>\n",
       "      <th>count</th>\n",
       "    </tr>\n",
       "  </thead>\n",
       "  <tbody>\n",
       "    <tr>\n",
       "      <th>0</th>\n",
       "      <td>0.0</td>\n",
       "      <td>0</td>\n",
       "      <td>89878</td>\n",
       "    </tr>\n",
       "    <tr>\n",
       "      <th>1</th>\n",
       "      <td>0.0</td>\n",
       "      <td>1</td>\n",
       "      <td>49894</td>\n",
       "    </tr>\n",
       "    <tr>\n",
       "      <th>2</th>\n",
       "      <td>1.0</td>\n",
       "      <td>0</td>\n",
       "      <td>65263</td>\n",
       "    </tr>\n",
       "    <tr>\n",
       "      <th>3</th>\n",
       "      <td>1.0</td>\n",
       "      <td>1</td>\n",
       "      <td>22062</td>\n",
       "    </tr>\n",
       "    <tr>\n",
       "      <th>4</th>\n",
       "      <td>2.0</td>\n",
       "      <td>1</td>\n",
       "      <td>9342</td>\n",
       "    </tr>\n",
       "    <tr>\n",
       "      <th>5</th>\n",
       "      <td>2.0</td>\n",
       "      <td>0</td>\n",
       "      <td>3956</td>\n",
       "    </tr>\n",
       "  </tbody>\n",
       "</table>\n",
       "</div>"
      ],
      "text/plain": [
       "   Gender  DefaultStatus  count\n",
       "0     0.0              0  89878\n",
       "1     0.0              1  49894\n",
       "2     1.0              0  65263\n",
       "3     1.0              1  22062\n",
       "4     2.0              1   9342\n",
       "5     2.0              0   3956"
      ]
     },
     "execution_count": 173,
     "metadata": {},
     "output_type": "execute_result"
    }
   ],
   "source": [
    "df.groupby(['Gender'])['DefaultStatus'].value_counts().reset_index(name='count')"
   ]
  },
  {
   "cell_type": "code",
   "execution_count": 174,
   "id": "2c0e0307",
   "metadata": {},
   "outputs": [
    {
     "data": {
      "text/html": [
       "<div>\n",
       "<style scoped>\n",
       "    .dataframe tbody tr th:only-of-type {\n",
       "        vertical-align: middle;\n",
       "    }\n",
       "\n",
       "    .dataframe tbody tr th {\n",
       "        vertical-align: top;\n",
       "    }\n",
       "\n",
       "    .dataframe thead th {\n",
       "        text-align: right;\n",
       "    }\n",
       "</style>\n",
       "<table border=\"1\" class=\"dataframe\">\n",
       "  <thead>\n",
       "    <tr style=\"text-align: right;\">\n",
       "      <th></th>\n",
       "      <th>DefaultStatus</th>\n",
       "      <th>Gender</th>\n",
       "      <th>count</th>\n",
       "    </tr>\n",
       "  </thead>\n",
       "  <tbody>\n",
       "    <tr>\n",
       "      <th>0</th>\n",
       "      <td>0</td>\n",
       "      <td>0.0</td>\n",
       "      <td>89878</td>\n",
       "    </tr>\n",
       "    <tr>\n",
       "      <th>1</th>\n",
       "      <td>0</td>\n",
       "      <td>1.0</td>\n",
       "      <td>65263</td>\n",
       "    </tr>\n",
       "    <tr>\n",
       "      <th>2</th>\n",
       "      <td>0</td>\n",
       "      <td>2.0</td>\n",
       "      <td>3956</td>\n",
       "    </tr>\n",
       "    <tr>\n",
       "      <th>3</th>\n",
       "      <td>1</td>\n",
       "      <td>0.0</td>\n",
       "      <td>49894</td>\n",
       "    </tr>\n",
       "    <tr>\n",
       "      <th>4</th>\n",
       "      <td>1</td>\n",
       "      <td>1.0</td>\n",
       "      <td>22062</td>\n",
       "    </tr>\n",
       "    <tr>\n",
       "      <th>5</th>\n",
       "      <td>1</td>\n",
       "      <td>2.0</td>\n",
       "      <td>9342</td>\n",
       "    </tr>\n",
       "  </tbody>\n",
       "</table>\n",
       "</div>"
      ],
      "text/plain": [
       "   DefaultStatus  Gender  count\n",
       "0              0     0.0  89878\n",
       "1              0     1.0  65263\n",
       "2              0     2.0   3956\n",
       "3              1     0.0  49894\n",
       "4              1     1.0  22062\n",
       "5              1     2.0   9342"
      ]
     },
     "execution_count": 174,
     "metadata": {},
     "output_type": "execute_result"
    }
   ],
   "source": [
    "df.groupby(['DefaultStatus'])['Gender'].value_counts().reset_index(name='count')"
   ]
  },
  {
   "cell_type": "code",
   "execution_count": 175,
   "id": "e01a4a73",
   "metadata": {},
   "outputs": [
    {
     "data": {
      "text/plain": [
       "139772"
      ]
     },
     "execution_count": 175,
     "metadata": {},
     "output_type": "execute_result"
    }
   ],
   "source": [
    "len(df[df['Gender']==0])"
   ]
  },
  {
   "cell_type": "code",
   "execution_count": 176,
   "id": "c30ca87c",
   "metadata": {},
   "outputs": [
    {
     "data": {
      "text/plain": [
       "139772"
      ]
     },
     "execution_count": 176,
     "metadata": {},
     "output_type": "execute_result"
    }
   ],
   "source": [
    "89878 + 49894"
   ]
  },
  {
   "cell_type": "code",
   "execution_count": 177,
   "id": "daf4209e",
   "metadata": {
    "scrolled": true
   },
   "outputs": [
    {
     "name": "stdout",
     "output_type": "stream",
     "text": [
      "64.303\n",
      "74.736\n",
      "29.749\n",
      "35.697\n",
      "25.264\n",
      "70.251\n"
     ]
    }
   ],
   "source": [
    "print(round(len(df[(df['Gender']==0) & (df['DefaultStatus']==0)])/len(df[(df['Gender']==0)]) *100, 3))\n",
    "print(round(len(df[(df['Gender']==1) & (df['DefaultStatus']==0)])/len(df[(df['Gender']==1)]) *100, 3))\n",
    "print(round(len(df[(df['Gender']==2) & (df['DefaultStatus']==0)])/len(df[(df['Gender']==2)]) *100, 3))\n",
    "print(round(len(df[(df['Gender']==0) & (df['DefaultStatus']==1)])/len(df[(df['Gender']==0)]) *100, 3))\n",
    "print(round(len(df[(df['Gender']==1) & (df['DefaultStatus']==1)])/len(df[(df['Gender']==1)]) *100, 3))\n",
    "print(round(len(df[(df['Gender']==2) & (df['DefaultStatus']==1)])/len(df[(df['Gender']==2)]) *100, 3))\n"
   ]
  },
  {
   "cell_type": "markdown",
   "id": "555a817f",
   "metadata": {},
   "source": [
    "64% of male borrowers did not default.<br>\n",
    "74% of female borrowers did not default.<br>\n",
    "29% of undefined gender borrowers did not default.<br>\n",
    "35% of male borrowers defaulted.<br>\n",
    "25% of female borrowers defaulted.<br>"
   ]
  },
  {
   "cell_type": "code",
   "execution_count": 178,
   "id": "16e66c22",
   "metadata": {},
   "outputs": [
    {
     "data": {
      "image/png": "[encoded data removed]",
      "text/plain": [
       "<Figure size 936x720 with 1 Axes>"
      ]
     },
     "metadata": {},
     "output_type": "display_data"
    }
   ],
   "source": [
    "sns.set_theme(style=\"whitegrid\")\n",
    "sns.set(rc = {'figure.figsize':(13,10)})\n",
    "ax = sns.countplot(x='MaritalStatus', data=df)"
   ]
  },
  {
   "cell_type": "code",
   "execution_count": 179,
   "id": "ff824b69",
   "metadata": {},
   "outputs": [
    {
     "data": {
      "text/plain": [
       "-1.0    203852\n",
       " 3.0     12400\n",
       " 1.0     10752\n",
       " 2.0      9400\n",
       " 4.0      3377\n",
       " 5.0       601\n",
       " 0.0         8\n",
       "Name: MaritalStatus, dtype: int64"
      ]
     },
     "execution_count": 179,
     "metadata": {},
     "output_type": "execute_result"
    }
   ],
   "source": [
    "df['MaritalStatus'].value_counts()"
   ]
  },
  {
   "cell_type": "code",
   "execution_count": 180,
   "id": "c7ee04e8",
   "metadata": {},
   "outputs": [
    {
     "data": {
      "text/plain": [
       "-1.0    84.782898\n",
       " 3.0     5.157212\n",
       " 1.0     4.471802\n",
       " 2.0     3.909499\n",
       " 4.0     1.404508\n",
       " 5.0     0.249958\n",
       " 0.0     0.003327\n",
       "Name: MaritalStatus, dtype: float64"
      ]
     },
     "execution_count": 180,
     "metadata": {},
     "output_type": "execute_result"
    }
   ],
   "source": [
    "df['MaritalStatus'].value_counts()/len(df)* 100"
   ]
  },
  {
   "cell_type": "code",
   "execution_count": 181,
   "id": "8f084090",
   "metadata": {},
   "outputs": [
    {
     "data": {
      "text/plain": [
       "<AxesSubplot:>"
      ]
     },
     "execution_count": 181,
     "metadata": {},
     "output_type": "execute_result"
    },
    {
     "data": {
      "image/png": "[encoded data removed]",
      "text/plain": [
       "<Figure size 842.4x595.44 with 1 Axes>"
      ]
     },
     "metadata": {},
     "output_type": "display_data"
    }
   ],
   "source": [
    "# sns.set(rc={'figure.figsize':(11.7,8.27)})\n",
    "# sns.set_style('whitegrid')\n",
    "\n",
    "# plot = df.groupby(['Default'])['MaritalStatus'].value_counts().reset_index(name='count')\n",
    "# sns.histplot(x = 'Default' , hue = 'MaritalStatus',weights= 'count',\n",
    "#              multiple = 'stack',data=plot,shrink = 0.7)\n",
    "\n",
    "\n",
    "\n",
    "\n",
    "\n",
    "\n",
    "sns.set(rc={'figure.figsize':(11.7,8.27)})\n",
    "sns.set_style('whitegrid')\n",
    "\n",
    "data = df.groupby(['MaritalStatus'])['DefaultStatus'].value_counts().reset_index(name='count')\n",
    "# sns.histplot(x = 'MaritalStatus' , hue = 'DefaultStatus',weights= 'count',\n",
    "#              multiple = 'stack', data=plot)\n",
    "data.plot(kind='bar', stacked=True, color=['red', 'blue'])"
   ]
  },
  {
   "cell_type": "code",
   "execution_count": 182,
   "id": "417af806",
   "metadata": {},
   "outputs": [
    {
     "data": {
      "text/html": [
       "<div>\n",
       "<style scoped>\n",
       "    .dataframe tbody tr th:only-of-type {\n",
       "        vertical-align: middle;\n",
       "    }\n",
       "\n",
       "    .dataframe tbody tr th {\n",
       "        vertical-align: top;\n",
       "    }\n",
       "\n",
       "    .dataframe thead th {\n",
       "        text-align: right;\n",
       "    }\n",
       "</style>\n",
       "<table border=\"1\" class=\"dataframe\">\n",
       "  <thead>\n",
       "    <tr style=\"text-align: right;\">\n",
       "      <th></th>\n",
       "      <th>DefaultStatus</th>\n",
       "      <th>MaritalStatus</th>\n",
       "      <th>count</th>\n",
       "    </tr>\n",
       "  </thead>\n",
       "  <tbody>\n",
       "    <tr>\n",
       "      <th>0</th>\n",
       "      <td>0</td>\n",
       "      <td>-1.0</td>\n",
       "      <td>142593</td>\n",
       "    </tr>\n",
       "    <tr>\n",
       "      <th>1</th>\n",
       "      <td>0</td>\n",
       "      <td>3.0</td>\n",
       "      <td>5058</td>\n",
       "    </tr>\n",
       "    <tr>\n",
       "      <th>2</th>\n",
       "      <td>0</td>\n",
       "      <td>2.0</td>\n",
       "      <td>4895</td>\n",
       "    </tr>\n",
       "    <tr>\n",
       "      <th>3</th>\n",
       "      <td>0</td>\n",
       "      <td>1.0</td>\n",
       "      <td>4847</td>\n",
       "    </tr>\n",
       "    <tr>\n",
       "      <th>4</th>\n",
       "      <td>0</td>\n",
       "      <td>4.0</td>\n",
       "      <td>1426</td>\n",
       "    </tr>\n",
       "    <tr>\n",
       "      <th>5</th>\n",
       "      <td>0</td>\n",
       "      <td>5.0</td>\n",
       "      <td>274</td>\n",
       "    </tr>\n",
       "    <tr>\n",
       "      <th>6</th>\n",
       "      <td>1</td>\n",
       "      <td>-1.0</td>\n",
       "      <td>61259</td>\n",
       "    </tr>\n",
       "    <tr>\n",
       "      <th>7</th>\n",
       "      <td>1</td>\n",
       "      <td>3.0</td>\n",
       "      <td>7342</td>\n",
       "    </tr>\n",
       "    <tr>\n",
       "      <th>8</th>\n",
       "      <td>1</td>\n",
       "      <td>1.0</td>\n",
       "      <td>5905</td>\n",
       "    </tr>\n",
       "    <tr>\n",
       "      <th>9</th>\n",
       "      <td>1</td>\n",
       "      <td>2.0</td>\n",
       "      <td>4505</td>\n",
       "    </tr>\n",
       "    <tr>\n",
       "      <th>10</th>\n",
       "      <td>1</td>\n",
       "      <td>4.0</td>\n",
       "      <td>1951</td>\n",
       "    </tr>\n",
       "    <tr>\n",
       "      <th>11</th>\n",
       "      <td>1</td>\n",
       "      <td>5.0</td>\n",
       "      <td>327</td>\n",
       "    </tr>\n",
       "    <tr>\n",
       "      <th>12</th>\n",
       "      <td>1</td>\n",
       "      <td>0.0</td>\n",
       "      <td>8</td>\n",
       "    </tr>\n",
       "  </tbody>\n",
       "</table>\n",
       "</div>"
      ],
      "text/plain": [
       "    DefaultStatus  MaritalStatus   count\n",
       "0               0           -1.0  142593\n",
       "1               0            3.0    5058\n",
       "2               0            2.0    4895\n",
       "3               0            1.0    4847\n",
       "4               0            4.0    1426\n",
       "5               0            5.0     274\n",
       "6               1           -1.0   61259\n",
       "7               1            3.0    7342\n",
       "8               1            1.0    5905\n",
       "9               1            2.0    4505\n",
       "10              1            4.0    1951\n",
       "11              1            5.0     327\n",
       "12              1            0.0       8"
      ]
     },
     "execution_count": 182,
     "metadata": {},
     "output_type": "execute_result"
    }
   ],
   "source": [
    "ass = df.groupby(['DefaultStatus'])['MaritalStatus'].value_counts().reset_index(name='count')\n",
    "ass"
   ]
  },
  {
   "cell_type": "code",
   "execution_count": 183,
   "id": "975b5aa2",
   "metadata": {},
   "outputs": [
    {
     "data": {
      "text/plain": [
       "8"
      ]
     },
     "execution_count": 183,
     "metadata": {},
     "output_type": "execute_result"
    }
   ],
   "source": [
    "len(df[df['MaritalStatus']==0])"
   ]
  },
  {
   "cell_type": "markdown",
   "id": "d1d2435e",
   "metadata": {},
   "source": [
    "69% of unspecified status applicants did not default."
   ]
  },
  {
   "cell_type": "code",
   "execution_count": 184,
   "id": "098e2671",
   "metadata": {},
   "outputs": [
    {
     "data": {
      "text/plain": [
       "69.949"
      ]
     },
     "execution_count": 184,
     "metadata": {},
     "output_type": "execute_result"
    }
   ],
   "source": [
    "round(len(df[(df['MaritalStatus']==-1) & (df['DefaultStatus']==0)])/len(df[(df['MaritalStatus']==-1)]) *100, 3)"
   ]
  },
  {
   "cell_type": "markdown",
   "id": "77db256c",
   "metadata": {},
   "source": [
    "45% of married  did borrowers ot default."
   ]
  },
  {
   "cell_type": "code",
   "execution_count": 185,
   "id": "cf6c481c",
   "metadata": {},
   "outputs": [
    {
     "data": {
      "text/plain": [
       "45.08"
      ]
     },
     "execution_count": 185,
     "metadata": {},
     "output_type": "execute_result"
    }
   ],
   "source": [
    "round(len(df[(df['MaritalStatus']==1) & (df['DefaultStatus']==0)])/len(df[(df['MaritalStatus']==1)]) *100, 3)"
   ]
  },
  {
   "cell_type": "markdown",
   "id": "462d52bb",
   "metadata": {},
   "source": [
    "52% of cohabitant borrowers did not default."
   ]
  },
  {
   "cell_type": "code",
   "execution_count": 186,
   "id": "efa9f99c",
   "metadata": {},
   "outputs": [
    {
     "data": {
      "text/plain": [
       "52.074"
      ]
     },
     "execution_count": 186,
     "metadata": {},
     "output_type": "execute_result"
    }
   ],
   "source": [
    "round(len(df[(df['MaritalStatus']==2) & (df['DefaultStatus']==0)])/len(df[(df['MaritalStatus']==2)]) *100, 3)"
   ]
  },
  {
   "cell_type": "markdown",
   "id": "05ea03ab",
   "metadata": {},
   "source": [
    "40.79% of single borrowers did not default."
   ]
  },
  {
   "cell_type": "code",
   "execution_count": 187,
   "id": "b3190a3f",
   "metadata": {},
   "outputs": [
    {
     "data": {
      "text/plain": [
       "40.79"
      ]
     },
     "execution_count": 187,
     "metadata": {},
     "output_type": "execute_result"
    }
   ],
   "source": [
    "round(len(df[(df['MaritalStatus']==3) & (df['DefaultStatus']==0)])/len(df[(df['MaritalStatus']==3)]) *100, 3)"
   ]
  },
  {
   "cell_type": "markdown",
   "id": "ec1b757e",
   "metadata": {},
   "source": [
    "42% of divorced borrowers did not default."
   ]
  },
  {
   "cell_type": "code",
   "execution_count": 188,
   "id": "b234244b",
   "metadata": {},
   "outputs": [
    {
     "data": {
      "text/plain": [
       "42.227"
      ]
     },
     "execution_count": 188,
     "metadata": {},
     "output_type": "execute_result"
    }
   ],
   "source": [
    "round(len(df[(df['MaritalStatus']==4) & (df['DefaultStatus']==0)])/len(df[(df['MaritalStatus']==4)]) *100, 3)"
   ]
  },
  {
   "cell_type": "markdown",
   "id": "8157540b",
   "metadata": {},
   "source": [
    "45.59% of widow applicants did not default."
   ]
  },
  {
   "cell_type": "code",
   "execution_count": 189,
   "id": "88ed81f7",
   "metadata": {},
   "outputs": [
    {
     "data": {
      "text/plain": [
       "45.591"
      ]
     },
     "execution_count": 189,
     "metadata": {},
     "output_type": "execute_result"
    }
   ],
   "source": [
    "round(len(df[(df['MaritalStatus']==5) & (df['DefaultStatus']==0)])/len(df[(df['MaritalStatus']==5)]) *100, 3)"
   ]
  },
  {
   "cell_type": "markdown",
   "id": "8439dec5",
   "metadata": {},
   "source": [
    "30% of unspecified status applicants defaulted."
   ]
  },
  {
   "cell_type": "code",
   "execution_count": 190,
   "id": "b15f12dc",
   "metadata": {},
   "outputs": [
    {
     "data": {
      "text/plain": [
       "30.051"
      ]
     },
     "execution_count": 190,
     "metadata": {},
     "output_type": "execute_result"
    }
   ],
   "source": [
    "round(len(df[(df['MaritalStatus']==-1) & (df['DefaultStatus']==1)])/len(df[(df['MaritalStatus']==-1)]) *100, 3)"
   ]
  },
  {
   "cell_type": "markdown",
   "id": "a139ff85",
   "metadata": {},
   "source": [
    "54.92% of married applicants defaulted."
   ]
  },
  {
   "cell_type": "code",
   "execution_count": 191,
   "id": "43a6f6e5",
   "metadata": {},
   "outputs": [
    {
     "data": {
      "text/plain": [
       "54.92"
      ]
     },
     "execution_count": 191,
     "metadata": {},
     "output_type": "execute_result"
    }
   ],
   "source": [
    "round(len(df[(df['MaritalStatus']==1) & (df['DefaultStatus']==1)])/len(df[(df['MaritalStatus']==1)]) *100, 3)"
   ]
  },
  {
   "cell_type": "markdown",
   "id": "a7bcd5dc",
   "metadata": {},
   "source": [
    "47.926% of cohabitant applicant defaulted."
   ]
  },
  {
   "cell_type": "code",
   "execution_count": 192,
   "id": "5b8eb883",
   "metadata": {},
   "outputs": [
    {
     "data": {
      "text/plain": [
       "47.926"
      ]
     },
     "execution_count": 192,
     "metadata": {},
     "output_type": "execute_result"
    }
   ],
   "source": [
    "round(len(df[(df['MaritalStatus']==2) & (df['DefaultStatus']==1)])/len(df[(df['MaritalStatus']==2)]) *100, 3)"
   ]
  },
  {
   "cell_type": "markdown",
   "id": "d2a9bcf1",
   "metadata": {},
   "source": [
    "59.21% of single applicants defaulted."
   ]
  },
  {
   "cell_type": "code",
   "execution_count": 193,
   "id": "1fd271b3",
   "metadata": {},
   "outputs": [
    {
     "data": {
      "text/plain": [
       "59.21"
      ]
     },
     "execution_count": 193,
     "metadata": {},
     "output_type": "execute_result"
    }
   ],
   "source": [
    "round(len(df[(df['MaritalStatus']==3) & (df['DefaultStatus']==1)])/len(df[(df['MaritalStatus']==3)]) *100, 3)"
   ]
  },
  {
   "cell_type": "markdown",
   "id": "eb38d0fd",
   "metadata": {},
   "source": [
    "57.773% of divorced applicants defaulted."
   ]
  },
  {
   "cell_type": "code",
   "execution_count": 194,
   "id": "d69ec188",
   "metadata": {},
   "outputs": [
    {
     "data": {
      "text/plain": [
       "57.773"
      ]
     },
     "execution_count": 194,
     "metadata": {},
     "output_type": "execute_result"
    }
   ],
   "source": [
    "round(len(df[(df['MaritalStatus']==4) & (df['DefaultStatus']==1)])/len(df[(df['MaritalStatus']==4)]) *100, 3)"
   ]
  },
  {
   "cell_type": "markdown",
   "id": "6ba16878",
   "metadata": {},
   "source": [
    "54% of divorced applicants defaulted."
   ]
  },
  {
   "cell_type": "code",
   "execution_count": 195,
   "id": "d411ea0f",
   "metadata": {},
   "outputs": [
    {
     "data": {
      "text/plain": [
       "54.409"
      ]
     },
     "execution_count": 195,
     "metadata": {},
     "output_type": "execute_result"
    }
   ],
   "source": [
    "round(len(df[(df['MaritalStatus']==5) & (df['DefaultStatus']==1)])/len(df[(df['MaritalStatus']==5)]) *100, 3)"
   ]
  },
  {
   "cell_type": "code",
   "execution_count": 196,
   "id": "41ebb5b3",
   "metadata": {},
   "outputs": [
    {
     "data": {
      "image/png": "[encoded data removed]",
      "text/plain": [
       "<Figure size 936x720 with 1 Axes>"
      ]
     },
     "metadata": {},
     "output_type": "display_data"
    }
   ],
   "source": [
    "sns.set_theme(style=\"whitegrid\")\n",
    "sns.set(rc = {'figure.figsize':(13,10)})\n",
    "ax = sns.countplot(x='Education', data=df)"
   ]
  },
  {
   "cell_type": "code",
   "execution_count": 197,
   "id": "2b0e2e60",
   "metadata": {},
   "outputs": [
    {
     "data": {
      "text/plain": [
       " 4.0    82152\n",
       " 3.0    64287\n",
       " 5.0    56226\n",
       " 1.0    28792\n",
       " 2.0     6444\n",
       "-1.0     2481\n",
       " 0.0        8\n",
       "Name: Education, dtype: int64"
      ]
     },
     "execution_count": 197,
     "metadata": {},
     "output_type": "execute_result"
    }
   ],
   "source": [
    "df['Education'].value_counts()"
   ]
  },
  {
   "cell_type": "code",
   "execution_count": 198,
   "id": "2d1c2831",
   "metadata": {},
   "outputs": [
    {
     "data": {
      "text/plain": [
       " 4.0    34.167360\n",
       " 3.0    26.737232\n",
       " 5.0    23.384628\n",
       " 1.0    11.974713\n",
       " 2.0     2.680087\n",
       "-1.0     1.031858\n",
       " 0.0     0.003327\n",
       "Name: Education, dtype: float64"
      ]
     },
     "execution_count": 198,
     "metadata": {},
     "output_type": "execute_result"
    }
   ],
   "source": [
    "df['Education'].value_counts()/len(df)* 100"
   ]
  },
  {
   "cell_type": "code",
   "execution_count": 199,
   "id": "41e53d14",
   "metadata": {},
   "outputs": [
    {
     "name": "stderr",
     "output_type": "stream",
     "text": [
      "c:\\Users\\EliteBook\\AppData\\Local\\Programs\\Python\\Python310\\lib\\site-packages\\seaborn\\distributions.py:385: UserWarning: `bins` cannot be 'auto' when using weights. Setting `bins=10`, but you will likely want to adjust.\n",
      "  warnings.warn(msg, UserWarning)\n"
     ]
    },
    {
     "data": {
      "text/plain": [
       "<AxesSubplot:xlabel='DefaultStatus', ylabel='Count'>"
      ]
     },
     "execution_count": 199,
     "metadata": {},
     "output_type": "execute_result"
    },
    {
     "data": {
      "image/png": "[encoded data removed]",
      "text/plain": [
       "<Figure size 842.4x595.44 with 1 Axes>"
      ]
     },
     "metadata": {},
     "output_type": "display_data"
    }
   ],
   "source": [
    "sns.set(rc={'figure.figsize':(11.7,8.27)})\n",
    "sns.set_style('whitegrid')\n",
    "\n",
    "plot = df.groupby(['DefaultStatus'])['Education'].value_counts().reset_index(name='count')\n",
    "sns.histplot(x = 'DefaultStatus' , hue = 'Education',weights= 'count',\n",
    "             multiple = 'stack',data=plot,shrink = 0.7)"
   ]
  },
  {
   "cell_type": "code",
   "execution_count": 200,
   "id": "d00fe502",
   "metadata": {},
   "outputs": [
    {
     "data": {
      "text/html": [
       "<div>\n",
       "<style scoped>\n",
       "    .dataframe tbody tr th:only-of-type {\n",
       "        vertical-align: middle;\n",
       "    }\n",
       "\n",
       "    .dataframe tbody tr th {\n",
       "        vertical-align: top;\n",
       "    }\n",
       "\n",
       "    .dataframe thead th {\n",
       "        text-align: right;\n",
       "    }\n",
       "</style>\n",
       "<table border=\"1\" class=\"dataframe\">\n",
       "  <thead>\n",
       "    <tr style=\"text-align: right;\">\n",
       "      <th></th>\n",
       "      <th>DefaultStatus</th>\n",
       "      <th>Education</th>\n",
       "      <th>count</th>\n",
       "    </tr>\n",
       "  </thead>\n",
       "  <tbody>\n",
       "    <tr>\n",
       "      <th>0</th>\n",
       "      <td>0</td>\n",
       "      <td>4.0</td>\n",
       "      <td>53494</td>\n",
       "    </tr>\n",
       "    <tr>\n",
       "      <th>1</th>\n",
       "      <td>0</td>\n",
       "      <td>3.0</td>\n",
       "      <td>44377</td>\n",
       "    </tr>\n",
       "    <tr>\n",
       "      <th>2</th>\n",
       "      <td>0</td>\n",
       "      <td>5.0</td>\n",
       "      <td>37134</td>\n",
       "    </tr>\n",
       "    <tr>\n",
       "      <th>3</th>\n",
       "      <td>0</td>\n",
       "      <td>1.0</td>\n",
       "      <td>19324</td>\n",
       "    </tr>\n",
       "    <tr>\n",
       "      <th>4</th>\n",
       "      <td>0</td>\n",
       "      <td>2.0</td>\n",
       "      <td>2490</td>\n",
       "    </tr>\n",
       "    <tr>\n",
       "      <th>5</th>\n",
       "      <td>0</td>\n",
       "      <td>-1.0</td>\n",
       "      <td>2274</td>\n",
       "    </tr>\n",
       "    <tr>\n",
       "      <th>6</th>\n",
       "      <td>1</td>\n",
       "      <td>4.0</td>\n",
       "      <td>28658</td>\n",
       "    </tr>\n",
       "    <tr>\n",
       "      <th>7</th>\n",
       "      <td>1</td>\n",
       "      <td>3.0</td>\n",
       "      <td>19910</td>\n",
       "    </tr>\n",
       "    <tr>\n",
       "      <th>8</th>\n",
       "      <td>1</td>\n",
       "      <td>5.0</td>\n",
       "      <td>19092</td>\n",
       "    </tr>\n",
       "    <tr>\n",
       "      <th>9</th>\n",
       "      <td>1</td>\n",
       "      <td>1.0</td>\n",
       "      <td>9468</td>\n",
       "    </tr>\n",
       "    <tr>\n",
       "      <th>10</th>\n",
       "      <td>1</td>\n",
       "      <td>2.0</td>\n",
       "      <td>3954</td>\n",
       "    </tr>\n",
       "    <tr>\n",
       "      <th>11</th>\n",
       "      <td>1</td>\n",
       "      <td>-1.0</td>\n",
       "      <td>207</td>\n",
       "    </tr>\n",
       "    <tr>\n",
       "      <th>12</th>\n",
       "      <td>1</td>\n",
       "      <td>0.0</td>\n",
       "      <td>8</td>\n",
       "    </tr>\n",
       "  </tbody>\n",
       "</table>\n",
       "</div>"
      ],
      "text/plain": [
       "    DefaultStatus  Education  count\n",
       "0               0        4.0  53494\n",
       "1               0        3.0  44377\n",
       "2               0        5.0  37134\n",
       "3               0        1.0  19324\n",
       "4               0        2.0   2490\n",
       "5               0       -1.0   2274\n",
       "6               1        4.0  28658\n",
       "7               1        3.0  19910\n",
       "8               1        5.0  19092\n",
       "9               1        1.0   9468\n",
       "10              1        2.0   3954\n",
       "11              1       -1.0    207\n",
       "12              1        0.0      8"
      ]
     },
     "execution_count": 200,
     "metadata": {},
     "output_type": "execute_result"
    }
   ],
   "source": [
    "df.groupby(['DefaultStatus'])['Education'].value_counts().reset_index(name='count')"
   ]
  },
  {
   "cell_type": "markdown",
   "id": "11f92d6a",
   "metadata": {},
   "source": []
  },
  {
   "cell_type": "code",
   "execution_count": 201,
   "id": "8d9bd7d5",
   "metadata": {},
   "outputs": [
    {
     "data": {
      "text/plain": [
       "91.657"
      ]
     },
     "execution_count": 201,
     "metadata": {},
     "output_type": "execute_result"
    }
   ],
   "source": [
    "round(len(df[(df['Education']==-1) & (df['DefaultStatus']==0)])/len(df[(df['Education']==-1)]) *100, 3)"
   ]
  },
  {
   "cell_type": "markdown",
   "id": "a2b50e77",
   "metadata": {},
   "source": [
    "67% of applicant with primary education did not default."
   ]
  },
  {
   "cell_type": "code",
   "execution_count": 202,
   "id": "96cc7ebf",
   "metadata": {},
   "outputs": [
    {
     "data": {
      "text/plain": [
       "67.116"
      ]
     },
     "execution_count": 202,
     "metadata": {},
     "output_type": "execute_result"
    }
   ],
   "source": [
    "round(len(df[(df['Education']==1) & (df['DefaultStatus']==0)])/len(df[(df['Education']==1)]) *100, 3)"
   ]
  },
  {
   "cell_type": "markdown",
   "id": "77a6b6df",
   "metadata": {},
   "source": [
    "38.6% of applicants with Basic Education did not default."
   ]
  },
  {
   "cell_type": "code",
   "execution_count": 203,
   "id": "a0b21738",
   "metadata": {},
   "outputs": [
    {
     "data": {
      "text/plain": [
       "38.641"
      ]
     },
     "execution_count": 203,
     "metadata": {},
     "output_type": "execute_result"
    }
   ],
   "source": [
    "round(len(df[(df['Education']==2) & (df['DefaultStatus']==0)])/len(df[(df['Education']==2)]) *100, 3)"
   ]
  },
  {
   "cell_type": "markdown",
   "id": "d2f36516",
   "metadata": {},
   "source": [
    "69% of applicant with vocational education did not default."
   ]
  },
  {
   "cell_type": "code",
   "execution_count": 204,
   "id": "eb5fbfaf",
   "metadata": {},
   "outputs": [
    {
     "data": {
      "text/plain": [
       "69.03"
      ]
     },
     "execution_count": 204,
     "metadata": {},
     "output_type": "execute_result"
    }
   ],
   "source": [
    "round(len(df[(df['Education']==3) & (df['DefaultStatus']==0)])/len(df[(df['Education']==3)]) *100, 3)"
   ]
  },
  {
   "cell_type": "markdown",
   "id": "bd95acde",
   "metadata": {},
   "source": [
    "65% of applicant with Secondary education did not default."
   ]
  },
  {
   "cell_type": "code",
   "execution_count": 205,
   "id": "a3f58505",
   "metadata": {},
   "outputs": [
    {
     "data": {
      "text/plain": [
       "65.116"
      ]
     },
     "execution_count": 205,
     "metadata": {},
     "output_type": "execute_result"
    }
   ],
   "source": [
    "round(len(df[(df['Education']==4) & (df['DefaultStatus']==0)])/len(df[(df['Education']==4)]) *100, 3)"
   ]
  },
  {
   "cell_type": "markdown",
   "id": "539f74e1",
   "metadata": {},
   "source": [
    "66% of applicant with Higher Education did not default. "
   ]
  },
  {
   "cell_type": "code",
   "execution_count": 206,
   "id": "3eed9fe3",
   "metadata": {},
   "outputs": [
    {
     "data": {
      "text/plain": [
       "66.044"
      ]
     },
     "execution_count": 206,
     "metadata": {},
     "output_type": "execute_result"
    }
   ],
   "source": [
    "round(len(df[(df['Education']==5) & (df['DefaultStatus']==0)])/len(df[(df['Education']==5)]) *100, 3)"
   ]
  },
  {
   "cell_type": "markdown",
   "id": "0c1a11ec",
   "metadata": {},
   "source": []
  },
  {
   "cell_type": "code",
   "execution_count": 207,
   "id": "73bc024b",
   "metadata": {},
   "outputs": [
    {
     "data": {
      "text/plain": [
       "8.343"
      ]
     },
     "execution_count": 207,
     "metadata": {},
     "output_type": "execute_result"
    }
   ],
   "source": [
    "round(len(df[(df['Education']==-1) & (df['DefaultStatus']==1)])/len(df[(df['Education']==-1)]) *100, 3)"
   ]
  },
  {
   "cell_type": "markdown",
   "id": "6c045608",
   "metadata": {},
   "source": [
    "33% of applicant with primary education defaulted."
   ]
  },
  {
   "cell_type": "code",
   "execution_count": 208,
   "id": "d603e97c",
   "metadata": {},
   "outputs": [
    {
     "data": {
      "text/plain": [
       "32.884"
      ]
     },
     "execution_count": 208,
     "metadata": {},
     "output_type": "execute_result"
    }
   ],
   "source": [
    "round(len(df[(df['Education']==1) & (df['DefaultStatus']==1)])/len(df[(df['Education']==1)]) *100, 3)"
   ]
  },
  {
   "cell_type": "markdown",
   "id": "94253a22",
   "metadata": {},
   "source": [
    "61% of applicant with Basic Education defaulted."
   ]
  },
  {
   "cell_type": "code",
   "execution_count": 209,
   "id": "6cb8c6d5",
   "metadata": {},
   "outputs": [
    {
     "data": {
      "text/plain": [
       "61.359"
      ]
     },
     "execution_count": 209,
     "metadata": {},
     "output_type": "execute_result"
    }
   ],
   "source": [
    "round(len(df[(df['Education']==2) & (df['DefaultStatus']==1)])/len(df[(df['Education']==2)]) *100, 3)"
   ]
  },
  {
   "cell_type": "markdown",
   "id": "666d9575",
   "metadata": {},
   "source": [
    "31% of applicants with Secondary education defaulted."
   ]
  },
  {
   "cell_type": "code",
   "execution_count": 210,
   "id": "ffce8ea6",
   "metadata": {},
   "outputs": [
    {
     "data": {
      "text/plain": [
       "30.97"
      ]
     },
     "execution_count": 210,
     "metadata": {},
     "output_type": "execute_result"
    }
   ],
   "source": [
    "round(len(df[(df['Education']==3) & (df['DefaultStatus']==1)])/len(df[(df['Education']==3)]) *100, 3)"
   ]
  },
  {
   "cell_type": "markdown",
   "id": "5b6c4fe0",
   "metadata": {},
   "source": [
    "35% of applicants with "
   ]
  },
  {
   "cell_type": "code",
   "execution_count": 211,
   "id": "219f2d4c",
   "metadata": {},
   "outputs": [
    {
     "data": {
      "text/plain": [
       "34.884"
      ]
     },
     "execution_count": 211,
     "metadata": {},
     "output_type": "execute_result"
    }
   ],
   "source": [
    "round(len(df[(df['Education']==4) & (df['DefaultStatus']==1)])/len(df[(df['Education']==4)]) *100, 3)"
   ]
  },
  {
   "cell_type": "code",
   "execution_count": 212,
   "id": "52faaef2",
   "metadata": {},
   "outputs": [
    {
     "data": {
      "text/plain": [
       "33.956"
      ]
     },
     "execution_count": 212,
     "metadata": {},
     "output_type": "execute_result"
    }
   ],
   "source": [
    "round(len(df[(df['Education']==5) & (df['DefaultStatus']==1)])/len(df[(df['Education']==5)]) *100, 3)"
   ]
  },
  {
   "cell_type": "code",
   "execution_count": 213,
   "id": "4ac46de8",
   "metadata": {},
   "outputs": [
    {
     "data": {
      "image/png": "[encoded data removed]",
      "text/plain": [
       "<Figure size 936x720 with 1 Axes>"
      ]
     },
     "metadata": {},
     "output_type": "display_data"
    }
   ],
   "source": [
    "sns.set_theme(style=\"whitegrid\")\n",
    "sns.set(rc = {'figure.figsize':(13,10)})\n",
    "ax = sns.countplot(x='NewCreditCustomer', data=df)"
   ]
  },
  {
   "cell_type": "code",
   "execution_count": 214,
   "id": "46959963",
   "metadata": {},
   "outputs": [
    {
     "data": {
      "text/plain": [
       "True     133121\n",
       "False    107319\n",
       "Name: NewCreditCustomer, dtype: int64"
      ]
     },
     "execution_count": 214,
     "metadata": {},
     "output_type": "execute_result"
    }
   ],
   "source": [
    "df['NewCreditCustomer'].value_counts()"
   ]
  },
  {
   "cell_type": "code",
   "execution_count": 215,
   "id": "292d2ee9",
   "metadata": {},
   "outputs": [
    {
     "data": {
      "text/plain": [
       "True     55.36558\n",
       "False    44.63442\n",
       "Name: NewCreditCustomer, dtype: float64"
      ]
     },
     "execution_count": 215,
     "metadata": {},
     "output_type": "execute_result"
    }
   ],
   "source": [
    "df['NewCreditCustomer'].value_counts()/len(df)* 100"
   ]
  },
  {
   "cell_type": "code",
   "execution_count": 216,
   "id": "a9c6847a",
   "metadata": {},
   "outputs": [
    {
     "name": "stderr",
     "output_type": "stream",
     "text": [
      "c:\\Users\\EliteBook\\AppData\\Local\\Programs\\Python\\Python310\\lib\\site-packages\\seaborn\\distributions.py:385: UserWarning: `bins` cannot be 'auto' when using weights. Setting `bins=10`, but you will likely want to adjust.\n",
      "  warnings.warn(msg, UserWarning)\n"
     ]
    },
    {
     "data": {
      "text/plain": [
       "<AxesSubplot:xlabel='DefaultStatus', ylabel='Count'>"
      ]
     },
     "execution_count": 216,
     "metadata": {},
     "output_type": "execute_result"
    },
    {
     "data": {
      "image/png": "[encoded data removed]",
      "text/plain": [
       "<Figure size 842.4x595.44 with 1 Axes>"
      ]
     },
     "metadata": {},
     "output_type": "display_data"
    }
   ],
   "source": [
    "sns.set(rc={'figure.figsize':(11.7,8.27)})\n",
    "sns.set_style('whitegrid')\n",
    "\n",
    "plot = df.groupby(['DefaultStatus'])['NewCreditCustomer'].value_counts().reset_index(name='count')\n",
    "sns.histplot(x = 'DefaultStatus' , hue = 'NewCreditCustomer',weights= 'count',\n",
    "             multiple = 'stack',data=plot,shrink = 0.7)"
   ]
  },
  {
   "cell_type": "code",
   "execution_count": 217,
   "id": "2b4f2f05",
   "metadata": {},
   "outputs": [
    {
     "data": {
      "text/html": [
       "<div>\n",
       "<style scoped>\n",
       "    .dataframe tbody tr th:only-of-type {\n",
       "        vertical-align: middle;\n",
       "    }\n",
       "\n",
       "    .dataframe tbody tr th {\n",
       "        vertical-align: top;\n",
       "    }\n",
       "\n",
       "    .dataframe thead th {\n",
       "        text-align: right;\n",
       "    }\n",
       "</style>\n",
       "<table border=\"1\" class=\"dataframe\">\n",
       "  <thead>\n",
       "    <tr style=\"text-align: right;\">\n",
       "      <th></th>\n",
       "      <th>DefaultStatus</th>\n",
       "      <th>NewCreditCustomer</th>\n",
       "      <th>count</th>\n",
       "    </tr>\n",
       "  </thead>\n",
       "  <tbody>\n",
       "    <tr>\n",
       "      <th>0</th>\n",
       "      <td>0</td>\n",
       "      <td>True</td>\n",
       "      <td>81725</td>\n",
       "    </tr>\n",
       "    <tr>\n",
       "      <th>1</th>\n",
       "      <td>0</td>\n",
       "      <td>False</td>\n",
       "      <td>77398</td>\n",
       "    </tr>\n",
       "    <tr>\n",
       "      <th>2</th>\n",
       "      <td>1</td>\n",
       "      <td>True</td>\n",
       "      <td>51396</td>\n",
       "    </tr>\n",
       "    <tr>\n",
       "      <th>3</th>\n",
       "      <td>1</td>\n",
       "      <td>False</td>\n",
       "      <td>29921</td>\n",
       "    </tr>\n",
       "  </tbody>\n",
       "</table>\n",
       "</div>"
      ],
      "text/plain": [
       "   DefaultStatus  NewCreditCustomer  count\n",
       "0              0               True  81725\n",
       "1              0              False  77398\n",
       "2              1               True  51396\n",
       "3              1              False  29921"
      ]
     },
     "execution_count": 217,
     "metadata": {},
     "output_type": "execute_result"
    }
   ],
   "source": [
    "df.groupby(['DefaultStatus'])['NewCreditCustomer'].value_counts().reset_index(name='count')"
   ]
  },
  {
   "cell_type": "code",
   "execution_count": 218,
   "id": "16a8a0fb",
   "metadata": {},
   "outputs": [
    {
     "data": {
      "text/plain": [
       "61.392"
      ]
     },
     "execution_count": 218,
     "metadata": {},
     "output_type": "execute_result"
    }
   ],
   "source": [
    "round(len(df[(df['NewCreditCustomer']==True) & (df['DefaultStatus']==0)])/len(df[(df['NewCreditCustomer']==True)]) *100, 3)"
   ]
  },
  {
   "cell_type": "code",
   "execution_count": 219,
   "id": "1fcb610d",
   "metadata": {},
   "outputs": [
    {
     "data": {
      "text/plain": [
       "72.12"
      ]
     },
     "execution_count": 219,
     "metadata": {},
     "output_type": "execute_result"
    }
   ],
   "source": [
    "round(len(df[(df['NewCreditCustomer']==False) & (df['DefaultStatus']==0)])/len(df[(df['NewCreditCustomer']==False)]) *100, 3)"
   ]
  },
  {
   "cell_type": "code",
   "execution_count": 220,
   "id": "edf93c8b",
   "metadata": {},
   "outputs": [
    {
     "data": {
      "text/plain": [
       "38.608"
      ]
     },
     "execution_count": 220,
     "metadata": {},
     "output_type": "execute_result"
    }
   ],
   "source": [
    "round(len(df[(df['NewCreditCustomer']==True) & (df['DefaultStatus']==1)])/len(df[(df['NewCreditCustomer']==True)]) *100, 3)"
   ]
  },
  {
   "cell_type": "code",
   "execution_count": 221,
   "id": "92d092f7",
   "metadata": {},
   "outputs": [
    {
     "data": {
      "text/plain": [
       "27.88"
      ]
     },
     "execution_count": 221,
     "metadata": {},
     "output_type": "execute_result"
    }
   ],
   "source": [
    "round(len(df[(df['NewCreditCustomer']==False) & (df['DefaultStatus']==1)])/len(df[(df['NewCreditCustomer']==False)]) *100, 3)"
   ]
  },
  {
   "cell_type": "code",
   "execution_count": 222,
   "id": "bd64e5f5",
   "metadata": {},
   "outputs": [
    {
     "data": {
      "image/png": "[encoded data removed]",
      "text/plain": [
       "<Figure size 936x720 with 1 Axes>"
      ]
     },
     "metadata": {},
     "output_type": "display_data"
    }
   ],
   "source": [
    "sns.set_theme(style=\"whitegrid\")\n",
    "sns.set(rc = {'figure.figsize':(13,10)})\n",
    "ax = sns.countplot(x='HomeOwnershipType', data=df)"
   ]
  },
  {
   "cell_type": "code",
   "execution_count": 223,
   "id": "17591743",
   "metadata": {},
   "outputs": [
    {
     "data": {
      "text/plain": [
       " 1.0     91484\n",
       " 3.0     60927\n",
       " 2.0     32729\n",
       " 8.0     21924\n",
       " 10.0    19089\n",
       " 4.0      4587\n",
       " 7.0      3346\n",
       " 5.0      2284\n",
       " 6.0      1619\n",
       " 9.0       745\n",
       " 0.0        46\n",
       "-1.0         3\n",
       "Name: HomeOwnershipType, dtype: int64"
      ]
     },
     "execution_count": 223,
     "metadata": {},
     "output_type": "execute_result"
    }
   ],
   "source": [
    "df['HomeOwnershipType'].value_counts()"
   ]
  },
  {
   "cell_type": "code",
   "execution_count": 224,
   "id": "2e45ba5a",
   "metadata": {},
   "outputs": [
    {
     "data": {
      "text/plain": [
       " 1.0     38.048578\n",
       " 3.0     25.339794\n",
       " 2.0     13.612128\n",
       " 8.0      9.118283\n",
       " 10.0     7.939195\n",
       " 4.0      1.907752\n",
       " 7.0      1.391615\n",
       " 5.0      0.949925\n",
       " 6.0      0.673349\n",
       " 9.0      0.309849\n",
       " 0.0      0.019132\n",
       "-1.0      0.001248\n",
       "Name: HomeOwnershipType, dtype: float64"
      ]
     },
     "execution_count": 224,
     "metadata": {},
     "output_type": "execute_result"
    }
   ],
   "source": [
    "df['HomeOwnershipType'].value_counts()/len(df)* 100"
   ]
  },
  {
   "cell_type": "code",
   "execution_count": 225,
   "id": "0e3050f0",
   "metadata": {},
   "outputs": [
    {
     "name": "stderr",
     "output_type": "stream",
     "text": [
      "c:\\Users\\EliteBook\\AppData\\Local\\Programs\\Python\\Python310\\lib\\site-packages\\seaborn\\distributions.py:385: UserWarning: `bins` cannot be 'auto' when using weights. Setting `bins=10`, but you will likely want to adjust.\n",
      "  warnings.warn(msg, UserWarning)\n"
     ]
    },
    {
     "data": {
      "text/plain": [
       "<AxesSubplot:xlabel='DefaultStatus', ylabel='Count'>"
      ]
     },
     "execution_count": 225,
     "metadata": {},
     "output_type": "execute_result"
    },
    {
     "data": {
      "image/png": "[encoded data removed]",
      "text/plain": [
       "<Figure size 842.4x595.44 with 1 Axes>"
      ]
     },
     "metadata": {},
     "output_type": "display_data"
    }
   ],
   "source": [
    "sns.set(rc={'figure.figsize':(11.7,8.27)})\n",
    "sns.set_style('whitegrid')\n",
    "\n",
    "plot = df.groupby(['DefaultStatus'])['HomeOwnershipType'].value_counts().reset_index(name='count')\n",
    "sns.histplot(x = 'DefaultStatus' , hue = 'HomeOwnershipType',weights= 'count',\n",
    "             multiple = 'stack',data=plot,shrink = 0.7)"
   ]
  },
  {
   "cell_type": "code",
   "execution_count": 226,
   "id": "9e2c7ae1",
   "metadata": {},
   "outputs": [
    {
     "data": {
      "text/html": [
       "<div>\n",
       "<style scoped>\n",
       "    .dataframe tbody tr th:only-of-type {\n",
       "        vertical-align: middle;\n",
       "    }\n",
       "\n",
       "    .dataframe tbody tr th {\n",
       "        vertical-align: top;\n",
       "    }\n",
       "\n",
       "    .dataframe thead th {\n",
       "        text-align: right;\n",
       "    }\n",
       "</style>\n",
       "<table border=\"1\" class=\"dataframe\">\n",
       "  <thead>\n",
       "    <tr style=\"text-align: right;\">\n",
       "      <th></th>\n",
       "      <th>DefaultStatus</th>\n",
       "      <th>HomeOwnershipType</th>\n",
       "      <th>count</th>\n",
       "    </tr>\n",
       "  </thead>\n",
       "  <tbody>\n",
       "    <tr>\n",
       "      <th>0</th>\n",
       "      <td>0</td>\n",
       "      <td>1.0</td>\n",
       "      <td>66044</td>\n",
       "    </tr>\n",
       "    <tr>\n",
       "      <th>1</th>\n",
       "      <td>0</td>\n",
       "      <td>3.0</td>\n",
       "      <td>39713</td>\n",
       "    </tr>\n",
       "    <tr>\n",
       "      <th>2</th>\n",
       "      <td>0</td>\n",
       "      <td>2.0</td>\n",
       "      <td>18900</td>\n",
       "    </tr>\n",
       "    <tr>\n",
       "      <th>3</th>\n",
       "      <td>0</td>\n",
       "      <td>8.0</td>\n",
       "      <td>14020</td>\n",
       "    </tr>\n",
       "    <tr>\n",
       "      <th>4</th>\n",
       "      <td>0</td>\n",
       "      <td>10.0</td>\n",
       "      <td>13529</td>\n",
       "    </tr>\n",
       "    <tr>\n",
       "      <th>5</th>\n",
       "      <td>0</td>\n",
       "      <td>7.0</td>\n",
       "      <td>1784</td>\n",
       "    </tr>\n",
       "    <tr>\n",
       "      <th>6</th>\n",
       "      <td>0</td>\n",
       "      <td>4.0</td>\n",
       "      <td>1613</td>\n",
       "    </tr>\n",
       "    <tr>\n",
       "      <th>7</th>\n",
       "      <td>0</td>\n",
       "      <td>5.0</td>\n",
       "      <td>1370</td>\n",
       "    </tr>\n",
       "    <tr>\n",
       "      <th>8</th>\n",
       "      <td>0</td>\n",
       "      <td>6.0</td>\n",
       "      <td>679</td>\n",
       "    </tr>\n",
       "    <tr>\n",
       "      <th>9</th>\n",
       "      <td>0</td>\n",
       "      <td>9.0</td>\n",
       "      <td>422</td>\n",
       "    </tr>\n",
       "    <tr>\n",
       "      <th>10</th>\n",
       "      <td>0</td>\n",
       "      <td>0.0</td>\n",
       "      <td>4</td>\n",
       "    </tr>\n",
       "    <tr>\n",
       "      <th>11</th>\n",
       "      <td>0</td>\n",
       "      <td>-1.0</td>\n",
       "      <td>1</td>\n",
       "    </tr>\n",
       "    <tr>\n",
       "      <th>12</th>\n",
       "      <td>1</td>\n",
       "      <td>1.0</td>\n",
       "      <td>25440</td>\n",
       "    </tr>\n",
       "    <tr>\n",
       "      <th>13</th>\n",
       "      <td>1</td>\n",
       "      <td>3.0</td>\n",
       "      <td>21214</td>\n",
       "    </tr>\n",
       "    <tr>\n",
       "      <th>14</th>\n",
       "      <td>1</td>\n",
       "      <td>2.0</td>\n",
       "      <td>13829</td>\n",
       "    </tr>\n",
       "    <tr>\n",
       "      <th>15</th>\n",
       "      <td>1</td>\n",
       "      <td>8.0</td>\n",
       "      <td>7904</td>\n",
       "    </tr>\n",
       "    <tr>\n",
       "      <th>16</th>\n",
       "      <td>1</td>\n",
       "      <td>10.0</td>\n",
       "      <td>5560</td>\n",
       "    </tr>\n",
       "    <tr>\n",
       "      <th>17</th>\n",
       "      <td>1</td>\n",
       "      <td>4.0</td>\n",
       "      <td>2974</td>\n",
       "    </tr>\n",
       "    <tr>\n",
       "      <th>18</th>\n",
       "      <td>1</td>\n",
       "      <td>7.0</td>\n",
       "      <td>1562</td>\n",
       "    </tr>\n",
       "    <tr>\n",
       "      <th>19</th>\n",
       "      <td>1</td>\n",
       "      <td>6.0</td>\n",
       "      <td>940</td>\n",
       "    </tr>\n",
       "    <tr>\n",
       "      <th>20</th>\n",
       "      <td>1</td>\n",
       "      <td>5.0</td>\n",
       "      <td>914</td>\n",
       "    </tr>\n",
       "    <tr>\n",
       "      <th>21</th>\n",
       "      <td>1</td>\n",
       "      <td>9.0</td>\n",
       "      <td>323</td>\n",
       "    </tr>\n",
       "    <tr>\n",
       "      <th>22</th>\n",
       "      <td>1</td>\n",
       "      <td>0.0</td>\n",
       "      <td>42</td>\n",
       "    </tr>\n",
       "    <tr>\n",
       "      <th>23</th>\n",
       "      <td>1</td>\n",
       "      <td>-1.0</td>\n",
       "      <td>2</td>\n",
       "    </tr>\n",
       "  </tbody>\n",
       "</table>\n",
       "</div>"
      ],
      "text/plain": [
       "    DefaultStatus  HomeOwnershipType  count\n",
       "0               0                1.0  66044\n",
       "1               0                3.0  39713\n",
       "2               0                2.0  18900\n",
       "3               0                8.0  14020\n",
       "4               0               10.0  13529\n",
       "5               0                7.0   1784\n",
       "6               0                4.0   1613\n",
       "7               0                5.0   1370\n",
       "8               0                6.0    679\n",
       "9               0                9.0    422\n",
       "10              0                0.0      4\n",
       "11              0               -1.0      1\n",
       "12              1                1.0  25440\n",
       "13              1                3.0  21214\n",
       "14              1                2.0  13829\n",
       "15              1                8.0   7904\n",
       "16              1               10.0   5560\n",
       "17              1                4.0   2974\n",
       "18              1                7.0   1562\n",
       "19              1                6.0    940\n",
       "20              1                5.0    914\n",
       "21              1                9.0    323\n",
       "22              1                0.0     42\n",
       "23              1               -1.0      2"
      ]
     },
     "execution_count": 226,
     "metadata": {},
     "output_type": "execute_result"
    }
   ],
   "source": [
    "df.groupby(['DefaultStatus'])['HomeOwnershipType'].value_counts().reset_index(name='count')"
   ]
  },
  {
   "cell_type": "markdown",
   "id": "d7596f17",
   "metadata": {},
   "source": [
    "8.7% of homeless applicants did not default."
   ]
  },
  {
   "cell_type": "code",
   "execution_count": 227,
   "id": "4bd99093",
   "metadata": {},
   "outputs": [
    {
     "data": {
      "text/plain": [
       "8.696"
      ]
     },
     "execution_count": 227,
     "metadata": {},
     "output_type": "execute_result"
    }
   ],
   "source": [
    "round(len(df[(df['HomeOwnershipType']==0) & (df['DefaultStatus']==0)])/len(df[(df['HomeOwnershipType']==0)]) *100, 3)"
   ]
  },
  {
   "cell_type": "markdown",
   "id": "782bb2d2",
   "metadata": {},
   "source": [
    "72% of applicants who owners of their homes did not default."
   ]
  },
  {
   "cell_type": "code",
   "execution_count": 228,
   "id": "553be232",
   "metadata": {},
   "outputs": [
    {
     "data": {
      "text/plain": [
       "72.192"
      ]
     },
     "execution_count": 228,
     "metadata": {},
     "output_type": "execute_result"
    }
   ],
   "source": [
    "round(len(df[(df['HomeOwnershipType']==1) & (df['DefaultStatus']==0)])/len(df[(df['HomeOwnershipType']==1)]) *100, 3)"
   ]
  },
  {
   "cell_type": "markdown",
   "id": "ae971bf5",
   "metadata": {},
   "source": [
    "54.7% of applicants living with their parents did not default."
   ]
  },
  {
   "cell_type": "code",
   "execution_count": 229,
   "id": "69d0b2e4",
   "metadata": {},
   "outputs": [
    {
     "data": {
      "text/plain": [
       "57.747"
      ]
     },
     "execution_count": 229,
     "metadata": {},
     "output_type": "execute_result"
    }
   ],
   "source": [
    "round(len(df[(df['HomeOwnershipType']==2) & (df['DefaultStatus']==0)])/len(df[(df['HomeOwnershipType']==2)]) *100, 3)"
   ]
  },
  {
   "cell_type": "markdown",
   "id": "a6ec29f0",
   "metadata": {},
   "source": [
    "65% of applicants who are tenants with pre-furnished property did not default."
   ]
  },
  {
   "cell_type": "code",
   "execution_count": 230,
   "id": "325147dc",
   "metadata": {},
   "outputs": [
    {
     "data": {
      "text/plain": [
       "65.181"
      ]
     },
     "execution_count": 230,
     "metadata": {},
     "output_type": "execute_result"
    }
   ],
   "source": [
    "round(len(df[(df['HomeOwnershipType']==3) & (df['DefaultStatus']==0)])/len(df[(df['HomeOwnershipType']==3)]) *100, 3)"
   ]
  },
  {
   "cell_type": "markdown",
   "id": "836a141e",
   "metadata": {},
   "source": [
    "35% of applicants who are tenants with unfurnished property did not default."
   ]
  },
  {
   "cell_type": "code",
   "execution_count": 231,
   "id": "195617fc",
   "metadata": {},
   "outputs": [
    {
     "data": {
      "text/plain": [
       "35.165"
      ]
     },
     "execution_count": 231,
     "metadata": {},
     "output_type": "execute_result"
    }
   ],
   "source": [
    "round(len(df[(df['HomeOwnershipType']==4) & (df['DefaultStatus']==0)])/len(df[(df['HomeOwnershipType']==4)]) *100, 3)"
   ]
  },
  {
   "cell_type": "markdown",
   "id": "2acb3b6f",
   "metadata": {},
   "source": [
    "60% of applicants living in council house did not default."
   ]
  },
  {
   "cell_type": "code",
   "execution_count": 232,
   "id": "4d25cda3",
   "metadata": {},
   "outputs": [
    {
     "data": {
      "text/plain": [
       "59.982"
      ]
     },
     "execution_count": 232,
     "metadata": {},
     "output_type": "execute_result"
    }
   ],
   "source": [
    "round(len(df[(df['HomeOwnershipType']==5) & (df['DefaultStatus']==0)])/len(df[(df['HomeOwnershipType']==5)]) *100, 3)"
   ]
  },
  {
   "cell_type": "markdown",
   "id": "915eae15",
   "metadata": {},
   "source": [
    "41.9% of applicants with joint tenant did not default."
   ]
  },
  {
   "cell_type": "code",
   "execution_count": 233,
   "id": "601dd6a1",
   "metadata": {},
   "outputs": [
    {
     "data": {
      "text/plain": [
       "41.939"
      ]
     },
     "execution_count": 233,
     "metadata": {},
     "output_type": "execute_result"
    }
   ],
   "source": [
    "round(len(df[(df['HomeOwnershipType']==6) & (df['DefaultStatus']==0)])/len(df[(df['HomeOwnershipType']==6)]) *100, 3)"
   ]
  },
  {
   "cell_type": "markdown",
   "id": "7d9517fb",
   "metadata": {},
   "source": [
    "53% of applicants with joint ownership did not default."
   ]
  },
  {
   "cell_type": "code",
   "execution_count": 234,
   "id": "61aaf887",
   "metadata": {},
   "outputs": [
    {
     "data": {
      "text/plain": [
       "53.317"
      ]
     },
     "execution_count": 234,
     "metadata": {},
     "output_type": "execute_result"
    }
   ],
   "source": [
    "round(len(df[(df['HomeOwnershipType']==7) & (df['DefaultStatus']==0)])/len(df[(df['HomeOwnershipType']==7)]) *100, 3)"
   ]
  },
  {
   "cell_type": "markdown",
   "id": "561aeebc",
   "metadata": {},
   "source": [
    "64% of applicants with Mortgage did not default."
   ]
  },
  {
   "cell_type": "code",
   "execution_count": 235,
   "id": "793837fe",
   "metadata": {},
   "outputs": [
    {
     "data": {
      "text/plain": [
       "63.948"
      ]
     },
     "execution_count": 235,
     "metadata": {},
     "output_type": "execute_result"
    }
   ],
   "source": [
    "round(len(df[(df['HomeOwnershipType']==8) & (df['DefaultStatus']==0)])/len(df[(df['HomeOwnershipType']==8)]) *100, 3)"
   ]
  },
  {
   "cell_type": "markdown",
   "id": "178b795a",
   "metadata": {},
   "source": [
    "56% of applicants who are owners with encumbrance did not default."
   ]
  },
  {
   "cell_type": "code",
   "execution_count": 236,
   "id": "ca3390cf",
   "metadata": {},
   "outputs": [
    {
     "data": {
      "text/plain": [
       "56.644"
      ]
     },
     "execution_count": 236,
     "metadata": {},
     "output_type": "execute_result"
    }
   ],
   "source": [
    "round(len(df[(df['HomeOwnershipType']==9) & (df['DefaultStatus']==0)])/len(df[(df['HomeOwnershipType']==9)]) *100, 3)"
   ]
  },
  {
   "cell_type": "markdown",
   "id": "d345e4a4",
   "metadata": {},
   "source": [
    "70% of applicants with other HomeOwnershipTyoe did not default."
   ]
  },
  {
   "cell_type": "code",
   "execution_count": 237,
   "id": "bd112585",
   "metadata": {},
   "outputs": [
    {
     "data": {
      "text/plain": [
       "70.873"
      ]
     },
     "execution_count": 237,
     "metadata": {},
     "output_type": "execute_result"
    }
   ],
   "source": [
    "round(len(df[(df['HomeOwnershipType']==10) & (df['DefaultStatus']==0)])/len(df[(df['HomeOwnershipType']==10)]) *100, 3)"
   ]
  },
  {
   "cell_type": "markdown",
   "id": "bb6f2caa",
   "metadata": {},
   "source": [
    "91% of applicants who are homeless defaulted."
   ]
  },
  {
   "cell_type": "code",
   "execution_count": 238,
   "id": "4fb4d5c2",
   "metadata": {},
   "outputs": [
    {
     "data": {
      "text/plain": [
       "91.304"
      ]
     },
     "execution_count": 238,
     "metadata": {},
     "output_type": "execute_result"
    }
   ],
   "source": [
    "round(len(df[(df['HomeOwnershipType']==0) & (df['DefaultStatus']==1)])/len(df[(df['HomeOwnershipType']==0)]) *100, 3)"
   ]
  },
  {
   "cell_type": "markdown",
   "id": "e0018271",
   "metadata": {},
   "source": [
    "27.808% of applicants who are owners defaulted."
   ]
  },
  {
   "cell_type": "code",
   "execution_count": 239,
   "id": "981ece38",
   "metadata": {},
   "outputs": [
    {
     "data": {
      "text/plain": [
       "27.808"
      ]
     },
     "execution_count": 239,
     "metadata": {},
     "output_type": "execute_result"
    }
   ],
   "source": [
    "round(len(df[(df['HomeOwnershipType']==1) & (df['DefaultStatus']==1)])/len(df[(df['HomeOwnershipType']==1)]) *100, 3)"
   ]
  },
  {
   "cell_type": "markdown",
   "id": "ab3c6780",
   "metadata": {},
   "source": [
    "42.3% of applicants living with their parents defaulted."
   ]
  },
  {
   "cell_type": "code",
   "execution_count": 240,
   "id": "d02eeb99",
   "metadata": {},
   "outputs": [
    {
     "data": {
      "text/plain": [
       "42.253"
      ]
     },
     "execution_count": 240,
     "metadata": {},
     "output_type": "execute_result"
    }
   ],
   "source": [
    "round(len(df[(df['HomeOwnershipType']==2) & (df['DefaultStatus']==1)])/len(df[(df['HomeOwnershipType']==2)]) *100, 3)"
   ]
  },
  {
   "cell_type": "markdown",
   "id": "c9a6da56",
   "metadata": {},
   "source": [
    "35% of applicants who are tenants with pre-furnished property defaulted."
   ]
  },
  {
   "cell_type": "code",
   "execution_count": 241,
   "id": "02084a85",
   "metadata": {},
   "outputs": [
    {
     "data": {
      "text/plain": [
       "34.819"
      ]
     },
     "execution_count": 241,
     "metadata": {},
     "output_type": "execute_result"
    }
   ],
   "source": [
    "round(len(df[(df['HomeOwnershipType']==3) & (df['DefaultStatus']==1)])/len(df[(df['HomeOwnershipType']==3)]) *100, 3)"
   ]
  },
  {
   "cell_type": "markdown",
   "id": "254b92b8",
   "metadata": {},
   "source": [
    "65% of applicants who are tenants with unfurnished property defaulted."
   ]
  },
  {
   "cell_type": "code",
   "execution_count": 242,
   "id": "844e9631",
   "metadata": {},
   "outputs": [
    {
     "data": {
      "text/plain": [
       "64.835"
      ]
     },
     "execution_count": 242,
     "metadata": {},
     "output_type": "execute_result"
    }
   ],
   "source": [
    "round(len(df[(df['HomeOwnershipType']==4) & (df['DefaultStatus']==1)])/len(df[(df['HomeOwnershipType']==4)]) *100, 3)"
   ]
  },
  {
   "cell_type": "markdown",
   "id": "8f796b92",
   "metadata": {},
   "source": [
    "40% of appllicants living in council houses defaulted."
   ]
  },
  {
   "cell_type": "code",
   "execution_count": 243,
   "id": "a51fcc42",
   "metadata": {},
   "outputs": [
    {
     "data": {
      "text/plain": [
       "40.018"
      ]
     },
     "execution_count": 243,
     "metadata": {},
     "output_type": "execute_result"
    }
   ],
   "source": [
    "round(len(df[(df['HomeOwnershipType']==5) & (df['DefaultStatus']==1)])/len(df[(df['HomeOwnershipType']==5)]) *100, 3)"
   ]
  },
  {
   "cell_type": "markdown",
   "id": "f593c2d9",
   "metadata": {},
   "source": [
    "58% of applicants with joint tenants defaulted."
   ]
  },
  {
   "cell_type": "code",
   "execution_count": 244,
   "id": "529d8e69",
   "metadata": {},
   "outputs": [
    {
     "data": {
      "text/plain": [
       "58.061"
      ]
     },
     "execution_count": 244,
     "metadata": {},
     "output_type": "execute_result"
    }
   ],
   "source": [
    "round(len(df[(df['HomeOwnershipType']==6) & (df['DefaultStatus']==1)])/len(df[(df['HomeOwnershipType']==6)]) *100, 3)"
   ]
  },
  {
   "cell_type": "markdown",
   "id": "5688de2a",
   "metadata": {},
   "source": [
    "46.7% of applicants with Joint Ownership defaulted."
   ]
  },
  {
   "cell_type": "code",
   "execution_count": 245,
   "id": "5e188393",
   "metadata": {},
   "outputs": [
    {
     "data": {
      "text/plain": [
       "46.683"
      ]
     },
     "execution_count": 245,
     "metadata": {},
     "output_type": "execute_result"
    }
   ],
   "source": [
    "round(len(df[(df['HomeOwnershipType']==7) & (df['DefaultStatus']==1)])/len(df[(df['HomeOwnershipType']==7)]) *100, 3)"
   ]
  },
  {
   "cell_type": "markdown",
   "id": "e3cf7cb8",
   "metadata": {},
   "source": [
    "36& of applicants with Mortgage defaulted."
   ]
  },
  {
   "cell_type": "code",
   "execution_count": 246,
   "id": "96150e98",
   "metadata": {},
   "outputs": [
    {
     "data": {
      "text/plain": [
       "36.052"
      ]
     },
     "execution_count": 246,
     "metadata": {},
     "output_type": "execute_result"
    }
   ],
   "source": [
    "round(len(df[(df['HomeOwnershipType']==8) & (df['DefaultStatus']==1)])/len(df[(df['HomeOwnershipType']==8)]) *100, 3)"
   ]
  },
  {
   "cell_type": "markdown",
   "id": "7d752017",
   "metadata": {},
   "source": [
    "43% of applicants who are owners with encumbrance defaulted."
   ]
  },
  {
   "cell_type": "code",
   "execution_count": 247,
   "id": "f79fa88c",
   "metadata": {},
   "outputs": [
    {
     "data": {
      "text/plain": [
       "43.356"
      ]
     },
     "execution_count": 247,
     "metadata": {},
     "output_type": "execute_result"
    }
   ],
   "source": [
    "round(len(df[(df['HomeOwnershipType']==9) & (df['DefaultStatus']==1)])/len(df[(df['HomeOwnershipType']==9)]) *100, 3)"
   ]
  },
  {
   "cell_type": "markdown",
   "id": "4ef2843f",
   "metadata": {},
   "source": [
    "29% of applicants with other HomeOwnershipTyoe defaulted."
   ]
  },
  {
   "cell_type": "code",
   "execution_count": 248,
   "id": "bac5c1e0",
   "metadata": {},
   "outputs": [
    {
     "data": {
      "text/plain": [
       "29.127"
      ]
     },
     "execution_count": 248,
     "metadata": {},
     "output_type": "execute_result"
    }
   ],
   "source": [
    "round(len(df[(df['HomeOwnershipType']==10) & (df['DefaultStatus']==1)])/len(df[(df['HomeOwnershipType']==10)]) *100, 3)"
   ]
  },
  {
   "cell_type": "code",
   "execution_count": 249,
   "id": "1e49cad0",
   "metadata": {},
   "outputs": [
    {
     "data": {
      "text/plain": [
       "-1      203852\n",
       " 7        9700\n",
       " 2        9191\n",
       " 0        6914\n",
       " 6        3151\n",
       " 3        1952\n",
       " 5        1787\n",
       " 8        1519\n",
       " 4        1366\n",
       " 1         955\n",
       " 102        21\n",
       " 110        17\n",
       " 104         6\n",
       " 101         5\n",
       " 107         2\n",
       " 108         1\n",
       " 106         1\n",
       "Name: UseOfLoan, dtype: int64"
      ]
     },
     "execution_count": 249,
     "metadata": {},
     "output_type": "execute_result"
    }
   ],
   "source": [
    "df['UseOfLoan'].value_counts()"
   ]
  },
  {
   "cell_type": "code",
   "execution_count": 250,
   "id": "c589635a",
   "metadata": {},
   "outputs": [
    {
     "data": {
      "image/png": "[encoded data removed]",
      "text/plain": [
       "<Figure size 936x720 with 1 Axes>"
      ]
     },
     "metadata": {},
     "output_type": "display_data"
    }
   ],
   "source": [
    "sns.set_theme(style=\"whitegrid\")\n",
    "sns.set(rc = {'figure.figsize':(13,10)})\n",
    "ax = sns.countplot(x='UseOfLoan', data=df)"
   ]
  },
  {
   "cell_type": "code",
   "execution_count": 251,
   "id": "703320a7",
   "metadata": {},
   "outputs": [
    {
     "data": {
      "text/plain": [
       "-1      84.782898\n",
       " 7       4.034271\n",
       " 2       3.822575\n",
       " 0       2.875561\n",
       " 6       1.310514\n",
       " 3       0.811845\n",
       " 5       0.743221\n",
       " 8       0.631758\n",
       " 4       0.568125\n",
       " 1       0.397188\n",
       " 102     0.008734\n",
       " 110     0.007070\n",
       " 104     0.002495\n",
       " 101     0.002080\n",
       " 107     0.000832\n",
       " 108     0.000416\n",
       " 106     0.000416\n",
       "Name: UseOfLoan, dtype: float64"
      ]
     },
     "execution_count": 251,
     "metadata": {},
     "output_type": "execute_result"
    }
   ],
   "source": [
    "df['UseOfLoan'].value_counts()/len(df)* 100"
   ]
  }
 ],
 "metadata": {
  "kernelspec": {
   "display_name": "Python 3.10.6 64-bit",
   "language": "python",
   "name": "python3"
  },
  "language_info": {
   "codemirror_mode": {
    "name": "ipython",
    "version": 3
   },
   "file_extension": ".py",
   "mimetype": "text/x-python",
   "name": "python",
   "nbconvert_exporter": "python",
   "pygments_lexer": "ipython3",
   "version": "3.10.6"
  },
  "vscode": {
   "interpreter": {
    "hash": "ac2f1e27202f9df0ab6b21406e2f6823ed0977a3cceaf9dc648a435137dcaa62"
   }
  }
 },
 "nbformat": 4,
 "nbformat_minor": 5
}
