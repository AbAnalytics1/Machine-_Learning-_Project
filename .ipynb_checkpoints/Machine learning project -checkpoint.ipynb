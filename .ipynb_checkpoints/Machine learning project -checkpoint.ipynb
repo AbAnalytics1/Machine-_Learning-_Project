{
 "cells": [
  {
   "cell_type": "code",
   "execution_count": 1,
   "id": "66d19cd5",
   "metadata": {},
   "outputs": [],
   "source": [
    "# For data manipulation Pandas and numpy will be used \n",
    "import pandas as pd\n",
    "import numpy as np\n",
    "import os\n",
    "\n",
    "# No warnings about setting value on copy of slice\n",
    "pd.options.mode.chained_assignment = None\n",
    "\n",
    "# Display up to 60 columns of a dataframe\n",
    "pd.set_option('display.max_columns', 60)\n",
    "\n",
    "\n",
    "\n",
    "# Matplotlib visualization\n",
    "import matplotlib.pyplot as plt\n",
    "%matplotlib inline\n",
    "import seaborn as sns\n",
    "sns.set(font_scale = 2)\n",
    "# Splitting data into training and testing\n",
    "from sklearn.model_selection import train_test_split\n",
    "\n",
    "from sklearn.metrics import (\n",
    "    accuracy_score, confusion_matrix, classification_report, \n",
    "    roc_auc_score, roc_curve, auc,\n",
    "    plot_confusion_matrix, plot_roc_curve\n",
    ")\n",
    "#Machine learning mordels \n",
    "from sklearn.linear_model import LogisticRegression\n",
    "from sklearn.ensemble import RandomForestClassifier\n",
    "from sklearn.tree import DecisionTreeClassifier\n",
    "from sklearn.svm import SVC\n",
    "from sklearn.neighbors import KNeighborsClassifier\n",
    "\n",
    "\n"
   ]
  },
  {
   "cell_type": "code",
   "execution_count": 2,
   "id": "b0a8fb7e",
   "metadata": {},
   "outputs": [
    {
     "name": "stdout",
     "output_type": "stream",
     "text": [
      "C:\\Users\\Abena\\OneDrive - UWE Bristol\\Desktop\\LoanData - Copy\n"
     ]
    }
   ],
   "source": [
    "print(os.getcwd())"
   ]
  },
  {
   "cell_type": "code",
   "execution_count": 3,
   "id": "0845b4c0",
   "metadata": {},
   "outputs": [
    {
     "data": {
      "text/html": [
       "<div>\n",
       "<style scoped>\n",
       "    .dataframe tbody tr th:only-of-type {\n",
       "        vertical-align: middle;\n",
       "    }\n",
       "\n",
       "    .dataframe tbody tr th {\n",
       "        vertical-align: top;\n",
       "    }\n",
       "\n",
       "    .dataframe thead th {\n",
       "        text-align: right;\n",
       "    }\n",
       "</style>\n",
       "<table border=\"1\" class=\"dataframe\">\n",
       "  <thead>\n",
       "    <tr style=\"text-align: right;\">\n",
       "      <th></th>\n",
       "      <th>NewCreditCustomer</th>\n",
       "      <th>Age</th>\n",
       "      <th>Gender</th>\n",
       "      <th>Amount</th>\n",
       "      <th>Interest</th>\n",
       "      <th>LoanDuration</th>\n",
       "      <th>Education</th>\n",
       "      <th>MaritalStatus</th>\n",
       "      <th>EmploymentStatus</th>\n",
       "      <th>HomeOwnershipType</th>\n",
       "      <th>IncomeTotal</th>\n",
       "      <th>Status</th>\n",
       "      <th>NoOfPreviousLoansBeforeLoan</th>\n",
       "      <th>AmountOfPreviousLoansBeforeLoan</th>\n",
       "      <th>PreviousRepaymentsBeforeLoan</th>\n",
       "    </tr>\n",
       "  </thead>\n",
       "  <tbody>\n",
       "    <tr>\n",
       "      <th>0</th>\n",
       "      <td>False</td>\n",
       "      <td>53</td>\n",
       "      <td>1.0</td>\n",
       "      <td>2125.0</td>\n",
       "      <td>20.97</td>\n",
       "      <td>60</td>\n",
       "      <td>4.0</td>\n",
       "      <td>2.0</td>\n",
       "      <td>6.0</td>\n",
       "      <td>1.0</td>\n",
       "      <td>354.0</td>\n",
       "      <td>Late</td>\n",
       "      <td>1.0</td>\n",
       "      <td>500.0</td>\n",
       "      <td>590.95</td>\n",
       "    </tr>\n",
       "    <tr>\n",
       "      <th>1</th>\n",
       "      <td>False</td>\n",
       "      <td>25</td>\n",
       "      <td>0.0</td>\n",
       "      <td>531.0</td>\n",
       "      <td>25.27</td>\n",
       "      <td>60</td>\n",
       "      <td>1.0</td>\n",
       "      <td>-1.0</td>\n",
       "      <td>-1.0</td>\n",
       "      <td>1.0</td>\n",
       "      <td>947.0</td>\n",
       "      <td>Current</td>\n",
       "      <td>8.0</td>\n",
       "      <td>8609.0</td>\n",
       "      <td>931.98</td>\n",
       "    </tr>\n",
       "    <tr>\n",
       "      <th>2</th>\n",
       "      <td>False</td>\n",
       "      <td>50</td>\n",
       "      <td>1.0</td>\n",
       "      <td>3000.0</td>\n",
       "      <td>17.12</td>\n",
       "      <td>60</td>\n",
       "      <td>5.0</td>\n",
       "      <td>2.0</td>\n",
       "      <td>5.0</td>\n",
       "      <td>1.0</td>\n",
       "      <td>900.0</td>\n",
       "      <td>Repaid</td>\n",
       "      <td>1.0</td>\n",
       "      <td>1800.0</td>\n",
       "      <td>445.26</td>\n",
       "    </tr>\n",
       "    <tr>\n",
       "      <th>3</th>\n",
       "      <td>True</td>\n",
       "      <td>44</td>\n",
       "      <td>0.0</td>\n",
       "      <td>9100.0</td>\n",
       "      <td>13.67</td>\n",
       "      <td>60</td>\n",
       "      <td>4.0</td>\n",
       "      <td>4.0</td>\n",
       "      <td>5.0</td>\n",
       "      <td>8.0</td>\n",
       "      <td>1200.0</td>\n",
       "      <td>Repaid</td>\n",
       "      <td>0.0</td>\n",
       "      <td>0.0</td>\n",
       "      <td>0.00</td>\n",
       "    </tr>\n",
       "    <tr>\n",
       "      <th>4</th>\n",
       "      <td>True</td>\n",
       "      <td>42</td>\n",
       "      <td>0.0</td>\n",
       "      <td>1500.0</td>\n",
       "      <td>40.40</td>\n",
       "      <td>60</td>\n",
       "      <td>2.0</td>\n",
       "      <td>1.0</td>\n",
       "      <td>3.0</td>\n",
       "      <td>2.0</td>\n",
       "      <td>863.0</td>\n",
       "      <td>Late</td>\n",
       "      <td>0.0</td>\n",
       "      <td>0.0</td>\n",
       "      <td>0.00</td>\n",
       "    </tr>\n",
       "  </tbody>\n",
       "</table>\n",
       "</div>"
      ],
      "text/plain": [
       "   NewCreditCustomer  Age  Gender  Amount  Interest  LoanDuration  Education  \\\n",
       "0              False   53     1.0  2125.0     20.97            60        4.0   \n",
       "1              False   25     0.0   531.0     25.27            60        1.0   \n",
       "2              False   50     1.0  3000.0     17.12            60        5.0   \n",
       "3               True   44     0.0  9100.0     13.67            60        4.0   \n",
       "4               True   42     0.0  1500.0     40.40            60        2.0   \n",
       "\n",
       "   MaritalStatus  EmploymentStatus  HomeOwnershipType  IncomeTotal   Status  \\\n",
       "0            2.0               6.0                1.0        354.0     Late   \n",
       "1           -1.0              -1.0                1.0        947.0  Current   \n",
       "2            2.0               5.0                1.0        900.0   Repaid   \n",
       "3            4.0               5.0                8.0       1200.0   Repaid   \n",
       "4            1.0               3.0                2.0        863.0     Late   \n",
       "\n",
       "   NoOfPreviousLoansBeforeLoan  AmountOfPreviousLoansBeforeLoan  \\\n",
       "0                          1.0                            500.0   \n",
       "1                          8.0                           8609.0   \n",
       "2                          1.0                           1800.0   \n",
       "3                          0.0                              0.0   \n",
       "4                          0.0                              0.0   \n",
       "\n",
       "   PreviousRepaymentsBeforeLoan  \n",
       "0                        590.95  \n",
       "1                        931.98  \n",
       "2                        445.26  \n",
       "3                          0.00  \n",
       "4                          0.00  "
      ]
     },
     "execution_count": 3,
     "metadata": {},
     "output_type": "execute_result"
    }
   ],
   "source": [
    "# Feature extraction and selection\n",
    "col_list = [\"Age\",\"Gender\",\"Interest\",\"Amount\",\"NewCreditCustomer\",\"LoanDuration\",\"MaritalStatus\",\"Education\",\n",
    "            \"EmploymentStatus\",\"Status\",\"IncomeTotal\",\"NoOfPreviousLoansBeforeLoan\",\"AmountOfPreviousLoansBeforeLoan\",\n",
    "           \"PreviousRepaymentsBeforeLoan\",\"HomeOwnershipType\"]\n",
    "df = pd.read_csv(\"LoanData.csv\", usecols=col_list)\n",
    "\n",
    "df.head()"
   ]
  },
  {
   "cell_type": "code",
   "execution_count": 4,
   "id": "6e634626",
   "metadata": {},
   "outputs": [
    {
     "name": "stdout",
     "output_type": "stream",
     "text": [
      "<class 'pandas.core.frame.DataFrame'>\n",
      "RangeIndex: 240440 entries, 0 to 240439\n",
      "Data columns (total 15 columns):\n",
      " #   Column                           Non-Null Count   Dtype  \n",
      "---  ------                           --------------   -----  \n",
      " 0   NewCreditCustomer                240440 non-null  bool   \n",
      " 1   Age                              240440 non-null  int64  \n",
      " 2   Gender                           240395 non-null  float64\n",
      " 3   Amount                           240440 non-null  float64\n",
      " 4   Interest                         240440 non-null  float64\n",
      " 5   LoanDuration                     240440 non-null  int64  \n",
      " 6   Education                        240390 non-null  float64\n",
      " 7   MaritalStatus                    240390 non-null  float64\n",
      " 8   EmploymentStatus                 240238 non-null  float64\n",
      " 9   HomeOwnershipType                238783 non-null  float64\n",
      " 10  IncomeTotal                      240440 non-null  float64\n",
      " 11  Status                           240440 non-null  object \n",
      " 12  NoOfPreviousLoansBeforeLoan      240432 non-null  float64\n",
      " 13  AmountOfPreviousLoansBeforeLoan  240432 non-null  float64\n",
      " 14  PreviousRepaymentsBeforeLoan     151222 non-null  float64\n",
      "dtypes: bool(1), float64(11), int64(2), object(1)\n",
      "memory usage: 25.9+ MB\n"
     ]
    }
   ],
   "source": [
    "#Data structure \n",
    "df.info()"
   ]
  },
  {
   "cell_type": "code",
   "execution_count": 21,
   "id": "62791f65",
   "metadata": {},
   "outputs": [
    {
     "data": {
      "text/plain": [
       "NewCreditCustomer                      0\n",
       "Age                                    0\n",
       "Gender                                 0\n",
       "Amount                                 0\n",
       "Interest                               0\n",
       "LoanDuration                           0\n",
       "Education                              0\n",
       "MaritalStatus                          0\n",
       "EmploymentStatus                       0\n",
       "HomeOwnershipType                      0\n",
       "IncomeTotal                            0\n",
       "Status                                 0\n",
       "NoOfPreviousLoansBeforeLoan            8\n",
       "AmountOfPreviousLoansBeforeLoan        8\n",
       "PreviousRepaymentsBeforeLoan       89218\n",
       "dtype: int64"
      ]
     },
     "execution_count": 21,
     "metadata": {},
     "output_type": "execute_result"
    }
   ],
   "source": [
    "#Finding the missing values for each column in the dataset.   \n",
    "df.isna().sum()"
   ]
  },
  {
   "cell_type": "code",
   "execution_count": 19,
   "id": "7dc2ca6a",
   "metadata": {},
   "outputs": [],
   "source": [
    "#HANDLING MISSING VALUES.\n",
    "#I replaced the missing values by creating an unkown category.\n",
    "#Missing_Gender value, 2 = Undefined\n",
    "#Missing HomeOwnershipType value, 11 = Unknown\n",
    "#Missing_EmploymentStatus value, 7 = Unknown\n",
    "#Missing_MaritalStatus value, 6 = unknown\n",
    "#Misiing_Education value, 6 = unknown \n",
    "\n",
    "df.loc[df['Gender'].isnull(), 'Gender'] = 2\n",
    "df.loc[df['HomeOwnershipType'].isnull(),'HomeOwnershipType']= 11\n",
    "df.loc[df['EmploymentStatus'].isnull(),'EmploymentStatus']= 7\n",
    "df.loc[df['Education'].isnull(),'Education']= 6\n",
    "df.loc[df['MaritalStatus'].isnull(),'MaritalStatus']= 6\n"
   ]
  },
  {
   "cell_type": "code",
   "execution_count": 11,
   "id": "5a420dd3",
   "metadata": {},
   "outputs": [
    {
     "data": {
      "text/plain": [
       "0          4.0\n",
       "1          1.0\n",
       "2          5.0\n",
       "3          4.0\n",
       "4          2.0\n",
       "          ... \n",
       "240435    -1.0\n",
       "240436     3.0\n",
       "240437     3.0\n",
       "240438     4.0\n",
       "240439     4.0\n",
       "Name: Education, Length: 240440, dtype: object"
      ]
     },
     "execution_count": 11,
     "metadata": {},
     "output_type": "execute_result"
    }
   ],
   "source": [
    "df['Education']"
   ]
  },
  {
   "cell_type": "code",
   "execution_count": 22,
   "id": "5cb8d577",
   "metadata": {},
   "outputs": [
    {
     "name": "stdout",
     "output_type": "stream",
     "text": [
      "Exception reporting mode: Minimal\n"
     ]
    },
    {
     "ename": "SchemaErrors",
     "evalue": "A total of 19 schema errors were found.\n\nError Counts\n------------\n- column_not_in_schema: 11\n- schema_component_check: 8\n\nSchema Error Summary\n--------------------\n                                                                                                                                                                                                                                             failure_cases  n_failure_cases\nschema_context  column            check                                                                                                                                                                                                                                    \nDataFrameSchema <NA>              column_in_schema                       [NewCreditCustomer, Gender, Amount, Interest, LoanDuration, IncomeTotal, Status, NoOfPreviousLoansBeforeLoan, AmountOfPreviousLoansBeforeLoan, PreviousRepaymentsBeforeLoan, Age]               11\nColumn          Education         dtype('str')                                                                                                                                                                                                   [float64]                1\n                                  isin({1, 2, 3, 4, 5})                                                                                                                                                                                   [-1.0, 6.0, 0.0]                3\n                EmploymentStatus  dtype('str')                                                                                                                                                                                                   [float64]                1\n                                  isin({1, 2, 3, 4, 5, 6})                                                                                                                                                                                [-1.0, 7.0, 0.0]                3\n                HomeOwnershipType dtype('str')                                                                                                                                                                                                   [float64]                1\n                                  isin({1, 2, 3, 4, 5, 6, 7, 8, 9, 10})                                                                                                                                                                  [0.0, 11.0, -1.0]                3\n                MaritalStatus     dtype('str')                                                                                                                                                                                                   [float64]                1\n                                  isin({1, 2, 3, 4, 5})                                                                                                                                                                                   [-1.0, 6.0, 0.0]                3\n\nUsage Tip\n---------\n\nDirectly inspect all errors by catching the exception:\n\n```\ntry:\n    schema.validate(dataframe, lazy=True)\nexcept SchemaErrors as err:\n    err.failure_cases  # dataframe of schema errors\n    err.data  # invalid dataframe\n```\n",
     "output_type": "error",
     "traceback": [
      "\u001b[1;31mSchemaErrors\u001b[0m\u001b[1;31m:\u001b[0m A total of 19 schema errors were found.\n\nError Counts\n------------\n- column_not_in_schema: 11\n- schema_component_check: 8\n\nSchema Error Summary\n--------------------\n                                                                                                                                                                                                                                             failure_cases  n_failure_cases\nschema_context  column            check                                                                                                                                                                                                                                    \nDataFrameSchema <NA>              column_in_schema                       [NewCreditCustomer, Gender, Amount, Interest, LoanDuration, IncomeTotal, Status, NoOfPreviousLoansBeforeLoan, AmountOfPreviousLoansBeforeLoan, PreviousRepaymentsBeforeLoan, Age]               11\nColumn          Education         dtype('str')                                                                                                                                                                                                   [float64]                1\n                                  isin({1, 2, 3, 4, 5})                                                                                                                                                                                   [-1.0, 6.0, 0.0]                3\n                EmploymentStatus  dtype('str')                                                                                                                                                                                                   [float64]                1\n                                  isin({1, 2, 3, 4, 5, 6})                                                                                                                                                                                [-1.0, 7.0, 0.0]                3\n                HomeOwnershipType dtype('str')                                                                                                                                                                                                   [float64]                1\n                                  isin({1, 2, 3, 4, 5, 6, 7, 8, 9, 10})                                                                                                                                                                  [0.0, 11.0, -1.0]                3\n                MaritalStatus     dtype('str')                                                                                                                                                                                                   [float64]                1\n                                  isin({1, 2, 3, 4, 5})                                                                                                                                                                                   [-1.0, 6.0, 0.0]                3\n\nUsage Tip\n---------\n\nDirectly inspect all errors by catching the exception:\n\n```\ntry:\n    schema.validate(dataframe, lazy=True)\nexcept SchemaErrors as err:\n    err.failure_cases  # dataframe of schema errors\n    err.data  # invalid dataframe\n```\n\n"
     ]
    }
   ],
   "source": [
    "import pandera as pa\n",
    "\n",
    "# Data validations to check featured observations\n",
    "from pandera import Check, Column, DataFrameSchema\n",
    "\n",
    "#suppress traceback error and reveal only validation errors \n",
    "%xmode Minimal\n",
    "\n",
    "schema = pa.DataFrameSchema(\n",
    "    columns={\n",
    "        \"Education\": pa.Column(str,Check.isin([1,2,3,4,5])),\n",
    "        \"MaritalStatus\": pa.Column(str,Check.isin([1,2,3,4,5])),\n",
    "        \"EmploymentStatus\": pa.Column(str,Check.isin([1,2,3,4,5,6])),\n",
    "        \"HomeOwnershipType\": pa.Column(str,Check.isin([1,2,3,4,5,6,7,8,9,10]))\n",
    "    },\n",
    "  strict=True\n",
    ")\n",
    "\n",
    "schema.validate(df, lazy=True)"
   ]
  },
  {
   "cell_type": "code",
   "execution_count": null,
   "id": "41dd95f4",
   "metadata": {},
   "outputs": [],
   "source": [
    "\n",
    "    "
   ]
  }
 ],
 "metadata": {
  "kernelspec": {
   "display_name": "Python 3",
   "language": "python",
   "name": "python3"
  },
  "language_info": {
   "codemirror_mode": {
    "name": "ipython",
    "version": 3
   },
   "file_extension": ".py",
   "mimetype": "text/x-python",
   "name": "python",
   "nbconvert_exporter": "python",
   "pygments_lexer": "ipython3",
   "version": "3.8.8"
  }
 },
 "nbformat": 4,
 "nbformat_minor": 5
}
